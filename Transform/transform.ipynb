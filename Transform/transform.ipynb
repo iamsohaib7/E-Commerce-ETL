{
 "cells": [
  {
   "cell_type": "code",
   "execution_count": null,
   "id": "0bd5a497",
   "metadata": {
    "ExecuteTime": {
     "end_time": "2025-03-09T11:43:33.598918Z",
     "start_time": "2025-03-09T11:43:33.594389Z"
    }
   },
   "outputs": [],
   "source": [
    "import os"
   ]
  },
  {
   "cell_type": "code",
   "execution_count": null,
   "id": "initial_id",
   "metadata": {
    "ExecuteTime": {
     "end_time": "2025-03-09T11:44:55.461973Z",
     "start_time": "2025-03-09T11:44:55.457905Z"
    }
   },
   "outputs": [],
   "source": [
    "import pandas as pd\n",
    "\n",
    "from Extract.extract_s3 import extract_s3\n",
    "from dotenv import load_dotenv"
   ]
  },
  {
   "cell_type": "code",
   "execution_count": null,
   "id": "2f354ca62f5d0192",
   "metadata": {
    "ExecuteTime": {
     "end_time": "2025-03-09T11:44:56.095200Z",
     "start_time": "2025-03-09T11:44:56.089725Z"
    }
   },
   "outputs": [],
   "source": [
    "load_dotenv()\n",
    "BUCKET = os.getenv(\"BUCKET_NAME\")"
   ]
  },
  {
   "cell_type": "markdown",
   "id": "734a6d59a810f6e3",
   "metadata": {},
   "source": [
    "## Extracting Data from S3"
   ]
  },
  {
   "cell_type": "code",
   "execution_count": null,
   "id": "e04dc67b421c22b8",
   "metadata": {
    "ExecuteTime": {
     "end_time": "2025-03-09T11:45:15.387396Z",
     "start_time": "2025-03-09T11:45:09.150102Z"
    }
   },
   "outputs": [],
   "source": [
    "# customers\n",
    "customers_df = extract_s3(bucket=BUCKET, key=\"Data/customers.parquet\")\n",
    "if customers_df is None:\n",
    "    raise ValueError(\"No data found\")"
   ]
  },
  {
   "cell_type": "code",
   "execution_count": null,
   "id": "5e4af1d0de8305be",
   "metadata": {
    "ExecuteTime": {
     "end_time": "2025-03-09T11:45:24.616738Z",
     "start_time": "2025-03-09T11:45:17.937053Z"
    }
   },
   "outputs": [],
   "source": [
    "# order items\n",
    "order_items_df = extract_s3(BUCKET, key=\"Data/order_items.parquet\")\n",
    "if order_items_df is None:\n",
    "    raise ValueError(\"No data found\")"
   ]
  },
  {
   "cell_type": "code",
   "execution_count": null,
   "id": "dab1601035ca3aa0",
   "metadata": {
    "ExecuteTime": {
     "end_time": "2025-03-09T11:45:29.701635Z",
     "start_time": "2025-03-09T11:45:24.623981Z"
    }
   },
   "outputs": [],
   "source": [
    "# order payments\n",
    "order_payments_df = extract_s3(BUCKET, key=\"Data/order_payments.parquet\")"
   ]
  },
  {
   "cell_type": "code",
   "execution_count": null,
   "id": "4079a6bf5e78ec89",
   "metadata": {
    "ExecuteTime": {
     "end_time": "2025-03-09T11:45:46.403528Z",
     "start_time": "2025-03-09T11:45:29.717071Z"
    }
   },
   "outputs": [],
   "source": [
    "# order reviews\n",
    "order_reviews_df = extract_s3(BUCKET, key=\"Data/order_reviews.parquet\")\n",
    "if order_reviews_df is None:\n",
    "    raise ValueError(\"No data found\")"
   ]
  },
  {
   "cell_type": "code",
   "execution_count": null,
   "id": "89468a9c5e6ae34f",
   "metadata": {
    "ExecuteTime": {
     "end_time": "2025-03-09T11:45:55.782430Z",
     "start_time": "2025-03-09T11:45:46.420609Z"
    }
   },
   "outputs": [],
   "source": [
    "# orders\n",
    "orders_df = extract_s3(BUCKET, key=\"Data/orders.parquet\")\n",
    "if orders_df is None:\n",
    "    raise ValueError(\"No data found\")"
   ]
  },
  {
   "cell_type": "code",
   "execution_count": null,
   "id": "8400d8becdafd0cd",
   "metadata": {
    "ExecuteTime": {
     "end_time": "2025-03-09T11:45:58.659141Z",
     "start_time": "2025-03-09T11:45:55.800441Z"
    }
   },
   "outputs": [],
   "source": [
    "# product categories\n",
    "product_category_df = extract_s3(BUCKET, key=\"Data/product_categories.parquet\")\n",
    "if product_category_df is None:\n",
    "    raise ValueError(\"No data found\")"
   ]
  },
  {
   "cell_type": "code",
   "execution_count": null,
   "id": "aae1202a822461be",
   "metadata": {
    "ExecuteTime": {
     "end_time": "2025-03-09T11:46:04.436083Z",
     "start_time": "2025-03-09T11:45:58.679282Z"
    }
   },
   "outputs": [],
   "source": [
    "# products\n",
    "products_df = extract_s3(BUCKET, key=\"Data/products.parquet\")\n",
    "if products_df is None:\n",
    "    raise ValueError(\"No data found\")"
   ]
  },
  {
   "cell_type": "code",
   "execution_count": null,
   "id": "ba2b78489333a406",
   "metadata": {
    "ExecuteTime": {
     "end_time": "2025-03-09T11:46:08.255769Z",
     "start_time": "2025-03-09T11:46:04.489176Z"
    }
   },
   "outputs": [],
   "source": [
    "# sellers\n",
    "sellers_df = extract_s3(BUCKET, key=\"Data/sellers.parquet\")\n",
    "if sellers_df is None:\n",
    "    raise ValueError(\"No data found\")"
   ]
  },
  {
   "cell_type": "markdown",
   "id": "590c9194853800b0",
   "metadata": {},
   "source": [
    "## Cleaning Data"
   ]
  },
  {
   "cell_type": "markdown",
   "id": "a9b02e033419f9e1",
   "metadata": {},
   "source": [
    "### Customers"
   ]
  },
  {
   "cell_type": "code",
   "execution_count": null,
   "id": "7f408ef4dc3226f7",
   "metadata": {
    "ExecuteTime": {
     "end_time": "2025-03-09T11:46:13.305024Z",
     "start_time": "2025-03-09T11:46:13.294538Z"
    }
   },
   "outputs": [],
   "source": [
    "customers_df.head()"
   ]
  },
  {
   "cell_type": "code",
   "execution_count": null,
   "id": "cb00e11745a0d4f1",
   "metadata": {
    "ExecuteTime": {
     "end_time": "2025-03-09T11:46:14.398811Z",
     "start_time": "2025-03-09T11:46:14.393515Z"
    }
   },
   "outputs": [],
   "source": [
    "customers_df.shape"
   ]
  },
  {
   "cell_type": "code",
   "execution_count": null,
   "id": "3076bcd9943e6d0e",
   "metadata": {
    "ExecuteTime": {
     "end_time": "2025-03-09T11:46:15.225374Z",
     "start_time": "2025-03-09T11:46:15.199242Z"
    }
   },
   "outputs": [],
   "source": [
    "customers_df.info()"
   ]
  },
  {
   "cell_type": "code",
   "execution_count": null,
   "id": "c5055cb07b983744",
   "metadata": {
    "ExecuteTime": {
     "end_time": "2025-03-09T11:46:15.978958Z",
     "start_time": "2025-03-09T11:46:15.901526Z"
    }
   },
   "outputs": [],
   "source": [
    "customers_df.duplicated().sum()"
   ]
  },
  {
   "cell_type": "code",
   "execution_count": null,
   "id": "bbafbd3df2fc6960",
   "metadata": {
    "ExecuteTime": {
     "end_time": "2025-03-09T11:46:17.029343Z",
     "start_time": "2025-03-09T11:46:17.025252Z"
    }
   },
   "outputs": [],
   "source": [
    "from uuid import UUID"
   ]
  },
  {
   "cell_type": "code",
   "execution_count": null,
   "id": "a677c5b5c20037b9",
   "metadata": {
    "ExecuteTime": {
     "end_time": "2025-03-09T11:46:17.943113Z",
     "start_time": "2025-03-09T11:46:17.650650Z"
    }
   },
   "outputs": [],
   "source": [
    "# converting object to uuid\n",
    "customers_df[\"customer_id\"] = customers_df[\"customer_id\"].apply(UUID)\n",
    "customers_df[\"customer_unique_id\"] = customers_df[\"customer_unique_id\"].apply(UUID)"
   ]
  },
  {
   "cell_type": "code",
   "execution_count": null,
   "id": "573f364fa506045c",
   "metadata": {
    "ExecuteTime": {
     "end_time": "2025-03-09T11:46:18.238902Z",
     "start_time": "2025-03-09T11:46:18.217495Z"
    }
   },
   "outputs": [],
   "source": [
    "customers_df.isnull().sum()"
   ]
  },
  {
   "cell_type": "code",
   "execution_count": null,
   "id": "c84965b6b1b7ea41",
   "metadata": {
    "ExecuteTime": {
     "end_time": "2025-03-09T11:46:19.019337Z",
     "start_time": "2025-03-09T11:46:18.779889Z"
    }
   },
   "outputs": [],
   "source": [
    "# id to name mapping in customers\n",
    "id_to_name = {\n",
    "    cust_id: f\"Customer_{idx + 1}\"\n",
    "    for idx, cust_id in enumerate(customers_df[\"customer_unique_id\"].unique())\n",
    "}\n",
    "customers_df[\"customer_name\"] = customers_df[\"customer_unique_id\"].map(id_to_name)"
   ]
  },
  {
   "cell_type": "markdown",
   "id": "a7d8b54aad7f05ed",
   "metadata": {},
   "source": [
    "### Order Items"
   ]
  },
  {
   "cell_type": "code",
   "execution_count": null,
   "id": "40ab259798b12e28",
   "metadata": {
    "ExecuteTime": {
     "end_time": "2025-03-09T11:46:20.056946Z",
     "start_time": "2025-03-09T11:46:20.045800Z"
    }
   },
   "outputs": [],
   "source": [
    "order_items_df.head()"
   ]
  },
  {
   "cell_type": "code",
   "execution_count": null,
   "id": "13404f5d52053b3f",
   "metadata": {
    "ExecuteTime": {
     "end_time": "2025-03-09T11:46:20.686658Z",
     "start_time": "2025-03-09T11:46:20.680923Z"
    }
   },
   "outputs": [],
   "source": [
    "order_items_df.shape"
   ]
  },
  {
   "cell_type": "code",
   "execution_count": null,
   "id": "bfde21b16cfad01e",
   "metadata": {
    "ExecuteTime": {
     "end_time": "2025-03-09T11:46:21.383340Z",
     "start_time": "2025-03-09T11:46:21.362843Z"
    }
   },
   "outputs": [],
   "source": [
    "order_items_df.info()"
   ]
  },
  {
   "cell_type": "code",
   "execution_count": null,
   "id": "89b2e28bf118e5ce",
   "metadata": {
    "ExecuteTime": {
     "end_time": "2025-03-09T11:46:22.080442Z",
     "start_time": "2025-03-09T11:46:22.066259Z"
    }
   },
   "outputs": [],
   "source": [
    "order_items_df.sample(10)"
   ]
  },
  {
   "cell_type": "code",
   "execution_count": null,
   "id": "5b9babf4add9223e",
   "metadata": {
    "ExecuteTime": {
     "end_time": "2025-03-09T11:46:23.041448Z",
     "start_time": "2025-03-09T11:46:23.024764Z"
    }
   },
   "outputs": [],
   "source": [
    "order_items_df.drop([\"order_items_id\"], axis=1, inplace=True)"
   ]
  },
  {
   "cell_type": "markdown",
   "id": "dbb1962f92001bf2",
   "metadata": {},
   "source": [
    "Dropping `order_items_id` because it doesn't provide any information about dataset. It simply acts as the index value."
   ]
  },
  {
   "cell_type": "code",
   "execution_count": null,
   "id": "b868efe786b4de58",
   "metadata": {
    "ExecuteTime": {
     "end_time": "2025-03-09T11:46:24.630572Z",
     "start_time": "2025-03-09T11:46:24.625294Z"
    }
   },
   "outputs": [],
   "source": [
    "order_items_df.rename({\"quantity\": \"order_item_id\"}, axis=1, inplace=True)"
   ]
  },
  {
   "cell_type": "markdown",
   "id": "ca9335d6286e570c",
   "metadata": {},
   "source": [
    "**Note:** Previously `order_item_id` was misjudged as `quantity`, it was used in total price calculation. So we have to fix the total price by recalculating it.\n",
    "`order_item_id` shows the id of item in particular order."
   ]
  },
  {
   "cell_type": "code",
   "execution_count": null,
   "id": "815c3e6b1246afa1",
   "metadata": {
    "ExecuteTime": {
     "end_time": "2025-03-09T11:46:25.808326Z",
     "start_time": "2025-03-09T11:46:25.799672Z"
    }
   },
   "outputs": [],
   "source": [
    "order_items_df[\"total_price\"] = (\n",
    "    order_items_df[\"freight_value\"] + order_items_df[\"price\"]\n",
    ")"
   ]
  },
  {
   "cell_type": "markdown",
   "id": "3e8d85f0a18fddae",
   "metadata": {},
   "source": [
    "`total_price` was calculated with quantity which was `order_item_id`, so we have to recalculate the total price, where `price` shows the price of the product and `freight_value` shows the shipping cost of the particular order."
   ]
  },
  {
   "cell_type": "code",
   "execution_count": null,
   "id": "d75a1d85663d6e9b",
   "metadata": {
    "ExecuteTime": {
     "end_time": "2025-03-09T11:46:26.957789Z",
     "start_time": "2025-03-09T11:46:26.954125Z"
    }
   },
   "outputs": [],
   "source": [
    "import numpy as np"
   ]
  },
  {
   "cell_type": "code",
   "execution_count": null,
   "id": "7a59693aead76a82",
   "metadata": {
    "ExecuteTime": {
     "end_time": "2025-03-09T11:46:27.843138Z",
     "start_time": "2025-03-09T11:46:27.524845Z"
    }
   },
   "outputs": [],
   "source": [
    "order_items_df[\"total_price\"] = (\n",
    "    order_items_df[\"total_price\"].apply(np.round).astype(int)\n",
    ")"
   ]
  },
  {
   "cell_type": "code",
   "execution_count": null,
   "id": "7914409263129f97",
   "metadata": {
    "ExecuteTime": {
     "end_time": "2025-03-09T11:46:28.182747Z",
     "start_time": "2025-03-09T11:46:28.083424Z"
    }
   },
   "outputs": [],
   "source": [
    "order_items_df.duplicated().sum()"
   ]
  },
  {
   "cell_type": "code",
   "execution_count": null,
   "id": "d704b0390ae71266",
   "metadata": {
    "ExecuteTime": {
     "end_time": "2025-03-09T11:46:29.264990Z",
     "start_time": "2025-03-09T11:46:28.654740Z"
    }
   },
   "outputs": [],
   "source": [
    "order_items_df[\"order_id\"] = order_items_df[\"order_id\"].apply(UUID)\n",
    "order_items_df[\"product_id\"] = order_items_df[\"product_id\"].apply(UUID)\n",
    "order_items_df[\"seller_id\"] = order_items_df[\"seller_id\"].apply(UUID)"
   ]
  },
  {
   "cell_type": "markdown",
   "id": "a47a49c19d80c66b",
   "metadata": {},
   "source": [
    "### Order Payments"
   ]
  },
  {
   "cell_type": "code",
   "execution_count": null,
   "id": "2d9210b7e4e97c6e",
   "metadata": {
    "ExecuteTime": {
     "end_time": "2025-03-09T11:46:30.145533Z",
     "start_time": "2025-03-09T11:46:30.140475Z"
    }
   },
   "outputs": [],
   "source": [
    "order_payments_df.shape"
   ]
  },
  {
   "cell_type": "code",
   "execution_count": null,
   "id": "795567411698c804",
   "metadata": {
    "ExecuteTime": {
     "end_time": "2025-03-09T11:46:30.798294Z",
     "start_time": "2025-03-09T11:46:30.791447Z"
    }
   },
   "outputs": [],
   "source": [
    "order_payments_df.dtypes"
   ]
  },
  {
   "cell_type": "markdown",
   "id": "aa6d0a5ee6178c9a",
   "metadata": {},
   "source": [
    "`order_payments` is in correct datatypes."
   ]
  },
  {
   "cell_type": "code",
   "execution_count": null,
   "id": "bb6c0d7652bad3c5",
   "metadata": {
    "ExecuteTime": {
     "end_time": "2025-03-09T11:46:32.126880Z",
     "start_time": "2025-03-09T11:46:32.111239Z"
    }
   },
   "outputs": [],
   "source": [
    "order_payments_df.isnull().sum()"
   ]
  },
  {
   "cell_type": "code",
   "execution_count": null,
   "id": "a089932bfb000257",
   "metadata": {
    "ExecuteTime": {
     "end_time": "2025-03-09T11:46:32.843060Z",
     "start_time": "2025-03-09T11:46:32.798179Z"
    }
   },
   "outputs": [],
   "source": [
    "order_payments_df.duplicated().sum()"
   ]
  },
  {
   "cell_type": "code",
   "execution_count": null,
   "id": "1dbacee7009f3114",
   "metadata": {
    "ExecuteTime": {
     "end_time": "2025-03-09T11:46:33.619187Z",
     "start_time": "2025-03-09T11:46:33.476207Z"
    }
   },
   "outputs": [],
   "source": [
    "order_payments_df[\"order_id\"] = order_payments_df[\"order_id\"].apply(UUID)"
   ]
  },
  {
   "cell_type": "markdown",
   "id": "e7d896711ec71b4d",
   "metadata": {},
   "source": [
    "### Order Reviews"
   ]
  },
  {
   "cell_type": "code",
   "execution_count": null,
   "id": "d0dc2ee6c6c3556b",
   "metadata": {
    "ExecuteTime": {
     "end_time": "2025-03-09T11:46:34.724538Z",
     "start_time": "2025-03-09T11:46:34.718924Z"
    }
   },
   "outputs": [],
   "source": [
    "order_reviews_df.shape"
   ]
  },
  {
   "cell_type": "code",
   "execution_count": null,
   "id": "728c211b8f2a8604",
   "metadata": {
    "ExecuteTime": {
     "end_time": "2025-03-09T11:46:35.371767Z",
     "start_time": "2025-03-09T11:46:35.365167Z"
    }
   },
   "outputs": [],
   "source": [
    "order_reviews_df.dtypes"
   ]
  },
  {
   "cell_type": "code",
   "execution_count": null,
   "id": "9ca6f85e9e3a2df7",
   "metadata": {
    "ExecuteTime": {
     "end_time": "2025-03-09T11:46:36.034095Z",
     "start_time": "2025-03-09T11:46:36.011585Z"
    }
   },
   "outputs": [],
   "source": [
    "order_reviews_df.isnull().sum()"
   ]
  },
  {
   "cell_type": "markdown",
   "id": "9f5a889b853e1ef8",
   "metadata": {},
   "source": [
    "**NaN** values in `review_comment_title` and `review_comment_message` contains more than half of the data. So dropping them is needed."
   ]
  },
  {
   "cell_type": "code",
   "execution_count": null,
   "id": "e64bcdc5bee6e3db",
   "metadata": {
    "ExecuteTime": {
     "end_time": "2025-03-09T11:46:37.326465Z",
     "start_time": "2025-03-09T11:46:37.317185Z"
    }
   },
   "outputs": [],
   "source": [
    "order_reviews_df.head()"
   ]
  },
  {
   "cell_type": "code",
   "execution_count": null,
   "id": "24f604725851a06b",
   "metadata": {
    "ExecuteTime": {
     "end_time": "2025-03-09T11:46:38.029008Z",
     "start_time": "2025-03-09T11:46:38.016472Z"
    }
   },
   "outputs": [],
   "source": [
    "order_reviews_df.drop(\n",
    "    [\"review_comment_title\", \"review_comment_message\"], axis=1, inplace=True\n",
    ")"
   ]
  },
  {
   "cell_type": "code",
   "execution_count": null,
   "id": "ba2fb002edad69ae",
   "metadata": {
    "ExecuteTime": {
     "end_time": "2025-03-09T11:46:38.740297Z",
     "start_time": "2025-03-09T11:46:38.700228Z"
    }
   },
   "outputs": [],
   "source": [
    "order_reviews_df[\"review_answer_timestamp\"] = pd.to_datetime(\n",
    "    order_reviews_df[\"review_answer_timestamp\"]\n",
    ")"
   ]
  },
  {
   "cell_type": "code",
   "execution_count": null,
   "id": "7f2c4c138aab5dc2",
   "metadata": {
    "ExecuteTime": {
     "end_time": "2025-03-09T11:46:39.379647Z",
     "start_time": "2025-03-09T11:46:39.373710Z"
    }
   },
   "outputs": [],
   "source": [
    "order_reviews_df.dtypes"
   ]
  },
  {
   "cell_type": "code",
   "execution_count": null,
   "id": "e27a4034eb1ed114",
   "metadata": {
    "ExecuteTime": {
     "end_time": "2025-03-09T11:46:40.095749Z",
     "start_time": "2025-03-09T11:46:40.030554Z"
    }
   },
   "outputs": [],
   "source": [
    "order_reviews_df.duplicated().sum()"
   ]
  },
  {
   "cell_type": "code",
   "execution_count": null,
   "id": "a2f9650fac899b5a",
   "metadata": {
    "ExecuteTime": {
     "end_time": "2025-03-09T11:46:41.010316Z",
     "start_time": "2025-03-09T11:46:40.683815Z"
    }
   },
   "outputs": [],
   "source": [
    "order_reviews_df[\"order_id\"] = order_reviews_df[\"order_id\"].apply(UUID)\n",
    "order_reviews_df[\"review_id\"] = order_reviews_df[\"review_id\"].apply(UUID)"
   ]
  },
  {
   "cell_type": "code",
   "execution_count": null,
   "id": "4b9da3e49973ee89",
   "metadata": {
    "ExecuteTime": {
     "end_time": "2025-03-09T11:46:41.838201Z",
     "start_time": "2025-03-09T11:46:41.320286Z"
    }
   },
   "outputs": [],
   "source": [
    "order_reviews_df.groupby(\"order_id\")[\"review_id\"].count().sort_values(ascending=False)"
   ]
  },
  {
   "cell_type": "code",
   "execution_count": null,
   "id": "c30470545eff4f8b",
   "metadata": {
    "ExecuteTime": {
     "end_time": "2025-03-09T11:46:42.811509Z",
     "start_time": "2025-03-09T11:46:42.787167Z"
    }
   },
   "outputs": [],
   "source": [
    "order_reviews_df[\n",
    "    order_reviews_df[\"order_id\"] == UUID(\"03c939fd-7fd3-b38f-8485-a0f95798f1f6\")\n",
    "]"
   ]
  },
  {
   "cell_type": "markdown",
   "id": "113a0b90aad74832",
   "metadata": {},
   "source": [
    "single `order_id` contains 3 reviews, which is misleading. a single order can only be brought by single customer, so we have to remove the duplicates and keep the latest review."
   ]
  },
  {
   "cell_type": "code",
   "execution_count": null,
   "id": "4972bd1b9d8fc927",
   "metadata": {
    "ExecuteTime": {
     "end_time": "2025-03-09T11:46:44.659360Z",
     "start_time": "2025-03-09T11:46:44.565569Z"
    }
   },
   "outputs": [],
   "source": [
    "order_reviews_df = order_reviews_df.sort_values(\"review_creation_date\").drop_duplicates(\n",
    "    \"order_id\", keep=\"last\"\n",
    ")"
   ]
  },
  {
   "cell_type": "markdown",
   "id": "a2ddd4574b04df99",
   "metadata": {},
   "source": [
    "#### Orders"
   ]
  },
  {
   "cell_type": "code",
   "execution_count": null,
   "id": "b46d1b17cf524f45",
   "metadata": {
    "ExecuteTime": {
     "end_time": "2025-03-09T11:46:46.021194Z",
     "start_time": "2025-03-09T11:46:46.016263Z"
    }
   },
   "outputs": [],
   "source": [
    "orders_df.shape"
   ]
  },
  {
   "cell_type": "code",
   "execution_count": null,
   "id": "65fb53a289d46732",
   "metadata": {
    "ExecuteTime": {
     "end_time": "2025-03-09T11:46:46.786277Z",
     "start_time": "2025-03-09T11:46:46.779646Z"
    }
   },
   "outputs": [],
   "source": [
    "orders_df.dtypes"
   ]
  },
  {
   "cell_type": "code",
   "execution_count": null,
   "id": "908f9824364f006c",
   "metadata": {
    "ExecuteTime": {
     "end_time": "2025-03-09T11:46:47.495131Z",
     "start_time": "2025-03-09T11:46:47.474989Z"
    }
   },
   "outputs": [],
   "source": [
    "orders_df.isnull().sum()"
   ]
  },
  {
   "cell_type": "markdown",
   "id": "6d016ea67e94e684",
   "metadata": {},
   "source": [
    "`order_approved_at`, `order_delievered_carriar_date` and `order_delivered_customer_date` contains NaN values but those are linked with `order_status`, if order is cancelled those columns will not be populated."
   ]
  },
  {
   "cell_type": "code",
   "execution_count": null,
   "id": "ee83e67a4322cca6",
   "metadata": {
    "ExecuteTime": {
     "end_time": "2025-03-09T11:46:48.922089Z",
     "start_time": "2025-03-09T11:46:48.912879Z"
    }
   },
   "outputs": [],
   "source": [
    "orders_df.head()"
   ]
  },
  {
   "cell_type": "code",
   "execution_count": null,
   "id": "69bb3c216a44845d",
   "metadata": {
    "ExecuteTime": {
     "end_time": "2025-03-09T11:46:49.715841Z",
     "start_time": "2025-03-09T11:46:49.624345Z"
    }
   },
   "outputs": [],
   "source": [
    "orders_df.duplicated().sum()"
   ]
  },
  {
   "cell_type": "code",
   "execution_count": null,
   "id": "c71e8075d2cb3275",
   "metadata": {
    "ExecuteTime": {
     "end_time": "2025-03-09T11:46:50.642881Z",
     "start_time": "2025-03-09T11:46:50.368765Z"
    }
   },
   "outputs": [],
   "source": [
    "orders_df[\"order_id\"] = orders_df[\"order_id\"].apply(UUID)\n",
    "orders_df[\"customer_id\"] = orders_df[\"customer_id\"].apply(UUID)"
   ]
  },
  {
   "cell_type": "markdown",
   "id": "36677a2fed851e86",
   "metadata": {},
   "source": [
    "### Product Categories"
   ]
  },
  {
   "cell_type": "code",
   "execution_count": null,
   "id": "286f12ba780b9c49",
   "metadata": {
    "ExecuteTime": {
     "end_time": "2025-03-09T11:46:52.076424Z",
     "start_time": "2025-03-09T11:46:52.070928Z"
    }
   },
   "outputs": [],
   "source": [
    "product_category_df.shape"
   ]
  },
  {
   "cell_type": "code",
   "execution_count": null,
   "id": "59e850bdbd5873aa",
   "metadata": {
    "ExecuteTime": {
     "end_time": "2025-03-09T11:46:52.782358Z",
     "start_time": "2025-03-09T11:46:52.776321Z"
    }
   },
   "outputs": [],
   "source": [
    "product_category_df.dtypes"
   ]
  },
  {
   "cell_type": "code",
   "execution_count": null,
   "id": "576aab98e558cfc6",
   "metadata": {
    "ExecuteTime": {
     "end_time": "2025-03-09T11:46:53.574957Z",
     "start_time": "2025-03-09T11:46:53.566752Z"
    }
   },
   "outputs": [],
   "source": [
    "product_category_df.isnull().sum()"
   ]
  },
  {
   "cell_type": "code",
   "execution_count": null,
   "id": "1a37ff462e1cd5fd",
   "metadata": {
    "ExecuteTime": {
     "end_time": "2025-03-09T11:46:54.374054Z",
     "start_time": "2025-03-09T11:46:54.366097Z"
    }
   },
   "outputs": [],
   "source": [
    "product_category_df.head()"
   ]
  },
  {
   "cell_type": "markdown",
   "id": "abb040735b056164",
   "metadata": {},
   "source": [
    "### Products"
   ]
  },
  {
   "cell_type": "code",
   "execution_count": null,
   "id": "2281e5806b13dfb",
   "metadata": {
    "ExecuteTime": {
     "end_time": "2025-03-09T11:46:56.005327Z",
     "start_time": "2025-03-09T11:46:55.999152Z"
    }
   },
   "outputs": [],
   "source": [
    "products_df.shape"
   ]
  },
  {
   "cell_type": "code",
   "execution_count": null,
   "id": "5498942cc8fd86f8",
   "metadata": {
    "ExecuteTime": {
     "end_time": "2025-03-09T11:46:56.742248Z",
     "start_time": "2025-03-09T11:46:56.735404Z"
    }
   },
   "outputs": [],
   "source": [
    "products_df.dtypes"
   ]
  },
  {
   "cell_type": "code",
   "execution_count": null,
   "id": "724d52a73b50d54d",
   "metadata": {
    "ExecuteTime": {
     "end_time": "2025-03-09T11:46:57.476261Z",
     "start_time": "2025-03-09T11:46:57.464123Z"
    }
   },
   "outputs": [],
   "source": [
    "products_df.isnull().sum()"
   ]
  },
  {
   "cell_type": "code",
   "execution_count": null,
   "id": "a55eecab5c4551b7",
   "metadata": {
    "ExecuteTime": {
     "end_time": "2025-03-09T11:46:58.258817Z",
     "start_time": "2025-03-09T11:46:58.247076Z"
    }
   },
   "outputs": [],
   "source": [
    "products_df.head()"
   ]
  },
  {
   "cell_type": "code",
   "execution_count": null,
   "id": "c322bca408321299",
   "metadata": {
    "ExecuteTime": {
     "end_time": "2025-03-09T11:46:59.016842Z",
     "start_time": "2025-03-09T11:46:59.011497Z"
    }
   },
   "outputs": [],
   "source": [
    "products_df.rename(\n",
    "    {\n",
    "        \"product_description_lenght\": \"product_description_length\",\n",
    "        \"product_name_lenght\": \"product_name_length\",\n",
    "    },\n",
    "    axis=1,\n",
    "    inplace=True,\n",
    ")"
   ]
  },
  {
   "cell_type": "code",
   "execution_count": null,
   "id": "80d42e2d259832a6",
   "metadata": {
    "ExecuteTime": {
     "end_time": "2025-03-09T11:47:00.280623Z",
     "start_time": "2025-03-09T11:47:00.258729Z"
    }
   },
   "outputs": [],
   "source": [
    "products_df.duplicated().sum()"
   ]
  },
  {
   "cell_type": "code",
   "execution_count": null,
   "id": "1c7c6e8f4d372947",
   "metadata": {
    "ExecuteTime": {
     "end_time": "2025-03-09T11:47:01.091547Z",
     "start_time": "2025-03-09T11:47:01.081671Z"
    }
   },
   "outputs": [],
   "source": [
    "products_df.fillna({\"product_category_name\": \"unknown\"}, inplace=True)"
   ]
  },
  {
   "cell_type": "markdown",
   "id": "adf32083beb95d59",
   "metadata": {},
   "source": [
    "`product_category_name` contains nan values, but they show important information about products, so we replace it with \"unknown\""
   ]
  },
  {
   "cell_type": "code",
   "execution_count": null,
   "id": "b4f9846b5d30aa72",
   "metadata": {
    "ExecuteTime": {
     "end_time": "2025-03-09T11:47:02.415905Z",
     "start_time": "2025-03-09T11:47:02.364655Z"
    }
   },
   "outputs": [],
   "source": [
    "products_df[\"product_id\"] = products_df[\"product_id\"].apply(UUID)"
   ]
  },
  {
   "cell_type": "code",
   "execution_count": null,
   "id": "c7d67e4b00477b68",
   "metadata": {
    "ExecuteTime": {
     "end_time": "2025-03-09T11:47:03.035930Z",
     "start_time": "2025-03-09T11:47:02.971618Z"
    }
   },
   "outputs": [],
   "source": [
    "# id to product name mapping\n",
    "id_to_product_name = {\n",
    "    prod_id: f\"Product_{idx + 1}\"\n",
    "    for idx, prod_id in enumerate(products_df[\"product_id\"].unique())\n",
    "}\n",
    "products_df[\"product_name\"] = products_df[\"product_id\"].map(id_to_product_name)"
   ]
  },
  {
   "cell_type": "markdown",
   "id": "6bd14f8c415f9073",
   "metadata": {},
   "source": [
    "\n",
    "\n",
    "### Sellers"
   ]
  },
  {
   "cell_type": "code",
   "execution_count": null,
   "id": "7c1289cd51ca8793",
   "metadata": {
    "ExecuteTime": {
     "end_time": "2025-03-09T11:47:04.612900Z",
     "start_time": "2025-03-09T11:47:04.607160Z"
    }
   },
   "outputs": [],
   "source": [
    "sellers_df.shape"
   ]
  },
  {
   "cell_type": "code",
   "execution_count": null,
   "id": "8df519b75a87b7f6",
   "metadata": {
    "ExecuteTime": {
     "end_time": "2025-03-09T11:47:05.248394Z",
     "start_time": "2025-03-09T11:47:05.241266Z"
    }
   },
   "outputs": [],
   "source": [
    "sellers_df.dtypes"
   ]
  },
  {
   "cell_type": "code",
   "execution_count": null,
   "id": "651978b6d7b0bb29",
   "metadata": {
    "ExecuteTime": {
     "end_time": "2025-03-09T11:47:05.890734Z",
     "start_time": "2025-03-09T11:47:05.882435Z"
    }
   },
   "outputs": [],
   "source": [
    "sellers_df.isnull().sum()"
   ]
  },
  {
   "cell_type": "code",
   "execution_count": null,
   "id": "a0d68bf73f4fcd26",
   "metadata": {
    "ExecuteTime": {
     "end_time": "2025-03-09T11:47:06.544570Z",
     "start_time": "2025-03-09T11:47:06.532555Z"
    }
   },
   "outputs": [],
   "source": [
    "sellers_df.head()"
   ]
  },
  {
   "cell_type": "code",
   "execution_count": null,
   "id": "7325826ed41cdb5d",
   "metadata": {
    "ExecuteTime": {
     "end_time": "2025-03-09T11:47:07.223823Z",
     "start_time": "2025-03-09T11:47:07.212881Z"
    }
   },
   "outputs": [],
   "source": [
    "sellers_df.duplicated().sum()"
   ]
  },
  {
   "cell_type": "code",
   "execution_count": null,
   "id": "38df7dd17cb61d44",
   "metadata": {
    "ExecuteTime": {
     "end_time": "2025-03-09T11:47:07.947661Z",
     "start_time": "2025-03-09T11:47:07.937875Z"
    }
   },
   "outputs": [],
   "source": [
    "sellers_df[\"seller_id\"] = sellers_df[\"seller_id\"].apply(UUID)"
   ]
  },
  {
   "cell_type": "code",
   "execution_count": null,
   "id": "2c19957b76c1ff06",
   "metadata": {
    "ExecuteTime": {
     "end_time": "2025-03-09T11:47:08.851856Z",
     "start_time": "2025-03-09T11:47:08.839591Z"
    }
   },
   "outputs": [],
   "source": [
    "# id to seller name\n",
    "id_to_seller_name = {\n",
    "    sel_id: f\"Seller_{idx + 1}\"\n",
    "    for idx, sel_id in enumerate(sellers_df[\"seller_id\"].unique())\n",
    "}\n",
    "sellers_df[\"seller_name\"] = sellers_df[\"seller_id\"].map(id_to_seller_name)"
   ]
  },
  {
   "cell_type": "markdown",
   "id": "ba79a8fa2d24b47",
   "metadata": {},
   "source": [
    "## Dimension Modeling"
   ]
  },
  {
   "cell_type": "code",
   "execution_count": null,
   "id": "4f88f516fccbffd8",
   "metadata": {
    "ExecuteTime": {
     "end_time": "2025-03-09T11:47:12.859949Z",
     "start_time": "2025-03-09T11:47:12.829790Z"
    }
   },
   "outputs": [],
   "source": [
    "customer_map = customers_df.set_index(\"customer_id\")[\"customer_unique_id\"]"
   ]
  },
  {
   "cell_type": "code",
   "execution_count": null,
   "id": "5743f79876377e48",
   "metadata": {
    "ExecuteTime": {
     "end_time": "2025-03-09T11:47:13.604931Z",
     "start_time": "2025-03-09T11:47:13.457226Z"
    }
   },
   "outputs": [],
   "source": [
    "orders_df[\"customer_id\"] = orders_df[\"customer_id\"].map(customer_map)"
   ]
  },
  {
   "cell_type": "code",
   "execution_count": null,
   "id": "290331ca0a529b66",
   "metadata": {
    "ExecuteTime": {
     "end_time": "2025-03-09T11:47:14.801793Z",
     "start_time": "2025-03-09T11:47:14.783341Z"
    }
   },
   "outputs": [],
   "source": [
    "customers_df.drop(\"customer_id\", axis=1, inplace=True)"
   ]
  },
  {
   "cell_type": "code",
   "execution_count": null,
   "id": "45746dcc036b3738",
   "metadata": {
    "ExecuteTime": {
     "end_time": "2025-03-09T11:47:15.549434Z",
     "start_time": "2025-03-09T11:47:15.439962Z"
    }
   },
   "outputs": [],
   "source": [
    "customers_df.drop_duplicates(inplace=True)"
   ]
  },
  {
   "cell_type": "code",
   "execution_count": null,
   "id": "6a1ed20c60f63ae6",
   "metadata": {
    "ExecuteTime": {
     "end_time": "2025-03-09T11:47:16.053782Z",
     "start_time": "2025-03-09T11:47:16.049240Z"
    }
   },
   "outputs": [],
   "source": [
    "customers_df.rename({\"customer_unique_id\": \"customer_id\"}, axis=1, inplace=True)"
   ]
  },
  {
   "cell_type": "markdown",
   "id": "6213e7ba9d94098e",
   "metadata": {},
   "source": [
    "### Fact Tables"
   ]
  },
  {
   "cell_type": "code",
   "execution_count": null,
   "id": "d13b7ebb3f454207",
   "metadata": {
    "ExecuteTime": {
     "end_time": "2025-03-09T11:47:17.910145Z",
     "start_time": "2025-03-09T11:47:17.316687Z"
    }
   },
   "outputs": [],
   "source": [
    "fact_orders = order_items_df.merge(orders_df, on=\"order_id\", how=\"left\").merge(\n",
    "    order_reviews_df, on=\"order_id\", how=\"left\"\n",
    ")"
   ]
  },
  {
   "cell_type": "code",
   "execution_count": null,
   "id": "8376900871fd00bf",
   "metadata": {
    "ExecuteTime": {
     "end_time": "2025-03-09T11:47:18.322663Z",
     "start_time": "2025-03-09T11:47:18.291402Z"
    }
   },
   "outputs": [],
   "source": [
    "fact_orders.drop(\n",
    "    [\"review_id\", \"review_answer_timestamp\", \"review_creation_date\"],\n",
    "    axis=1,\n",
    "    inplace=True,\n",
    ")"
   ]
  },
  {
   "cell_type": "code",
   "execution_count": null,
   "id": "bf14eef53df330e9",
   "metadata": {
    "ExecuteTime": {
     "end_time": "2025-03-09T11:47:19.635689Z",
     "start_time": "2025-03-09T11:47:19.629800Z"
    }
   },
   "outputs": [],
   "source": [
    "fact_orders.rename({\"review_score\": \"order_rating\"}, axis=1, inplace=True)"
   ]
  },
  {
   "cell_type": "code",
   "execution_count": null,
   "id": "e11d4fe34b25e9b9",
   "metadata": {
    "ExecuteTime": {
     "end_time": "2025-03-09T11:47:21.297685Z",
     "start_time": "2025-03-09T11:47:20.427710Z"
    }
   },
   "outputs": [],
   "source": [
    "order_payments_df.groupby(\"order_id\")[\"payment_type\"].count().sort_values(\n",
    "    ascending=False\n",
    ")"
   ]
  },
  {
   "cell_type": "markdown",
   "id": "4ad1cf923c53f526",
   "metadata": {},
   "source": [
    "`order_payments_df` contains the multiple payments of single order, so merging it with `fact_orders` will lead to duplicates so keeping it as separate fact table."
   ]
  },
  {
   "cell_type": "code",
   "execution_count": null,
   "id": "c10f14c7a5055507",
   "metadata": {
    "ExecuteTime": {
     "end_time": "2025-03-09T11:47:22.775407Z",
     "start_time": "2025-03-09T11:47:22.770841Z"
    }
   },
   "outputs": [],
   "source": [
    "fact_payments = order_payments_df"
   ]
  },
  {
   "cell_type": "markdown",
   "id": "792cc4ef7d121f6",
   "metadata": {},
   "source": [
    "### Dim Tables"
   ]
  },
  {
   "cell_type": "code",
   "execution_count": null,
   "id": "2b5126f61ef5e696",
   "metadata": {
    "ExecuteTime": {
     "end_time": "2025-03-09T11:47:29.562288Z",
     "start_time": "2025-03-09T11:47:29.430169Z"
    }
   },
   "outputs": [],
   "source": [
    "customers_df.duplicated().sum()"
   ]
  },
  {
   "cell_type": "code",
   "execution_count": null,
   "id": "d723955c10a06f82",
   "metadata": {
    "ExecuteTime": {
     "end_time": "2025-03-09T11:47:30.256247Z",
     "start_time": "2025-03-09T11:47:30.252363Z"
    }
   },
   "outputs": [],
   "source": [
    "dim_customers = customers_df"
   ]
  },
  {
   "cell_type": "code",
   "execution_count": null,
   "id": "84805a0864913cee",
   "metadata": {
    "ExecuteTime": {
     "end_time": "2025-03-09T11:47:30.956929Z",
     "start_time": "2025-03-09T11:47:30.943902Z"
    }
   },
   "outputs": [],
   "source": [
    "sellers_df.duplicated().sum()"
   ]
  },
  {
   "cell_type": "code",
   "execution_count": null,
   "id": "797ed452d8cc5215",
   "metadata": {
    "ExecuteTime": {
     "end_time": "2025-03-09T11:47:31.666450Z",
     "start_time": "2025-03-09T11:47:31.662541Z"
    }
   },
   "outputs": [],
   "source": [
    "dim_sellers = sellers_df"
   ]
  },
  {
   "cell_type": "code",
   "execution_count": null,
   "id": "e01c1e26a247ca3",
   "metadata": {
    "ExecuteTime": {
     "end_time": "2025-03-09T11:47:32.378456Z",
     "start_time": "2025-03-09T11:47:32.367458Z"
    }
   },
   "outputs": [],
   "source": [
    "product_category_df.head()"
   ]
  },
  {
   "cell_type": "code",
   "execution_count": null,
   "id": "1b533407711141e8",
   "metadata": {
    "ExecuteTime": {
     "end_time": "2025-03-09T11:47:33.244332Z",
     "start_time": "2025-03-09T11:47:33.238383Z"
    }
   },
   "outputs": [],
   "source": [
    "product_category_map = product_category_df.set_index(\"product_category_name\")[\n",
    "    \"product_category_name_english\"\n",
    "].to_dict()"
   ]
  },
  {
   "cell_type": "code",
   "execution_count": null,
   "id": "d8c7978907022566",
   "metadata": {
    "ExecuteTime": {
     "end_time": "2025-03-09T11:47:33.946971Z",
     "start_time": "2025-03-09T11:47:33.936764Z"
    }
   },
   "outputs": [],
   "source": [
    "product_category_map[\"unknown\"] = \"unknown\"\n",
    "products_df[\"product_category_name\"] = products_df[\"product_category_name\"].map(\n",
    "    product_category_map\n",
    ")"
   ]
  },
  {
   "cell_type": "code",
   "execution_count": null,
   "id": "a71aac489c377433",
   "metadata": {
    "ExecuteTime": {
     "end_time": "2025-03-09T11:47:35.163336Z",
     "start_time": "2025-03-09T11:47:35.152985Z"
    }
   },
   "outputs": [],
   "source": [
    "products_df[\"product_category_name\"].value_counts()"
   ]
  },
  {
   "cell_type": "code",
   "execution_count": null,
   "id": "f0388370e25cd350",
   "metadata": {
    "ExecuteTime": {
     "end_time": "2025-03-09T11:47:36.120115Z",
     "start_time": "2025-03-09T11:47:36.115314Z"
    }
   },
   "outputs": [],
   "source": [
    "dim_products = products_df"
   ]
  },
  {
   "cell_type": "code",
   "execution_count": null,
   "id": "e8358105725e6319",
   "metadata": {
    "ExecuteTime": {
     "end_time": "2025-03-09T11:47:37.586290Z",
     "start_time": "2025-03-09T11:47:37.580500Z"
    }
   },
   "outputs": [],
   "source": [
    "dim_dates = pd.DataFrame(\n",
    "    pd.date_range(start=\"2016-01-01\", end=\"2018-12-31\"), columns=[\"date\"]\n",
    ")"
   ]
  },
  {
   "cell_type": "code",
   "execution_count": null,
   "id": "e92e4fb281bfad7a",
   "metadata": {
    "ExecuteTime": {
     "end_time": "2025-03-09T11:47:38.708220Z",
     "start_time": "2025-03-09T11:47:38.686514Z"
    }
   },
   "outputs": [],
   "source": [
    "dim_dates[\"quarter\"] = dim_dates.date.dt.quarter\n",
    "dim_dates[\"month\"] = dim_dates.date.dt.month\n",
    "dim_dates[\"year\"] = dim_dates.date.dt.year\n",
    "dim_dates[\"week_by_year\"] = dim_dates.date.dt.strftime(\"%W\").astype(int)\n",
    "dim_dates[\"day\"] = dim_dates.date.dt.day\n",
    "dim_dates[\"weekday\"] = dim_dates.date.dt.weekday\n",
    "dim_dates[\"weekday_name\"] = dim_dates.date.dt.day_name()"
   ]
  },
  {
   "cell_type": "code",
   "execution_count": null,
   "id": "cbf07767b2656b8f",
   "metadata": {
    "ExecuteTime": {
     "end_time": "2025-03-09T11:47:39.563351Z",
     "start_time": "2025-03-09T11:47:39.549337Z"
    }
   },
   "outputs": [],
   "source": [
    "dim_dates.head()"
   ]
  },
  {
   "cell_type": "markdown",
   "id": "fee37f90-c76c-4c00-a574-254d3cdeeea0",
   "metadata": {},
   "source": [
    "## Load Data to Snowflake"
   ]
  },
  {
   "cell_type": "code",
   "execution_count": null,
   "id": "62e80d7f5537405d",
   "metadata": {},
   "outputs": [],
   "source": [
    "from Load.snowflake_loader import load_df_to_snowflake, create_tables_in_snowflake"
   ]
  },
  {
   "cell_type": "markdown",
   "id": "62e91777-2ed4-4d23-adbd-042b53168fd9",
   "metadata": {},
   "source": [
    "### Create Tables"
   ]
  },
  {
   "cell_type": "code",
   "execution_count": null,
   "id": "f61565ce-9e64-4fb9-8d82-ad35b4f0f187",
   "metadata": {},
   "outputs": [],
   "source": [
    "# fact orders\n",
    "if not create_tables_in_snowflake(\n",
    "    \"\"\"\n",
    "    CREATE TABLE IF NOT EXISTS FACT_ORDERS(\n",
    "        \"order_id\" VARCHAR(50),\n",
    "        \"order_item_id\" INT,\n",
    "        \"product_id\" VARCHAR(50),\n",
    "        \"seller_id\" VARCHAR(50),\n",
    "        \"shipping_limit_date\" TIMESTAMP_TZ(0),\n",
    "        \"price\" FLOAT,\n",
    "        \"freight_value\" FLOAT,\n",
    "        \"total_price\" INT,\n",
    "        \"customer_id\" VARCHAR(50),\n",
    "        \"order_status\" VARCHAR(50),\n",
    "        \"order_purchase_timestamp\" TIMESTAMP_TZ(0),\n",
    "        \"order_approved_at\" TIMESTAMP_TZ(0),\n",
    "        \"order_delivered_carrier_date\" TIMESTAMP_TZ(0),\n",
    "        \"order_delivered_customer_date\" TIMESTAMP_TZ(0),\n",
    "        \"order_estimated_delivery_date\" TIMESTAMP_TZ(0),\n",
    "        \"order_rating\" FLOAT\n",
    "    )\n",
    "    \"\"\"\n",
    "):\n",
    "    raise Exception(\"failed to create table\")"
   ]
  },
  {
   "cell_type": "code",
   "execution_count": null,
   "id": "cc561e64-d119-4ded-928b-dcea89c3bdd4",
   "metadata": {},
   "outputs": [],
   "source": [
    "# fact payments\n",
    "if not create_tables_in_snowflake(\n",
    "    \"\"\"\n",
    "    CREATE TABLE IF NOT EXISTS FACT_PAYMENTS(\n",
    "        \"order_id\" VARCHAR(50),\n",
    "        \"payment_sequential\" INT,\n",
    "        \"payment_type\" VARCHAR(50),\n",
    "        \"payment_installments\" INT,\n",
    "        \"payment_value\" FLOAT\n",
    "    );\n",
    "    \"\"\"\n",
    "):\n",
    "    raise Exception(\"failed to create table\")"
   ]
  },
  {
   "cell_type": "code",
   "execution_count": null,
   "id": "18fcf4da-4636-4dc3-b43c-ac95da8c5509",
   "metadata": {},
   "outputs": [],
   "source": [
    "# dim customer\n",
    "if not create_tables_in_snowflake(\n",
    "    \"\"\"\n",
    "    CREATE TABLE IF NOT EXISTS DIM_CUSTOMERS(\n",
    "        \"customer_id\" VARCHAR(50),\n",
    "        \"customer_zip_code_prefix\" INT,\n",
    "        \"customer_city\" VARCHAR(50),\n",
    "        \"customer_state\" VARCHAR(50),\n",
    "        \"customer_name\" VARCHAR(20)\n",
    "    );\n",
    "    \"\"\"\n",
    "):\n",
    "    raise Exception(\"failed to create table\")"
   ]
  },
  {
   "cell_type": "code",
   "execution_count": null,
   "id": "155c8df8-fad9-459c-929c-59cfa508fe30",
   "metadata": {},
   "outputs": [],
   "source": [
    "# dim sellers\n",
    "if not create_tables_in_snowflake(\n",
    "    \"\"\"\n",
    "    CREATE TABLE IF NOT EXISTS DIM_SELLERS(\n",
    "        \"seller_id\" VARCHAR(50),\n",
    "        \"seller_zip_code_prefix\" INT,\n",
    "        \"seller_city\" VARCHAR(50),\n",
    "        \"seller_state\" VARCHAR(50),\n",
    "        \"seller_name\" VARCHAR(20)\n",
    "    );\n",
    "    \"\"\"\n",
    "):\n",
    "    raise Exception(\"failed to create table\")"
   ]
  },
  {
   "cell_type": "code",
   "execution_count": null,
   "id": "c1017a2b-8ce1-4fb0-9c48-e266075bd798",
   "metadata": {},
   "outputs": [],
   "source": [
    "# dim products\n",
    "if not create_tables_in_snowflake(\n",
    "    \"\"\"\n",
    "    CREATE TABLE IF NOT EXISTS DIM_PRODUCTS(\n",
    "        \"product_id\" VARCHAR(50),\n",
    "        \"product_category_name\" VARCHAR(50),\n",
    "        \"product_name_length\" INT,\n",
    "        \"product_description_length\" INT,\n",
    "        \"product_photos_qty\" INT,\n",
    "        \"product_weight_g\" INT,\n",
    "        \"product_length_cm\" INT,\n",
    "        \"product_height_cm\" INT,\n",
    "        \"product_width_cm\" INT,\n",
    "        \"product_name\" VARCHAR(20)\n",
    "    );\n",
    "    \"\"\"\n",
    "):\n",
    "    raise Exception(\"failed to create table\")"
   ]
  },
  {
   "cell_type": "code",
   "execution_count": null,
   "id": "234ab8e0-0bd0-4b90-a0f4-d4f5d4cce935",
   "metadata": {},
   "outputs": [],
   "source": [
    "# dim dates\n",
    "if not create_tables_in_snowflake(\n",
    "    \"\"\"\n",
    "    CREATE TABLE IF NOT EXISTS DIM_DATES(\n",
    "        \"date\" TIMESTAMP_TZ(0),\n",
    "        \"quarter\" INT,\n",
    "        \"month\" INT,\n",
    "        \"year\" INT,\n",
    "        \"week_by_year\" INT,\n",
    "        \"day\" INT,\n",
    "        \"weekday\" INT,\n",
    "        \"weekday_name\" VARCHAR(50)\n",
    "    );\n",
    "    \"\"\"\n",
    "):\n",
    "    raise Exception(\"failed to create table\")"
   ]
  },
  {
   "cell_type": "markdown",
   "id": "895c1455-b881-4379-842f-553a59862aac",
   "metadata": {},
   "source": [
    "### Load data"
   ]
  },
  {
   "cell_type": "code",
   "execution_count": null,
   "id": "779953da-70b2-4de6-bca1-c4c002330f5d",
   "metadata": {},
   "outputs": [],
   "source": [
    "load_df_to_snowflake(\"FACT_ORDERS\", fact_orders)"
   ]
  },
  {
   "cell_type": "code",
   "execution_count": null,
   "id": "b3e84841-754c-4bdf-8ce3-cb2684810bb7",
   "metadata": {},
   "outputs": [],
   "source": [
    "load_df_to_snowflake(\"FACT_PAYMENTS\", fact_payments)"
   ]
  },
  {
   "cell_type": "code",
   "execution_count": null,
   "id": "f37e4934-b700-46b8-a715-10019450acad",
   "metadata": {},
   "outputs": [],
   "source": [
    "load_df_to_snowflake(\"DIM_CUSTOMERS\", dim_customers)"
   ]
  },
  {
   "cell_type": "code",
   "execution_count": null,
   "id": "fed53f74-328f-4614-957d-4a0da392139a",
   "metadata": {},
   "outputs": [],
   "source": [
    "load_df_to_snowflake(\"DIM_SELLERS\", dim_sellers)"
   ]
  },
  {
   "cell_type": "code",
   "execution_count": null,
   "id": "ff5ceb87-0388-4ca9-a05f-4507988d7809",
   "metadata": {},
   "outputs": [],
   "source": [
    "load_df_to_snowflake(\"DIM_PRODUCTS\", dim_products)"
   ]
  },
  {
   "cell_type": "code",
   "execution_count": null,
   "id": "6c8c3044-1e93-4537-ba9f-c3520b28a8ca",
   "metadata": {},
   "outputs": [],
   "source": [
    "load_df_to_snowflake(\"DIM_DATES\", dim_dates)"
   ]
  },
  {
   "cell_type": "code",
   "execution_count": null,
   "id": "07d4d069-973e-48d5-988c-b6558e31e791",
   "metadata": {},
   "outputs": [],
   "source": []
  }
 ],
 "metadata": {
  "kernelspec": {
   "display_name": "Python 3 (ipykernel)",
   "language": "python",
   "name": "python3"
  },
  "language_info": {
   "codemirror_mode": {
    "name": "ipython",
    "version": 3
   },
   "file_extension": ".py",
   "mimetype": "text/x-python",
   "name": "python",
   "nbconvert_exporter": "python",
   "pygments_lexer": "ipython3",
   "version": "3.13.2"
  }
 },
 "nbformat": 4,
 "nbformat_minor": 5
}
