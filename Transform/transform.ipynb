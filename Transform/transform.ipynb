{
 "cells": [
  {
   "cell_type": "code",
   "id": "initial_id",
   "metadata": {
    "collapsed": true,
    "ExecuteTime": {
     "end_time": "2025-03-08T08:22:01.183539Z",
     "start_time": "2025-03-08T08:22:00.354643Z"
    }
   },
   "source": [
    "import pandas as pd\n",
    "\n",
    "from Extract.extract_s3 import extract_s3\n",
    "from dotenv import load_dotenv\n",
    "import os"
   ],
   "outputs": [],
   "execution_count": 1
  },
  {
   "metadata": {
    "ExecuteTime": {
     "end_time": "2025-03-08T08:22:01.196450Z",
     "start_time": "2025-03-08T08:22:01.190166Z"
    }
   },
   "cell_type": "code",
   "source": [
    "load_dotenv(\"../.env\")\n",
    "BUCKET = os.getenv(\"BUCKET_Name\")"
   ],
   "id": "2f354ca62f5d0192",
   "outputs": [],
   "execution_count": 2
  },
  {
   "metadata": {},
   "cell_type": "markdown",
   "source": "## Extracting Data from S3",
   "id": "734a6d59a810f6e3"
  },
  {
   "metadata": {
    "ExecuteTime": {
     "end_time": "2025-03-08T08:22:08.591066Z",
     "start_time": "2025-03-08T08:22:01.959994Z"
    }
   },
   "cell_type": "code",
   "source": [
    "# customers\n",
    "customers_df = extract_s3(bucket=BUCKET, key=\"Data/customers.parquet\")\n",
    "if customers_df is None:\n",
    "    raise ValueError(\"No data found\")"
   ],
   "id": "e04dc67b421c22b8",
   "outputs": [],
   "execution_count": 3
  },
  {
   "metadata": {
    "ExecuteTime": {
     "end_time": "2025-03-08T08:22:14.396805Z",
     "start_time": "2025-03-08T08:22:08.597394Z"
    }
   },
   "cell_type": "code",
   "source": [
    "# order items\n",
    "order_items_df = extract_s3(BUCKET, key=\"Data/order_items.parquet\")\n",
    "if order_items_df is None:\n",
    "    raise ValueError(\"No data found\")"
   ],
   "id": "5e4af1d0de8305be",
   "outputs": [],
   "execution_count": 4
  },
  {
   "metadata": {
    "ExecuteTime": {
     "end_time": "2025-03-08T08:22:19.131955Z",
     "start_time": "2025-03-08T08:22:14.428578Z"
    }
   },
   "cell_type": "code",
   "source": [
    "# order payments\n",
    "order_payments_df = extract_s3(BUCKET, key=\"Data/order_payments.parquet\")"
   ],
   "id": "dab1601035ca3aa0",
   "outputs": [],
   "execution_count": 5
  },
  {
   "metadata": {
    "ExecuteTime": {
     "end_time": "2025-03-08T10:36:17.806250Z",
     "start_time": "2025-03-08T10:35:55.183501Z"
    }
   },
   "cell_type": "code",
   "source": [
    "# order reviews\n",
    "order_reviews_df = extract_s3(BUCKET, key=\"Data/order_reviews.parquet\")\n",
    "if order_reviews_df is None:\n",
    "    raise ValueError(\"No data found\")"
   ],
   "id": "4079a6bf5e78ec89",
   "outputs": [],
   "execution_count": 164
  },
  {
   "metadata": {
    "ExecuteTime": {
     "end_time": "2025-03-08T08:22:35.832395Z",
     "start_time": "2025-03-08T08:22:26.039719Z"
    }
   },
   "cell_type": "code",
   "source": [
    "# orders\n",
    "orders_df = extract_s3(BUCKET, key=\"Data/orders.parquet\")\n",
    "if orders_df is None:\n",
    "    raise ValueError(\"No data found\")"
   ],
   "id": "89468a9c5e6ae34f",
   "outputs": [],
   "execution_count": 7
  },
  {
   "metadata": {
    "ExecuteTime": {
     "end_time": "2025-03-08T08:22:38.841252Z",
     "start_time": "2025-03-08T08:22:35.847019Z"
    }
   },
   "cell_type": "code",
   "source": [
    "# product categories\n",
    "product_category_df = extract_s3(BUCKET, key=\"Data/product_categories.parquet\")\n",
    "if product_category_df is None:\n",
    "    raise ValueError(\"No data found\")"
   ],
   "id": "8400d8becdafd0cd",
   "outputs": [],
   "execution_count": 8
  },
  {
   "metadata": {
    "ExecuteTime": {
     "end_time": "2025-03-08T08:22:43.022897Z",
     "start_time": "2025-03-08T08:22:38.882693Z"
    }
   },
   "cell_type": "code",
   "source": [
    "# products\n",
    "products_df = extract_s3(BUCKET, key=\"Data/products.parquet\")\n",
    "if products_df is None:\n",
    "    raise ValueError(\"No data found\")"
   ],
   "id": "aae1202a822461be",
   "outputs": [],
   "execution_count": 9
  },
  {
   "metadata": {
    "ExecuteTime": {
     "end_time": "2025-03-08T08:22:46.155477Z",
     "start_time": "2025-03-08T08:22:43.029370Z"
    }
   },
   "cell_type": "code",
   "source": [
    "# sellers\n",
    "sellers_df = extract_s3(BUCKET, key=\"Data/sellers.parquet\")\n",
    "if sellers_df is None:\n",
    "    raise ValueError(\"No data found\")"
   ],
   "id": "ba2b78489333a406",
   "outputs": [],
   "execution_count": 10
  },
  {
   "metadata": {},
   "cell_type": "markdown",
   "source": "## Cleaning Data",
   "id": "590c9194853800b0"
  },
  {
   "metadata": {},
   "cell_type": "markdown",
   "source": "### Customers",
   "id": "a9b02e033419f9e1"
  },
  {
   "metadata": {
    "ExecuteTime": {
     "end_time": "2025-03-08T08:22:46.197123Z",
     "start_time": "2025-03-08T08:22:46.181012Z"
    }
   },
   "cell_type": "code",
   "source": "customers_df.head()",
   "id": "7f408ef4dc3226f7",
   "outputs": [
    {
     "data": {
      "text/plain": [
       "                            customer_id                    customer_unique_id  \\\n",
       "0  06b8999e-2fba-1a1f-bc88-172c00ba8bc7  861eff47-11a5-42e4-b938-43c6dd7febb0   \n",
       "1  18955e83-d337-fd6b-2def-6b18a428ac77  290c77bc-529b-7ac9-35b9-3aa66c333dc3   \n",
       "2  4e7b3e00-2885-86eb-d087-12fdd0374a03  060e732b-5b29-e818-1a18-229c7b0b2b5e   \n",
       "3  b2b6027b-c5c5-109e-529d-4dc6358b12c3  259dac75-7896-d24d-7702-b9acbbff3f3c   \n",
       "4  4f2d8ab1-71c8-0ec8-364f-7c12e35b23ad  345ecd01-c38d-18a9-036e-d96c73b8d066   \n",
       "\n",
       "   customer_zip_code_prefix          customer_city customer_state  \n",
       "0                     14409                 franca             SP  \n",
       "1                      9790  sao bernardo do campo             SP  \n",
       "2                      1151              sao paulo             SP  \n",
       "3                      8775        mogi das cruzes             SP  \n",
       "4                     13056               campinas             SP  "
      ],
      "text/html": [
       "<div>\n",
       "<style scoped>\n",
       "    .dataframe tbody tr th:only-of-type {\n",
       "        vertical-align: middle;\n",
       "    }\n",
       "\n",
       "    .dataframe tbody tr th {\n",
       "        vertical-align: top;\n",
       "    }\n",
       "\n",
       "    .dataframe thead th {\n",
       "        text-align: right;\n",
       "    }\n",
       "</style>\n",
       "<table border=\"1\" class=\"dataframe\">\n",
       "  <thead>\n",
       "    <tr style=\"text-align: right;\">\n",
       "      <th></th>\n",
       "      <th>customer_id</th>\n",
       "      <th>customer_unique_id</th>\n",
       "      <th>customer_zip_code_prefix</th>\n",
       "      <th>customer_city</th>\n",
       "      <th>customer_state</th>\n",
       "    </tr>\n",
       "  </thead>\n",
       "  <tbody>\n",
       "    <tr>\n",
       "      <th>0</th>\n",
       "      <td>06b8999e-2fba-1a1f-bc88-172c00ba8bc7</td>\n",
       "      <td>861eff47-11a5-42e4-b938-43c6dd7febb0</td>\n",
       "      <td>14409</td>\n",
       "      <td>franca</td>\n",
       "      <td>SP</td>\n",
       "    </tr>\n",
       "    <tr>\n",
       "      <th>1</th>\n",
       "      <td>18955e83-d337-fd6b-2def-6b18a428ac77</td>\n",
       "      <td>290c77bc-529b-7ac9-35b9-3aa66c333dc3</td>\n",
       "      <td>9790</td>\n",
       "      <td>sao bernardo do campo</td>\n",
       "      <td>SP</td>\n",
       "    </tr>\n",
       "    <tr>\n",
       "      <th>2</th>\n",
       "      <td>4e7b3e00-2885-86eb-d087-12fdd0374a03</td>\n",
       "      <td>060e732b-5b29-e818-1a18-229c7b0b2b5e</td>\n",
       "      <td>1151</td>\n",
       "      <td>sao paulo</td>\n",
       "      <td>SP</td>\n",
       "    </tr>\n",
       "    <tr>\n",
       "      <th>3</th>\n",
       "      <td>b2b6027b-c5c5-109e-529d-4dc6358b12c3</td>\n",
       "      <td>259dac75-7896-d24d-7702-b9acbbff3f3c</td>\n",
       "      <td>8775</td>\n",
       "      <td>mogi das cruzes</td>\n",
       "      <td>SP</td>\n",
       "    </tr>\n",
       "    <tr>\n",
       "      <th>4</th>\n",
       "      <td>4f2d8ab1-71c8-0ec8-364f-7c12e35b23ad</td>\n",
       "      <td>345ecd01-c38d-18a9-036e-d96c73b8d066</td>\n",
       "      <td>13056</td>\n",
       "      <td>campinas</td>\n",
       "      <td>SP</td>\n",
       "    </tr>\n",
       "  </tbody>\n",
       "</table>\n",
       "</div>"
      ]
     },
     "execution_count": 11,
     "metadata": {},
     "output_type": "execute_result"
    }
   ],
   "execution_count": 11
  },
  {
   "metadata": {
    "ExecuteTime": {
     "end_time": "2025-03-08T08:22:46.273346Z",
     "start_time": "2025-03-08T08:22:46.265690Z"
    }
   },
   "cell_type": "code",
   "source": "customers_df.shape",
   "id": "cb00e11745a0d4f1",
   "outputs": [
    {
     "data": {
      "text/plain": [
       "(99441, 5)"
      ]
     },
     "execution_count": 12,
     "metadata": {},
     "output_type": "execute_result"
    }
   ],
   "execution_count": 12
  },
  {
   "metadata": {
    "ExecuteTime": {
     "end_time": "2025-03-08T08:22:46.356279Z",
     "start_time": "2025-03-08T08:22:46.331633Z"
    }
   },
   "cell_type": "code",
   "source": "customers_df.info()",
   "id": "3076bcd9943e6d0e",
   "outputs": [
    {
     "name": "stdout",
     "output_type": "stream",
     "text": [
      "<class 'pandas.core.frame.DataFrame'>\n",
      "RangeIndex: 99441 entries, 0 to 99440\n",
      "Data columns (total 5 columns):\n",
      " #   Column                    Non-Null Count  Dtype \n",
      "---  ------                    --------------  ----- \n",
      " 0   customer_id               99441 non-null  object\n",
      " 1   customer_unique_id        99441 non-null  object\n",
      " 2   customer_zip_code_prefix  99441 non-null  int64 \n",
      " 3   customer_city             99441 non-null  object\n",
      " 4   customer_state            99441 non-null  object\n",
      "dtypes: int64(1), object(4)\n",
      "memory usage: 3.8+ MB\n"
     ]
    }
   ],
   "execution_count": 13
  },
  {
   "metadata": {
    "ExecuteTime": {
     "end_time": "2025-03-08T08:22:46.521011Z",
     "start_time": "2025-03-08T08:22:46.451219Z"
    }
   },
   "cell_type": "code",
   "source": "customers_df.duplicated().sum()",
   "id": "c5055cb07b983744",
   "outputs": [
    {
     "data": {
      "text/plain": [
       "np.int64(0)"
      ]
     },
     "execution_count": 14,
     "metadata": {},
     "output_type": "execute_result"
    }
   ],
   "execution_count": 14
  },
  {
   "metadata": {
    "ExecuteTime": {
     "end_time": "2025-03-08T08:22:46.545700Z",
     "start_time": "2025-03-08T08:22:46.541782Z"
    }
   },
   "cell_type": "code",
   "source": "from uuid import UUID",
   "id": "bbafbd3df2fc6960",
   "outputs": [],
   "execution_count": 15
  },
  {
   "metadata": {
    "ExecuteTime": {
     "end_time": "2025-03-08T08:22:46.872459Z",
     "start_time": "2025-03-08T08:22:46.583065Z"
    }
   },
   "cell_type": "code",
   "source": [
    "# converting object to uuid\n",
    "customers_df[\"customer_id\"] = customers_df[\"customer_id\"].apply(UUID)\n",
    "customers_df[\"customer_unique_id\"] = customers_df[\"customer_unique_id\"].apply(UUID)"
   ],
   "id": "a677c5b5c20037b9",
   "outputs": [],
   "execution_count": 16
  },
  {
   "metadata": {
    "ExecuteTime": {
     "end_time": "2025-03-08T08:22:46.915382Z",
     "start_time": "2025-03-08T08:22:46.892928Z"
    }
   },
   "cell_type": "code",
   "source": "customers_df.isnull().sum()",
   "id": "573f364fa506045c",
   "outputs": [
    {
     "data": {
      "text/plain": [
       "customer_id                 0\n",
       "customer_unique_id          0\n",
       "customer_zip_code_prefix    0\n",
       "customer_city               0\n",
       "customer_state              0\n",
       "dtype: int64"
      ]
     },
     "execution_count": 17,
     "metadata": {},
     "output_type": "execute_result"
    }
   ],
   "execution_count": 17
  },
  {
   "metadata": {
    "ExecuteTime": {
     "end_time": "2025-03-08T08:22:47.226619Z",
     "start_time": "2025-03-08T08:22:46.967717Z"
    }
   },
   "cell_type": "code",
   "source": [
    "# id to name mapping in customers\n",
    "id_to_name = {cust_id: f\"Customer_{idx + 1}\" for idx, cust_id in enumerate(customers_df[\"customer_unique_id\"].unique())}\n",
    "customers_df[\"customer_name\"] = customers_df[\"customer_unique_id\"].map(id_to_name)"
   ],
   "id": "c84965b6b1b7ea41",
   "outputs": [],
   "execution_count": 18
  },
  {
   "metadata": {},
   "cell_type": "markdown",
   "source": "### Order Items",
   "id": "a7d8b54aad7f05ed"
  },
  {
   "metadata": {
    "ExecuteTime": {
     "end_time": "2025-03-08T08:22:47.274477Z",
     "start_time": "2025-03-08T08:22:47.262692Z"
    }
   },
   "cell_type": "code",
   "source": "order_items_df.head()",
   "id": "40ab259798b12e28",
   "outputs": [
    {
     "data": {
      "text/plain": [
       "                               order_id  quantity  \\\n",
       "0  00010242-fe8c-5a6d-1ba2-dd792cb16214         1   \n",
       "1  00018f77-f2f0-320c-5571-90d7a144bdd3         1   \n",
       "2  000229ec-3982-24ef-6ca0-657da4fc703e         1   \n",
       "3  00024acb-cdf0-a6da-a1e9-31b038114c75         1   \n",
       "4  00042b26-cf59-d7ce-69df-abb4e55b4fd9         1   \n",
       "\n",
       "                             product_id                             seller_id  \\\n",
       "0  4244733e-06e7-ecb4-970a-6e2683c13e61  48436dad-e18a-c8b2-bce0-89ec2a041202   \n",
       "1  e5f2d52b-8021-89ee-6588-65ca93d83a8f  dd7ddc04-e1b6-c2c6-1435-2b383efe2d36   \n",
       "2  c777355d-18b7-2b67-abbe-ef9df44fd0fd  5b51032e-ddd2-42ad-c84c-38acab88f23d   \n",
       "3  7634da15-2a46-10f1-595e-fa32f14722fc  9d7a1d34-a505-2409-0064-25275ba1c2b4   \n",
       "4  ac6c3623-068f-30de-0304-5865e4e10089  df560393-f3a5-1e74-553a-b94004ba5c87   \n",
       "\n",
       "  shipping_limit_date   price  freight_value  order_items_id  total_price  \n",
       "0 2017-09-19 09:45:35   58.90          13.29               0        72.19  \n",
       "1 2017-05-03 11:05:13  239.90          19.93               1       259.83  \n",
       "2 2018-01-18 14:48:30  199.00          17.87               2       216.87  \n",
       "3 2018-08-15 10:10:18   12.99          12.79               3        25.78  \n",
       "4 2017-02-13 13:57:51  199.90          18.14               4       218.04  "
      ],
      "text/html": [
       "<div>\n",
       "<style scoped>\n",
       "    .dataframe tbody tr th:only-of-type {\n",
       "        vertical-align: middle;\n",
       "    }\n",
       "\n",
       "    .dataframe tbody tr th {\n",
       "        vertical-align: top;\n",
       "    }\n",
       "\n",
       "    .dataframe thead th {\n",
       "        text-align: right;\n",
       "    }\n",
       "</style>\n",
       "<table border=\"1\" class=\"dataframe\">\n",
       "  <thead>\n",
       "    <tr style=\"text-align: right;\">\n",
       "      <th></th>\n",
       "      <th>order_id</th>\n",
       "      <th>quantity</th>\n",
       "      <th>product_id</th>\n",
       "      <th>seller_id</th>\n",
       "      <th>shipping_limit_date</th>\n",
       "      <th>price</th>\n",
       "      <th>freight_value</th>\n",
       "      <th>order_items_id</th>\n",
       "      <th>total_price</th>\n",
       "    </tr>\n",
       "  </thead>\n",
       "  <tbody>\n",
       "    <tr>\n",
       "      <th>0</th>\n",
       "      <td>00010242-fe8c-5a6d-1ba2-dd792cb16214</td>\n",
       "      <td>1</td>\n",
       "      <td>4244733e-06e7-ecb4-970a-6e2683c13e61</td>\n",
       "      <td>48436dad-e18a-c8b2-bce0-89ec2a041202</td>\n",
       "      <td>2017-09-19 09:45:35</td>\n",
       "      <td>58.90</td>\n",
       "      <td>13.29</td>\n",
       "      <td>0</td>\n",
       "      <td>72.19</td>\n",
       "    </tr>\n",
       "    <tr>\n",
       "      <th>1</th>\n",
       "      <td>00018f77-f2f0-320c-5571-90d7a144bdd3</td>\n",
       "      <td>1</td>\n",
       "      <td>e5f2d52b-8021-89ee-6588-65ca93d83a8f</td>\n",
       "      <td>dd7ddc04-e1b6-c2c6-1435-2b383efe2d36</td>\n",
       "      <td>2017-05-03 11:05:13</td>\n",
       "      <td>239.90</td>\n",
       "      <td>19.93</td>\n",
       "      <td>1</td>\n",
       "      <td>259.83</td>\n",
       "    </tr>\n",
       "    <tr>\n",
       "      <th>2</th>\n",
       "      <td>000229ec-3982-24ef-6ca0-657da4fc703e</td>\n",
       "      <td>1</td>\n",
       "      <td>c777355d-18b7-2b67-abbe-ef9df44fd0fd</td>\n",
       "      <td>5b51032e-ddd2-42ad-c84c-38acab88f23d</td>\n",
       "      <td>2018-01-18 14:48:30</td>\n",
       "      <td>199.00</td>\n",
       "      <td>17.87</td>\n",
       "      <td>2</td>\n",
       "      <td>216.87</td>\n",
       "    </tr>\n",
       "    <tr>\n",
       "      <th>3</th>\n",
       "      <td>00024acb-cdf0-a6da-a1e9-31b038114c75</td>\n",
       "      <td>1</td>\n",
       "      <td>7634da15-2a46-10f1-595e-fa32f14722fc</td>\n",
       "      <td>9d7a1d34-a505-2409-0064-25275ba1c2b4</td>\n",
       "      <td>2018-08-15 10:10:18</td>\n",
       "      <td>12.99</td>\n",
       "      <td>12.79</td>\n",
       "      <td>3</td>\n",
       "      <td>25.78</td>\n",
       "    </tr>\n",
       "    <tr>\n",
       "      <th>4</th>\n",
       "      <td>00042b26-cf59-d7ce-69df-abb4e55b4fd9</td>\n",
       "      <td>1</td>\n",
       "      <td>ac6c3623-068f-30de-0304-5865e4e10089</td>\n",
       "      <td>df560393-f3a5-1e74-553a-b94004ba5c87</td>\n",
       "      <td>2017-02-13 13:57:51</td>\n",
       "      <td>199.90</td>\n",
       "      <td>18.14</td>\n",
       "      <td>4</td>\n",
       "      <td>218.04</td>\n",
       "    </tr>\n",
       "  </tbody>\n",
       "</table>\n",
       "</div>"
      ]
     },
     "execution_count": 19,
     "metadata": {},
     "output_type": "execute_result"
    }
   ],
   "execution_count": 19
  },
  {
   "metadata": {
    "ExecuteTime": {
     "end_time": "2025-03-08T08:22:47.337200Z",
     "start_time": "2025-03-08T08:22:47.331826Z"
    }
   },
   "cell_type": "code",
   "source": "order_items_df.shape",
   "id": "13404f5d52053b3f",
   "outputs": [
    {
     "data": {
      "text/plain": [
       "(112650, 9)"
      ]
     },
     "execution_count": 20,
     "metadata": {},
     "output_type": "execute_result"
    }
   ],
   "execution_count": 20
  },
  {
   "metadata": {
    "ExecuteTime": {
     "end_time": "2025-03-08T08:22:47.548562Z",
     "start_time": "2025-03-08T08:22:47.520337Z"
    }
   },
   "cell_type": "code",
   "source": "order_items_df.info()",
   "id": "bfde21b16cfad01e",
   "outputs": [
    {
     "name": "stdout",
     "output_type": "stream",
     "text": [
      "<class 'pandas.core.frame.DataFrame'>\n",
      "RangeIndex: 112650 entries, 0 to 112649\n",
      "Data columns (total 9 columns):\n",
      " #   Column               Non-Null Count   Dtype         \n",
      "---  ------               --------------   -----         \n",
      " 0   order_id             112650 non-null  object        \n",
      " 1   quantity             112650 non-null  int64         \n",
      " 2   product_id           112650 non-null  object        \n",
      " 3   seller_id            112650 non-null  object        \n",
      " 4   shipping_limit_date  112650 non-null  datetime64[ns]\n",
      " 5   price                112650 non-null  float64       \n",
      " 6   freight_value        112650 non-null  float64       \n",
      " 7   order_items_id       112650 non-null  int64         \n",
      " 8   total_price          112650 non-null  float64       \n",
      "dtypes: datetime64[ns](1), float64(3), int64(2), object(3)\n",
      "memory usage: 7.7+ MB\n"
     ]
    }
   ],
   "execution_count": 21
  },
  {
   "metadata": {
    "ExecuteTime": {
     "end_time": "2025-03-08T08:22:47.588781Z",
     "start_time": "2025-03-08T08:22:47.574250Z"
    }
   },
   "cell_type": "code",
   "source": "order_items_df.sample(10)",
   "id": "89b2e28bf118e5ce",
   "outputs": [
    {
     "data": {
      "text/plain": [
       "                                    order_id  quantity  \\\n",
       "58975   8653f85a-a59d-e4b8-9435-d4b44c8da67c         1   \n",
       "16602   25fd9ab4-10ed-9411-87c4-1224aaecd049         1   \n",
       "84296   bf889dfb-c028-003f-df79-5584501b9530         1   \n",
       "67925   9b496783-c375-4fac-34c3-f4ac1eee7d9e         1   \n",
       "101829  e71a1248-d8a4-6799-adbb-d50262053732         1   \n",
       "12813   1d090f01-94c3-5ed8-b589-f82f102bd758         1   \n",
       "30988   464fa85d-3390-3ce6-bbc9-8bc18223dfe2         2   \n",
       "75173   ab2e481b-1ef0-43b4-1c20-2628100f6b4b         1   \n",
       "109519  f8ed26e5-b5bc-fb0d-2083-3e3996b5e426         1   \n",
       "42282   6053546d-e45b-3aa8-422e-e0020b1a2da4         1   \n",
       "\n",
       "                                  product_id  \\\n",
       "58975   5328338c-faa1-6ba1-0561-cd970c73ca11   \n",
       "16602   5d42919d-908b-17ec-1848-699d89e2bace   \n",
       "84296   86facec0-be6e-caeb-315a-d287b9841c4f   \n",
       "67925   18ab9bce-7759-767e-ff9c-fcbeb6de70ce   \n",
       "101829  4638e41e-1c53-0188-97e1-2edbb2815807   \n",
       "12813   629beb8e-7317-703d-cc5f-35b5463fd20e   \n",
       "30988   a62e25e0-9e05-e6fa-f31d-90c6ec1aa3d1   \n",
       "75173   9faa5e4f-81da-9a1b-33f8-d8f3ed90e89a   \n",
       "109519  1f75be63-1e98-8bb0-ad75-0e60e18d043b   \n",
       "42282   fde4e97b-75bd-817d-8c4a-ef8de39ed4d9   \n",
       "\n",
       "                                   seller_id shipping_limit_date   price  \\\n",
       "58975   12b9676b-00f6-0f3b-700e-83af21824c0e 2018-04-09 03:48:06  199.00   \n",
       "16602   855668e0-971d-4dfd-7bef-1b6a4133b41b 2017-07-26 02:24:54  240.00   \n",
       "84296   0be8ff43-f22e-456b-4e03-71b2245e4d01 2018-02-14 19:10:05   99.90   \n",
       "67925   d91fb3b7-d041-e83b-64a0-0a3edfb37e4f 2018-03-01 15:54:40   35.00   \n",
       "101829  04aa0a1c-5ce6-b222-0034-03a3e11c3cc0 2017-09-13 20:30:12  378.00   \n",
       "12813   b0f2a612-2a90-a93e-b03e-68653dd960e3 2018-05-04 17:15:15  558.90   \n",
       "30988   634964b1-7796-e643-04ca-df1ad3050fb7 2018-06-15 17:31:42  105.00   \n",
       "75173   acce39e8-3233-8deb-b07b-02385cde5967 2018-08-08 03:05:18  129.90   \n",
       "109519  fd386aa7-bed2-af3c-7035-c65506c9b4a3 2018-07-17 12:35:14   13.99   \n",
       "42282   0ea22c1c-fbdc-755f-86b9-b54b39c16043 2017-05-17 21:25:18   79.90   \n",
       "\n",
       "        freight_value  order_items_id  total_price  \n",
       "58975           26.15           58975       225.15  \n",
       "16602           39.52           16602       279.52  \n",
       "84296            9.51           84296       109.41  \n",
       "67925           16.79           67925        51.79  \n",
       "101829          60.82          101829       438.82  \n",
       "12813           26.49           12813       585.39  \n",
       "30988           16.93           30988       226.93  \n",
       "75173           27.89           75173       157.79  \n",
       "109519          12.79          109519        26.78  \n",
       "42282           15.31           42282        95.21  "
      ],
      "text/html": [
       "<div>\n",
       "<style scoped>\n",
       "    .dataframe tbody tr th:only-of-type {\n",
       "        vertical-align: middle;\n",
       "    }\n",
       "\n",
       "    .dataframe tbody tr th {\n",
       "        vertical-align: top;\n",
       "    }\n",
       "\n",
       "    .dataframe thead th {\n",
       "        text-align: right;\n",
       "    }\n",
       "</style>\n",
       "<table border=\"1\" class=\"dataframe\">\n",
       "  <thead>\n",
       "    <tr style=\"text-align: right;\">\n",
       "      <th></th>\n",
       "      <th>order_id</th>\n",
       "      <th>quantity</th>\n",
       "      <th>product_id</th>\n",
       "      <th>seller_id</th>\n",
       "      <th>shipping_limit_date</th>\n",
       "      <th>price</th>\n",
       "      <th>freight_value</th>\n",
       "      <th>order_items_id</th>\n",
       "      <th>total_price</th>\n",
       "    </tr>\n",
       "  </thead>\n",
       "  <tbody>\n",
       "    <tr>\n",
       "      <th>58975</th>\n",
       "      <td>8653f85a-a59d-e4b8-9435-d4b44c8da67c</td>\n",
       "      <td>1</td>\n",
       "      <td>5328338c-faa1-6ba1-0561-cd970c73ca11</td>\n",
       "      <td>12b9676b-00f6-0f3b-700e-83af21824c0e</td>\n",
       "      <td>2018-04-09 03:48:06</td>\n",
       "      <td>199.00</td>\n",
       "      <td>26.15</td>\n",
       "      <td>58975</td>\n",
       "      <td>225.15</td>\n",
       "    </tr>\n",
       "    <tr>\n",
       "      <th>16602</th>\n",
       "      <td>25fd9ab4-10ed-9411-87c4-1224aaecd049</td>\n",
       "      <td>1</td>\n",
       "      <td>5d42919d-908b-17ec-1848-699d89e2bace</td>\n",
       "      <td>855668e0-971d-4dfd-7bef-1b6a4133b41b</td>\n",
       "      <td>2017-07-26 02:24:54</td>\n",
       "      <td>240.00</td>\n",
       "      <td>39.52</td>\n",
       "      <td>16602</td>\n",
       "      <td>279.52</td>\n",
       "    </tr>\n",
       "    <tr>\n",
       "      <th>84296</th>\n",
       "      <td>bf889dfb-c028-003f-df79-5584501b9530</td>\n",
       "      <td>1</td>\n",
       "      <td>86facec0-be6e-caeb-315a-d287b9841c4f</td>\n",
       "      <td>0be8ff43-f22e-456b-4e03-71b2245e4d01</td>\n",
       "      <td>2018-02-14 19:10:05</td>\n",
       "      <td>99.90</td>\n",
       "      <td>9.51</td>\n",
       "      <td>84296</td>\n",
       "      <td>109.41</td>\n",
       "    </tr>\n",
       "    <tr>\n",
       "      <th>67925</th>\n",
       "      <td>9b496783-c375-4fac-34c3-f4ac1eee7d9e</td>\n",
       "      <td>1</td>\n",
       "      <td>18ab9bce-7759-767e-ff9c-fcbeb6de70ce</td>\n",
       "      <td>d91fb3b7-d041-e83b-64a0-0a3edfb37e4f</td>\n",
       "      <td>2018-03-01 15:54:40</td>\n",
       "      <td>35.00</td>\n",
       "      <td>16.79</td>\n",
       "      <td>67925</td>\n",
       "      <td>51.79</td>\n",
       "    </tr>\n",
       "    <tr>\n",
       "      <th>101829</th>\n",
       "      <td>e71a1248-d8a4-6799-adbb-d50262053732</td>\n",
       "      <td>1</td>\n",
       "      <td>4638e41e-1c53-0188-97e1-2edbb2815807</td>\n",
       "      <td>04aa0a1c-5ce6-b222-0034-03a3e11c3cc0</td>\n",
       "      <td>2017-09-13 20:30:12</td>\n",
       "      <td>378.00</td>\n",
       "      <td>60.82</td>\n",
       "      <td>101829</td>\n",
       "      <td>438.82</td>\n",
       "    </tr>\n",
       "    <tr>\n",
       "      <th>12813</th>\n",
       "      <td>1d090f01-94c3-5ed8-b589-f82f102bd758</td>\n",
       "      <td>1</td>\n",
       "      <td>629beb8e-7317-703d-cc5f-35b5463fd20e</td>\n",
       "      <td>b0f2a612-2a90-a93e-b03e-68653dd960e3</td>\n",
       "      <td>2018-05-04 17:15:15</td>\n",
       "      <td>558.90</td>\n",
       "      <td>26.49</td>\n",
       "      <td>12813</td>\n",
       "      <td>585.39</td>\n",
       "    </tr>\n",
       "    <tr>\n",
       "      <th>30988</th>\n",
       "      <td>464fa85d-3390-3ce6-bbc9-8bc18223dfe2</td>\n",
       "      <td>2</td>\n",
       "      <td>a62e25e0-9e05-e6fa-f31d-90c6ec1aa3d1</td>\n",
       "      <td>634964b1-7796-e643-04ca-df1ad3050fb7</td>\n",
       "      <td>2018-06-15 17:31:42</td>\n",
       "      <td>105.00</td>\n",
       "      <td>16.93</td>\n",
       "      <td>30988</td>\n",
       "      <td>226.93</td>\n",
       "    </tr>\n",
       "    <tr>\n",
       "      <th>75173</th>\n",
       "      <td>ab2e481b-1ef0-43b4-1c20-2628100f6b4b</td>\n",
       "      <td>1</td>\n",
       "      <td>9faa5e4f-81da-9a1b-33f8-d8f3ed90e89a</td>\n",
       "      <td>acce39e8-3233-8deb-b07b-02385cde5967</td>\n",
       "      <td>2018-08-08 03:05:18</td>\n",
       "      <td>129.90</td>\n",
       "      <td>27.89</td>\n",
       "      <td>75173</td>\n",
       "      <td>157.79</td>\n",
       "    </tr>\n",
       "    <tr>\n",
       "      <th>109519</th>\n",
       "      <td>f8ed26e5-b5bc-fb0d-2083-3e3996b5e426</td>\n",
       "      <td>1</td>\n",
       "      <td>1f75be63-1e98-8bb0-ad75-0e60e18d043b</td>\n",
       "      <td>fd386aa7-bed2-af3c-7035-c65506c9b4a3</td>\n",
       "      <td>2018-07-17 12:35:14</td>\n",
       "      <td>13.99</td>\n",
       "      <td>12.79</td>\n",
       "      <td>109519</td>\n",
       "      <td>26.78</td>\n",
       "    </tr>\n",
       "    <tr>\n",
       "      <th>42282</th>\n",
       "      <td>6053546d-e45b-3aa8-422e-e0020b1a2da4</td>\n",
       "      <td>1</td>\n",
       "      <td>fde4e97b-75bd-817d-8c4a-ef8de39ed4d9</td>\n",
       "      <td>0ea22c1c-fbdc-755f-86b9-b54b39c16043</td>\n",
       "      <td>2017-05-17 21:25:18</td>\n",
       "      <td>79.90</td>\n",
       "      <td>15.31</td>\n",
       "      <td>42282</td>\n",
       "      <td>95.21</td>\n",
       "    </tr>\n",
       "  </tbody>\n",
       "</table>\n",
       "</div>"
      ]
     },
     "execution_count": 22,
     "metadata": {},
     "output_type": "execute_result"
    }
   ],
   "execution_count": 22
  },
  {
   "metadata": {
    "ExecuteTime": {
     "end_time": "2025-03-08T08:22:47.845744Z",
     "start_time": "2025-03-08T08:22:47.831771Z"
    }
   },
   "cell_type": "code",
   "source": "order_items_df.drop([\"order_items_id\"], axis=1, inplace=True)",
   "id": "5b9babf4add9223e",
   "outputs": [],
   "execution_count": 23
  },
  {
   "metadata": {},
   "cell_type": "markdown",
   "source": "Dropping `order_items_id` because it doesn't provide any information about dataset. It simply acts as the index value.",
   "id": "dbb1962f92001bf2"
  },
  {
   "metadata": {
    "ExecuteTime": {
     "end_time": "2025-03-08T08:22:47.935957Z",
     "start_time": "2025-03-08T08:22:47.930203Z"
    }
   },
   "cell_type": "code",
   "source": "order_items_df.rename({\"quantity\": \"order_item_id\"}, axis=1, inplace=True)",
   "id": "b868efe786b4de58",
   "outputs": [],
   "execution_count": 24
  },
  {
   "metadata": {},
   "cell_type": "markdown",
   "source": [
    "**Note:** Previously `order_item_id` was misjudged as `quantity`, it was used in total price calculation. So we have to fix the total price by recalculating it.\n",
    "`order_item_id` shows the id of item in particular order."
   ],
   "id": "ca9335d6286e570c"
  },
  {
   "metadata": {
    "ExecuteTime": {
     "end_time": "2025-03-08T08:22:48.287439Z",
     "start_time": "2025-03-08T08:22:48.281819Z"
    }
   },
   "cell_type": "code",
   "source": [
    "order_items_df[\"total_price\"] = (\n",
    "    order_items_df[\"freight_value\"] + order_items_df[\"price\"]\n",
    ")"
   ],
   "id": "815c3e6b1246afa1",
   "outputs": [],
   "execution_count": 25
  },
  {
   "metadata": {},
   "cell_type": "markdown",
   "source": "`total_price` was calculated with quantity which was `order_item_id`, so we have to recalculate the total price, where `price` shows the price of the product and `freight_value` shows the shipping cost of the particular order.",
   "id": "3e8d85f0a18fddae"
  },
  {
   "metadata": {
    "ExecuteTime": {
     "end_time": "2025-03-08T08:22:48.301948Z",
     "start_time": "2025-03-08T08:22:48.297266Z"
    }
   },
   "cell_type": "code",
   "source": "import numpy as np",
   "id": "d75a1d85663d6e9b",
   "outputs": [],
   "execution_count": 26
  },
  {
   "metadata": {
    "ExecuteTime": {
     "end_time": "2025-03-08T08:22:48.898330Z",
     "start_time": "2025-03-08T08:22:48.503187Z"
    }
   },
   "cell_type": "code",
   "source": [
    "order_items_df[\"total_price\"] = (\n",
    "    order_items_df[\"total_price\"].apply(np.round).astype(int)\n",
    ")"
   ],
   "id": "7a59693aead76a82",
   "outputs": [],
   "execution_count": 27
  },
  {
   "metadata": {
    "ExecuteTime": {
     "end_time": "2025-03-08T08:22:49.183481Z",
     "start_time": "2025-03-08T08:22:49.100687Z"
    }
   },
   "cell_type": "code",
   "source": "order_items_df.duplicated().sum()",
   "id": "7914409263129f97",
   "outputs": [
    {
     "data": {
      "text/plain": [
       "np.int64(0)"
      ]
     },
     "execution_count": 28,
     "metadata": {},
     "output_type": "execute_result"
    }
   ],
   "execution_count": 28
  },
  {
   "metadata": {
    "ExecuteTime": {
     "end_time": "2025-03-08T08:22:49.886169Z",
     "start_time": "2025-03-08T08:22:49.357307Z"
    }
   },
   "cell_type": "code",
   "source": [
    "order_items_df[\"order_id\"] = order_items_df[\"order_id\"].apply(UUID)\n",
    "order_items_df[\"product_id\"] = order_items_df[\"product_id\"].apply(UUID)\n",
    "order_items_df[\"seller_id\"] = order_items_df[\"seller_id\"].apply(UUID)"
   ],
   "id": "d704b0390ae71266",
   "outputs": [],
   "execution_count": 29
  },
  {
   "metadata": {},
   "cell_type": "markdown",
   "source": "### Order Payments",
   "id": "a47a49c19d80c66b"
  },
  {
   "metadata": {
    "ExecuteTime": {
     "end_time": "2025-03-08T08:22:50.086766Z",
     "start_time": "2025-03-08T08:22:50.080319Z"
    }
   },
   "cell_type": "code",
   "source": "order_payments_df.shape",
   "id": "2d9210b7e4e97c6e",
   "outputs": [
    {
     "data": {
      "text/plain": [
       "(103886, 5)"
      ]
     },
     "execution_count": 30,
     "metadata": {},
     "output_type": "execute_result"
    }
   ],
   "execution_count": 30
  },
  {
   "metadata": {
    "ExecuteTime": {
     "end_time": "2025-03-08T08:22:50.301113Z",
     "start_time": "2025-03-08T08:22:50.293885Z"
    }
   },
   "cell_type": "code",
   "source": "order_payments_df.dtypes",
   "id": "795567411698c804",
   "outputs": [
    {
     "data": {
      "text/plain": [
       "order_id                 object\n",
       "payment_sequential        int64\n",
       "payment_type             object\n",
       "payment_installments      int64\n",
       "payment_value           float64\n",
       "dtype: object"
      ]
     },
     "execution_count": 31,
     "metadata": {},
     "output_type": "execute_result"
    }
   ],
   "execution_count": 31
  },
  {
   "metadata": {},
   "cell_type": "markdown",
   "source": "`order_payments` is in correct datatypes.",
   "id": "aa6d0a5ee6178c9a"
  },
  {
   "metadata": {
    "ExecuteTime": {
     "end_time": "2025-03-08T08:22:50.500524Z",
     "start_time": "2025-03-08T08:22:50.485490Z"
    }
   },
   "cell_type": "code",
   "source": "order_payments_df.isnull().sum()",
   "id": "bb6c0d7652bad3c5",
   "outputs": [
    {
     "data": {
      "text/plain": [
       "order_id                0\n",
       "payment_sequential      0\n",
       "payment_type            0\n",
       "payment_installments    0\n",
       "payment_value           0\n",
       "dtype: int64"
      ]
     },
     "execution_count": 32,
     "metadata": {},
     "output_type": "execute_result"
    }
   ],
   "execution_count": 32
  },
  {
   "metadata": {
    "ExecuteTime": {
     "end_time": "2025-03-08T08:22:50.612595Z",
     "start_time": "2025-03-08T08:22:50.566564Z"
    }
   },
   "cell_type": "code",
   "source": "order_payments_df.duplicated().sum()",
   "id": "a089932bfb000257",
   "outputs": [
    {
     "data": {
      "text/plain": [
       "np.int64(0)"
      ]
     },
     "execution_count": 33,
     "metadata": {},
     "output_type": "execute_result"
    }
   ],
   "execution_count": 33
  },
  {
   "metadata": {
    "ExecuteTime": {
     "end_time": "2025-03-08T08:22:50.824738Z",
     "start_time": "2025-03-08T08:22:50.684323Z"
    }
   },
   "cell_type": "code",
   "source": "order_payments_df[\"order_id\"] = order_payments_df[\"order_id\"].apply(UUID)",
   "id": "1dbacee7009f3114",
   "outputs": [],
   "execution_count": 34
  },
  {
   "metadata": {},
   "cell_type": "markdown",
   "source": "### Order Reviews",
   "id": "e7d896711ec71b4d"
  },
  {
   "metadata": {
    "ExecuteTime": {
     "end_time": "2025-03-08T10:36:17.820809Z",
     "start_time": "2025-03-08T10:36:17.815169Z"
    }
   },
   "cell_type": "code",
   "source": "order_reviews_df.shape",
   "id": "d0dc2ee6c6c3556b",
   "outputs": [
    {
     "data": {
      "text/plain": [
       "(99224, 7)"
      ]
     },
     "execution_count": 165,
     "metadata": {},
     "output_type": "execute_result"
    }
   ],
   "execution_count": 165
  },
  {
   "metadata": {
    "ExecuteTime": {
     "end_time": "2025-03-08T10:36:21.678069Z",
     "start_time": "2025-03-08T10:36:21.672135Z"
    }
   },
   "cell_type": "code",
   "source": "order_reviews_df.dtypes",
   "id": "728c211b8f2a8604",
   "outputs": [
    {
     "data": {
      "text/plain": [
       "review_id                          object\n",
       "order_id                           object\n",
       "review_score                        int64\n",
       "review_comment_title               object\n",
       "review_comment_message             object\n",
       "review_creation_date       datetime64[ns]\n",
       "review_answer_timestamp            object\n",
       "dtype: object"
      ]
     },
     "execution_count": 166,
     "metadata": {},
     "output_type": "execute_result"
    }
   ],
   "execution_count": 166
  },
  {
   "metadata": {
    "ExecuteTime": {
     "end_time": "2025-03-08T10:36:22.557280Z",
     "start_time": "2025-03-08T10:36:22.534538Z"
    }
   },
   "cell_type": "code",
   "source": "order_reviews_df.isnull().sum()",
   "id": "9ca6f85e9e3a2df7",
   "outputs": [
    {
     "data": {
      "text/plain": [
       "review_id                      0\n",
       "order_id                       0\n",
       "review_score                   0\n",
       "review_comment_title       87656\n",
       "review_comment_message     58247\n",
       "review_creation_date           0\n",
       "review_answer_timestamp        0\n",
       "dtype: int64"
      ]
     },
     "execution_count": 167,
     "metadata": {},
     "output_type": "execute_result"
    }
   ],
   "execution_count": 167
  },
  {
   "metadata": {},
   "cell_type": "markdown",
   "source": "**NaN** values in `review_comment_title` and `review_comment_message` contains more than half of the data. So dropping them is needed.",
   "id": "9f5a889b853e1ef8"
  },
  {
   "metadata": {
    "ExecuteTime": {
     "end_time": "2025-03-08T10:36:24.549271Z",
     "start_time": "2025-03-08T10:36:24.539952Z"
    }
   },
   "cell_type": "code",
   "source": "order_reviews_df.head()",
   "id": "e64bcdc5bee6e3db",
   "outputs": [
    {
     "data": {
      "text/plain": [
       "                              review_id                              order_id  \\\n",
       "0  7bc24061-10b9-2639-3aa5-6f80a40eba40  73fc7af8-7114-b397-12e6-da79b0a377eb   \n",
       "1  80e641a1-1e56-f04c-1ad4-69d5645fdfde  a548910a-1c61-4779-6b98-fdf73dbeba33   \n",
       "2  228ce550-0dc1-d8e0-20d8-d1322874b6f0  f9e4b658-b201-a9f2-ecde-cbb34bed034b   \n",
       "3  e64fb393-e7b3-2834-bb78-9ff8bb30750e  658677c9-7b38-5a9b-e170-737859d3511b   \n",
       "4  f7c4243c-7fe1-938f-181b-ec41a392bdeb  8e6bfb81-e283-fa7e-4f11-123a3fb894f1   \n",
       "\n",
       "   review_score review_comment_title  \\\n",
       "0             4                 None   \n",
       "1             5                 None   \n",
       "2             5                 None   \n",
       "3             5                 None   \n",
       "4             5                 None   \n",
       "\n",
       "                              review_comment_message review_creation_date  \\\n",
       "0                                               None           2018-01-18   \n",
       "1                                               None           2018-03-10   \n",
       "2                                               None           2018-02-17   \n",
       "3              Recebi bem antes do prazo estipulado.           2017-04-21   \n",
       "4  Parabéns lojas lannister adorei comprar pela I...           2018-03-01   \n",
       "\n",
       "  review_answer_timestamp  \n",
       "0     2018-01-18 21:46:59  \n",
       "1     2018-03-11 03:05:13  \n",
       "2     2018-02-18 14:36:24  \n",
       "3     2017-04-21 22:02:06  \n",
       "4     2018-03-02 10:26:53  "
      ],
      "text/html": [
       "<div>\n",
       "<style scoped>\n",
       "    .dataframe tbody tr th:only-of-type {\n",
       "        vertical-align: middle;\n",
       "    }\n",
       "\n",
       "    .dataframe tbody tr th {\n",
       "        vertical-align: top;\n",
       "    }\n",
       "\n",
       "    .dataframe thead th {\n",
       "        text-align: right;\n",
       "    }\n",
       "</style>\n",
       "<table border=\"1\" class=\"dataframe\">\n",
       "  <thead>\n",
       "    <tr style=\"text-align: right;\">\n",
       "      <th></th>\n",
       "      <th>review_id</th>\n",
       "      <th>order_id</th>\n",
       "      <th>review_score</th>\n",
       "      <th>review_comment_title</th>\n",
       "      <th>review_comment_message</th>\n",
       "      <th>review_creation_date</th>\n",
       "      <th>review_answer_timestamp</th>\n",
       "    </tr>\n",
       "  </thead>\n",
       "  <tbody>\n",
       "    <tr>\n",
       "      <th>0</th>\n",
       "      <td>7bc24061-10b9-2639-3aa5-6f80a40eba40</td>\n",
       "      <td>73fc7af8-7114-b397-12e6-da79b0a377eb</td>\n",
       "      <td>4</td>\n",
       "      <td>None</td>\n",
       "      <td>None</td>\n",
       "      <td>2018-01-18</td>\n",
       "      <td>2018-01-18 21:46:59</td>\n",
       "    </tr>\n",
       "    <tr>\n",
       "      <th>1</th>\n",
       "      <td>80e641a1-1e56-f04c-1ad4-69d5645fdfde</td>\n",
       "      <td>a548910a-1c61-4779-6b98-fdf73dbeba33</td>\n",
       "      <td>5</td>\n",
       "      <td>None</td>\n",
       "      <td>None</td>\n",
       "      <td>2018-03-10</td>\n",
       "      <td>2018-03-11 03:05:13</td>\n",
       "    </tr>\n",
       "    <tr>\n",
       "      <th>2</th>\n",
       "      <td>228ce550-0dc1-d8e0-20d8-d1322874b6f0</td>\n",
       "      <td>f9e4b658-b201-a9f2-ecde-cbb34bed034b</td>\n",
       "      <td>5</td>\n",
       "      <td>None</td>\n",
       "      <td>None</td>\n",
       "      <td>2018-02-17</td>\n",
       "      <td>2018-02-18 14:36:24</td>\n",
       "    </tr>\n",
       "    <tr>\n",
       "      <th>3</th>\n",
       "      <td>e64fb393-e7b3-2834-bb78-9ff8bb30750e</td>\n",
       "      <td>658677c9-7b38-5a9b-e170-737859d3511b</td>\n",
       "      <td>5</td>\n",
       "      <td>None</td>\n",
       "      <td>Recebi bem antes do prazo estipulado.</td>\n",
       "      <td>2017-04-21</td>\n",
       "      <td>2017-04-21 22:02:06</td>\n",
       "    </tr>\n",
       "    <tr>\n",
       "      <th>4</th>\n",
       "      <td>f7c4243c-7fe1-938f-181b-ec41a392bdeb</td>\n",
       "      <td>8e6bfb81-e283-fa7e-4f11-123a3fb894f1</td>\n",
       "      <td>5</td>\n",
       "      <td>None</td>\n",
       "      <td>Parabéns lojas lannister adorei comprar pela I...</td>\n",
       "      <td>2018-03-01</td>\n",
       "      <td>2018-03-02 10:26:53</td>\n",
       "    </tr>\n",
       "  </tbody>\n",
       "</table>\n",
       "</div>"
      ]
     },
     "execution_count": 168,
     "metadata": {},
     "output_type": "execute_result"
    }
   ],
   "execution_count": 168
  },
  {
   "metadata": {
    "ExecuteTime": {
     "end_time": "2025-03-08T10:36:26.050682Z",
     "start_time": "2025-03-08T10:36:26.038977Z"
    }
   },
   "cell_type": "code",
   "source": [
    "order_reviews_df.drop(\n",
    "    [\"review_comment_title\", \"review_comment_message\"], axis=1, inplace=True\n",
    ")"
   ],
   "id": "24f604725851a06b",
   "outputs": [],
   "execution_count": 169
  },
  {
   "metadata": {
    "ExecuteTime": {
     "end_time": "2025-03-08T10:36:30.101640Z",
     "start_time": "2025-03-08T10:36:30.062659Z"
    }
   },
   "cell_type": "code",
   "source": [
    "order_reviews_df[\"review_answer_timestamp\"] = pd.to_datetime(\n",
    "    order_reviews_df[\"review_answer_timestamp\"]\n",
    ")"
   ],
   "id": "ba2fb002edad69ae",
   "outputs": [],
   "execution_count": 170
  },
  {
   "metadata": {
    "ExecuteTime": {
     "end_time": "2025-03-08T10:36:31.921527Z",
     "start_time": "2025-03-08T10:36:31.915075Z"
    }
   },
   "cell_type": "code",
   "source": "order_reviews_df.dtypes",
   "id": "7f2c4c138aab5dc2",
   "outputs": [
    {
     "data": {
      "text/plain": [
       "review_id                          object\n",
       "order_id                           object\n",
       "review_score                        int64\n",
       "review_creation_date       datetime64[ns]\n",
       "review_answer_timestamp    datetime64[ns]\n",
       "dtype: object"
      ]
     },
     "execution_count": 171,
     "metadata": {},
     "output_type": "execute_result"
    }
   ],
   "execution_count": 171
  },
  {
   "metadata": {
    "ExecuteTime": {
     "end_time": "2025-03-08T10:36:33.002964Z",
     "start_time": "2025-03-08T10:36:32.950134Z"
    }
   },
   "cell_type": "code",
   "source": "order_reviews_df.duplicated().sum()",
   "id": "e27a4034eb1ed114",
   "outputs": [
    {
     "data": {
      "text/plain": [
       "np.int64(0)"
      ]
     },
     "execution_count": 172,
     "metadata": {},
     "output_type": "execute_result"
    }
   ],
   "execution_count": 172
  },
  {
   "metadata": {
    "ExecuteTime": {
     "end_time": "2025-03-08T10:36:36.021404Z",
     "start_time": "2025-03-08T10:36:35.299821Z"
    }
   },
   "cell_type": "code",
   "source": [
    "order_reviews_df[\"order_id\"] = order_reviews_df[\"order_id\"].apply(UUID)\n",
    "order_reviews_df[\"review_id\"] = order_reviews_df[\"review_id\"].apply(UUID)"
   ],
   "id": "a2f9650fac899b5a",
   "outputs": [],
   "execution_count": 173
  },
  {
   "metadata": {
    "ExecuteTime": {
     "end_time": "2025-03-08T10:37:31.772789Z",
     "start_time": "2025-03-08T10:37:31.273454Z"
    }
   },
   "cell_type": "code",
   "source": "order_reviews_df.groupby(\"order_id\")[\"review_id\"].count().sort_values(ascending=False)",
   "id": "4b9da3e49973ee89",
   "outputs": [
    {
     "data": {
      "text/plain": [
       "order_id\n",
       "03c939fd-7fd3-b38f-8485-a0f95798f1f6    3\n",
       "8e17072e-c97c-e29f-0e1f-111e598b0c85    3\n",
       "c88b1d1b-157a-9999-ce36-8f218a407141    3\n",
       "df56136b-8031-ecd2-8e20-0bb18e6ddb2e    3\n",
       "7f13a20e-2535-0f4a-55fb-2a7c9a2e8d88    2\n",
       "                                       ..\n",
       "ffe73fc1-d73e-03fd-b50e-63903ddfe882    1\n",
       "ffe88510-12fc-daf8-3de7-b595fd5154b3    1\n",
       "ffea20c7-6303-43a6-cd9e-09858c1295cd    1\n",
       "ffea406a-848c-8afe-4dec-22bf6290ba00    1\n",
       "0008288a-a423-d2a3-f00f-cb17cd7d8719    1\n",
       "Name: review_id, Length: 98673, dtype: int64"
      ]
     },
     "execution_count": 175,
     "metadata": {},
     "output_type": "execute_result"
    }
   ],
   "execution_count": 175
  },
  {
   "metadata": {
    "ExecuteTime": {
     "end_time": "2025-03-08T10:38:42.634141Z",
     "start_time": "2025-03-08T10:38:42.609227Z"
    }
   },
   "cell_type": "code",
   "source": "order_reviews_df[order_reviews_df[\"order_id\"] == UUID(\"03c939fd-7fd3-b38f-8485-a0f95798f1f6\")]",
   "id": "c30470545eff4f8b",
   "outputs": [
    {
     "data": {
      "text/plain": [
       "                                  review_id  \\\n",
       "8273   b04ed893-318d-a5b8-63e8-78cd3d0511df   \n",
       "51351  f4bb9d6d-d4fb-6dcc-2298-f0e7b17b8e1e   \n",
       "69438  405eb2ea-45e1-dbe2-6625-41ae5b47e2aa   \n",
       "\n",
       "                                   order_id  review_score  \\\n",
       "8273   03c939fd-7fd3-b38f-8485-a0f95798f1f6             3   \n",
       "51351  03c939fd-7fd3-b38f-8485-a0f95798f1f6             4   \n",
       "69438  03c939fd-7fd3-b38f-8485-a0f95798f1f6             3   \n",
       "\n",
       "      review_creation_date review_answer_timestamp  \n",
       "8273            2018-03-20     2018-03-21 02:28:23  \n",
       "51351           2018-03-29     2018-03-30 00:29:09  \n",
       "69438           2018-03-06     2018-03-06 19:50:32  "
      ],
      "text/html": [
       "<div>\n",
       "<style scoped>\n",
       "    .dataframe tbody tr th:only-of-type {\n",
       "        vertical-align: middle;\n",
       "    }\n",
       "\n",
       "    .dataframe tbody tr th {\n",
       "        vertical-align: top;\n",
       "    }\n",
       "\n",
       "    .dataframe thead th {\n",
       "        text-align: right;\n",
       "    }\n",
       "</style>\n",
       "<table border=\"1\" class=\"dataframe\">\n",
       "  <thead>\n",
       "    <tr style=\"text-align: right;\">\n",
       "      <th></th>\n",
       "      <th>review_id</th>\n",
       "      <th>order_id</th>\n",
       "      <th>review_score</th>\n",
       "      <th>review_creation_date</th>\n",
       "      <th>review_answer_timestamp</th>\n",
       "    </tr>\n",
       "  </thead>\n",
       "  <tbody>\n",
       "    <tr>\n",
       "      <th>8273</th>\n",
       "      <td>b04ed893-318d-a5b8-63e8-78cd3d0511df</td>\n",
       "      <td>03c939fd-7fd3-b38f-8485-a0f95798f1f6</td>\n",
       "      <td>3</td>\n",
       "      <td>2018-03-20</td>\n",
       "      <td>2018-03-21 02:28:23</td>\n",
       "    </tr>\n",
       "    <tr>\n",
       "      <th>51351</th>\n",
       "      <td>f4bb9d6d-d4fb-6dcc-2298-f0e7b17b8e1e</td>\n",
       "      <td>03c939fd-7fd3-b38f-8485-a0f95798f1f6</td>\n",
       "      <td>4</td>\n",
       "      <td>2018-03-29</td>\n",
       "      <td>2018-03-30 00:29:09</td>\n",
       "    </tr>\n",
       "    <tr>\n",
       "      <th>69438</th>\n",
       "      <td>405eb2ea-45e1-dbe2-6625-41ae5b47e2aa</td>\n",
       "      <td>03c939fd-7fd3-b38f-8485-a0f95798f1f6</td>\n",
       "      <td>3</td>\n",
       "      <td>2018-03-06</td>\n",
       "      <td>2018-03-06 19:50:32</td>\n",
       "    </tr>\n",
       "  </tbody>\n",
       "</table>\n",
       "</div>"
      ]
     },
     "execution_count": 176,
     "metadata": {},
     "output_type": "execute_result"
    }
   ],
   "execution_count": 176
  },
  {
   "metadata": {},
   "cell_type": "markdown",
   "source": "single `order_id` contains 3 reviews, which is misleading. a single order can only be brought by single customer, so we have to remove the duplicates and keep the latest review.",
   "id": "113a0b90aad74832"
  },
  {
   "metadata": {
    "ExecuteTime": {
     "end_time": "2025-03-08T10:40:33.968697Z",
     "start_time": "2025-03-08T10:40:33.862292Z"
    }
   },
   "cell_type": "code",
   "source": "order_reviews_df = order_reviews_df.sort_values(\"review_creation_date\").drop_duplicates(\"order_id\", keep=\"last\")",
   "id": "4972bd1b9d8fc927",
   "outputs": [],
   "execution_count": 177
  },
  {
   "metadata": {},
   "cell_type": "markdown",
   "source": "#### Orders",
   "id": "a2ddd4574b04df99"
  },
  {
   "metadata": {
    "ExecuteTime": {
     "end_time": "2025-03-08T08:22:52.408981Z",
     "start_time": "2025-03-08T08:22:52.404618Z"
    }
   },
   "cell_type": "code",
   "source": "orders_df.shape",
   "id": "b46d1b17cf524f45",
   "outputs": [
    {
     "data": {
      "text/plain": [
       "(99441, 8)"
      ]
     },
     "execution_count": 44,
     "metadata": {},
     "output_type": "execute_result"
    }
   ],
   "execution_count": 44
  },
  {
   "metadata": {
    "ExecuteTime": {
     "end_time": "2025-03-08T08:22:52.592747Z",
     "start_time": "2025-03-08T08:22:52.584736Z"
    }
   },
   "cell_type": "code",
   "source": "orders_df.dtypes",
   "id": "65fb53a289d46732",
   "outputs": [
    {
     "data": {
      "text/plain": [
       "order_id                                 object\n",
       "customer_id                              object\n",
       "order_status                             object\n",
       "order_purchase_timestamp         datetime64[ns]\n",
       "order_approved_at                datetime64[ns]\n",
       "order_delivered_carrier_date     datetime64[ns]\n",
       "order_delivered_customer_date    datetime64[ns]\n",
       "order_estimated_delivery_date    datetime64[ns]\n",
       "dtype: object"
      ]
     },
     "execution_count": 45,
     "metadata": {},
     "output_type": "execute_result"
    }
   ],
   "execution_count": 45
  },
  {
   "metadata": {
    "ExecuteTime": {
     "end_time": "2025-03-08T08:22:52.972Z",
     "start_time": "2025-03-08T08:22:52.953236Z"
    }
   },
   "cell_type": "code",
   "source": "orders_df.isnull().sum()",
   "id": "908f9824364f006c",
   "outputs": [
    {
     "data": {
      "text/plain": [
       "order_id                            0\n",
       "customer_id                         0\n",
       "order_status                        0\n",
       "order_purchase_timestamp            0\n",
       "order_approved_at                 160\n",
       "order_delivered_carrier_date     1783\n",
       "order_delivered_customer_date    2965\n",
       "order_estimated_delivery_date       0\n",
       "dtype: int64"
      ]
     },
     "execution_count": 46,
     "metadata": {},
     "output_type": "execute_result"
    }
   ],
   "execution_count": 46
  },
  {
   "metadata": {},
   "cell_type": "markdown",
   "source": "`order_approved_at`, `order_delievered_carriar_date` and `order_delivered_customer_date` contains NaN values but those are linked with `order_status`, if order is cancelled those columns will not be populated.",
   "id": "6d016ea67e94e684"
  },
  {
   "metadata": {
    "ExecuteTime": {
     "end_time": "2025-03-08T08:22:53.024723Z",
     "start_time": "2025-03-08T08:22:53.015629Z"
    }
   },
   "cell_type": "code",
   "source": "orders_df.head()",
   "id": "ee83e67a4322cca6",
   "outputs": [
    {
     "data": {
      "text/plain": [
       "                               order_id                           customer_id  \\\n",
       "0  e481f51c-bdc5-4678-b7cc-49136f2d6af7  9ef432eb-6251-2973-04e7-6186b10a928d   \n",
       "1  53cdb2fc-8bc7-dce0-b674-1e2150273451  b0830fb4-747a-6c6d-20de-a0b8c802d7ef   \n",
       "2  47770eb9-100c-2d0c-4494-6d9cf07ec65d  41ce2a54-c0b0-3bf3-443c-3d931a367089   \n",
       "3  949d5b44-dbf5-de91-8fe9-c16f97b45f8a  f8819746-5ea7-920a-dcdb-ec7375364d82   \n",
       "4  ad21c59c-0840-e6cb-83a9-ceb5573f8159  8ab97904-e6da-ea88-66db-dbc4fb7aad2c   \n",
       "\n",
       "  order_status order_purchase_timestamp   order_approved_at  \\\n",
       "0    delivered      2017-10-02 10:56:33 2017-10-02 11:07:15   \n",
       "1    delivered      2018-07-24 20:41:37 2018-07-26 03:24:27   \n",
       "2    delivered      2018-08-08 08:38:49 2018-08-08 08:55:23   \n",
       "3    delivered      2017-11-18 19:28:06 2017-11-18 19:45:59   \n",
       "4    delivered      2018-02-13 21:18:39 2018-02-13 22:20:29   \n",
       "\n",
       "  order_delivered_carrier_date order_delivered_customer_date  \\\n",
       "0          2017-10-04 19:55:00           2017-10-10 21:25:13   \n",
       "1          2018-07-26 14:31:00           2018-08-07 15:27:45   \n",
       "2          2018-08-08 13:50:00           2018-08-17 18:06:29   \n",
       "3          2017-11-22 13:39:59           2017-12-02 00:28:42   \n",
       "4          2018-02-14 19:46:34           2018-02-16 18:17:02   \n",
       "\n",
       "  order_estimated_delivery_date  \n",
       "0                    2017-10-18  \n",
       "1                    2018-08-13  \n",
       "2                    2018-09-04  \n",
       "3                    2017-12-15  \n",
       "4                    2018-02-26  "
      ],
      "text/html": [
       "<div>\n",
       "<style scoped>\n",
       "    .dataframe tbody tr th:only-of-type {\n",
       "        vertical-align: middle;\n",
       "    }\n",
       "\n",
       "    .dataframe tbody tr th {\n",
       "        vertical-align: top;\n",
       "    }\n",
       "\n",
       "    .dataframe thead th {\n",
       "        text-align: right;\n",
       "    }\n",
       "</style>\n",
       "<table border=\"1\" class=\"dataframe\">\n",
       "  <thead>\n",
       "    <tr style=\"text-align: right;\">\n",
       "      <th></th>\n",
       "      <th>order_id</th>\n",
       "      <th>customer_id</th>\n",
       "      <th>order_status</th>\n",
       "      <th>order_purchase_timestamp</th>\n",
       "      <th>order_approved_at</th>\n",
       "      <th>order_delivered_carrier_date</th>\n",
       "      <th>order_delivered_customer_date</th>\n",
       "      <th>order_estimated_delivery_date</th>\n",
       "    </tr>\n",
       "  </thead>\n",
       "  <tbody>\n",
       "    <tr>\n",
       "      <th>0</th>\n",
       "      <td>e481f51c-bdc5-4678-b7cc-49136f2d6af7</td>\n",
       "      <td>9ef432eb-6251-2973-04e7-6186b10a928d</td>\n",
       "      <td>delivered</td>\n",
       "      <td>2017-10-02 10:56:33</td>\n",
       "      <td>2017-10-02 11:07:15</td>\n",
       "      <td>2017-10-04 19:55:00</td>\n",
       "      <td>2017-10-10 21:25:13</td>\n",
       "      <td>2017-10-18</td>\n",
       "    </tr>\n",
       "    <tr>\n",
       "      <th>1</th>\n",
       "      <td>53cdb2fc-8bc7-dce0-b674-1e2150273451</td>\n",
       "      <td>b0830fb4-747a-6c6d-20de-a0b8c802d7ef</td>\n",
       "      <td>delivered</td>\n",
       "      <td>2018-07-24 20:41:37</td>\n",
       "      <td>2018-07-26 03:24:27</td>\n",
       "      <td>2018-07-26 14:31:00</td>\n",
       "      <td>2018-08-07 15:27:45</td>\n",
       "      <td>2018-08-13</td>\n",
       "    </tr>\n",
       "    <tr>\n",
       "      <th>2</th>\n",
       "      <td>47770eb9-100c-2d0c-4494-6d9cf07ec65d</td>\n",
       "      <td>41ce2a54-c0b0-3bf3-443c-3d931a367089</td>\n",
       "      <td>delivered</td>\n",
       "      <td>2018-08-08 08:38:49</td>\n",
       "      <td>2018-08-08 08:55:23</td>\n",
       "      <td>2018-08-08 13:50:00</td>\n",
       "      <td>2018-08-17 18:06:29</td>\n",
       "      <td>2018-09-04</td>\n",
       "    </tr>\n",
       "    <tr>\n",
       "      <th>3</th>\n",
       "      <td>949d5b44-dbf5-de91-8fe9-c16f97b45f8a</td>\n",
       "      <td>f8819746-5ea7-920a-dcdb-ec7375364d82</td>\n",
       "      <td>delivered</td>\n",
       "      <td>2017-11-18 19:28:06</td>\n",
       "      <td>2017-11-18 19:45:59</td>\n",
       "      <td>2017-11-22 13:39:59</td>\n",
       "      <td>2017-12-02 00:28:42</td>\n",
       "      <td>2017-12-15</td>\n",
       "    </tr>\n",
       "    <tr>\n",
       "      <th>4</th>\n",
       "      <td>ad21c59c-0840-e6cb-83a9-ceb5573f8159</td>\n",
       "      <td>8ab97904-e6da-ea88-66db-dbc4fb7aad2c</td>\n",
       "      <td>delivered</td>\n",
       "      <td>2018-02-13 21:18:39</td>\n",
       "      <td>2018-02-13 22:20:29</td>\n",
       "      <td>2018-02-14 19:46:34</td>\n",
       "      <td>2018-02-16 18:17:02</td>\n",
       "      <td>2018-02-26</td>\n",
       "    </tr>\n",
       "  </tbody>\n",
       "</table>\n",
       "</div>"
      ]
     },
     "execution_count": 47,
     "metadata": {},
     "output_type": "execute_result"
    }
   ],
   "execution_count": 47
  },
  {
   "metadata": {
    "ExecuteTime": {
     "end_time": "2025-03-08T08:22:53.243248Z",
     "start_time": "2025-03-08T08:22:53.165095Z"
    }
   },
   "cell_type": "code",
   "source": "orders_df.duplicated().sum()",
   "id": "69bb3c216a44845d",
   "outputs": [
    {
     "data": {
      "text/plain": [
       "np.int64(0)"
      ]
     },
     "execution_count": 48,
     "metadata": {},
     "output_type": "execute_result"
    }
   ],
   "execution_count": 48
  },
  {
   "metadata": {
    "ExecuteTime": {
     "end_time": "2025-03-08T08:22:53.653364Z",
     "start_time": "2025-03-08T08:22:53.333912Z"
    }
   },
   "cell_type": "code",
   "source": [
    "orders_df[\"order_id\"] = orders_df[\"order_id\"].apply(UUID)\n",
    "orders_df[\"customer_id\"] = orders_df[\"customer_id\"].apply(UUID)"
   ],
   "id": "c71e8075d2cb3275",
   "outputs": [],
   "execution_count": 49
  },
  {
   "metadata": {},
   "cell_type": "markdown",
   "source": "### Product Categories",
   "id": "36677a2fed851e86"
  },
  {
   "metadata": {
    "ExecuteTime": {
     "end_time": "2025-03-08T08:22:53.666384Z",
     "start_time": "2025-03-08T08:22:53.661569Z"
    }
   },
   "cell_type": "code",
   "source": "product_category_df.shape",
   "id": "286f12ba780b9c49",
   "outputs": [
    {
     "data": {
      "text/plain": [
       "(71, 2)"
      ]
     },
     "execution_count": 50,
     "metadata": {},
     "output_type": "execute_result"
    }
   ],
   "execution_count": 50
  },
  {
   "metadata": {
    "ExecuteTime": {
     "end_time": "2025-03-08T08:22:53.884258Z",
     "start_time": "2025-03-08T08:22:53.876468Z"
    }
   },
   "cell_type": "code",
   "source": "product_category_df.dtypes",
   "id": "59e850bdbd5873aa",
   "outputs": [
    {
     "data": {
      "text/plain": [
       "product_category_name            object\n",
       "product_category_name_english    object\n",
       "dtype: object"
      ]
     },
     "execution_count": 51,
     "metadata": {},
     "output_type": "execute_result"
    }
   ],
   "execution_count": 51
  },
  {
   "metadata": {
    "ExecuteTime": {
     "end_time": "2025-03-08T08:22:54.179243Z",
     "start_time": "2025-03-08T08:22:54.172606Z"
    }
   },
   "cell_type": "code",
   "source": "product_category_df.isnull().sum()",
   "id": "576aab98e558cfc6",
   "outputs": [
    {
     "data": {
      "text/plain": [
       "product_category_name            0\n",
       "product_category_name_english    0\n",
       "dtype: int64"
      ]
     },
     "execution_count": 52,
     "metadata": {},
     "output_type": "execute_result"
    }
   ],
   "execution_count": 52
  },
  {
   "metadata": {
    "ExecuteTime": {
     "end_time": "2025-03-08T08:22:54.290932Z",
     "start_time": "2025-03-08T08:22:54.282297Z"
    }
   },
   "cell_type": "code",
   "source": "product_category_df.head()",
   "id": "1a37ff462e1cd5fd",
   "outputs": [
    {
     "data": {
      "text/plain": [
       "    product_category_name product_category_name_english\n",
       "0            beleza_saude                 health_beauty\n",
       "1  informatica_acessorios         computers_accessories\n",
       "2              automotivo                          auto\n",
       "3         cama_mesa_banho                bed_bath_table\n",
       "4        moveis_decoracao               furniture_decor"
      ],
      "text/html": [
       "<div>\n",
       "<style scoped>\n",
       "    .dataframe tbody tr th:only-of-type {\n",
       "        vertical-align: middle;\n",
       "    }\n",
       "\n",
       "    .dataframe tbody tr th {\n",
       "        vertical-align: top;\n",
       "    }\n",
       "\n",
       "    .dataframe thead th {\n",
       "        text-align: right;\n",
       "    }\n",
       "</style>\n",
       "<table border=\"1\" class=\"dataframe\">\n",
       "  <thead>\n",
       "    <tr style=\"text-align: right;\">\n",
       "      <th></th>\n",
       "      <th>product_category_name</th>\n",
       "      <th>product_category_name_english</th>\n",
       "    </tr>\n",
       "  </thead>\n",
       "  <tbody>\n",
       "    <tr>\n",
       "      <th>0</th>\n",
       "      <td>beleza_saude</td>\n",
       "      <td>health_beauty</td>\n",
       "    </tr>\n",
       "    <tr>\n",
       "      <th>1</th>\n",
       "      <td>informatica_acessorios</td>\n",
       "      <td>computers_accessories</td>\n",
       "    </tr>\n",
       "    <tr>\n",
       "      <th>2</th>\n",
       "      <td>automotivo</td>\n",
       "      <td>auto</td>\n",
       "    </tr>\n",
       "    <tr>\n",
       "      <th>3</th>\n",
       "      <td>cama_mesa_banho</td>\n",
       "      <td>bed_bath_table</td>\n",
       "    </tr>\n",
       "    <tr>\n",
       "      <th>4</th>\n",
       "      <td>moveis_decoracao</td>\n",
       "      <td>furniture_decor</td>\n",
       "    </tr>\n",
       "  </tbody>\n",
       "</table>\n",
       "</div>"
      ]
     },
     "execution_count": 53,
     "metadata": {},
     "output_type": "execute_result"
    }
   ],
   "execution_count": 53
  },
  {
   "metadata": {},
   "cell_type": "markdown",
   "source": "### Products",
   "id": "abb040735b056164"
  },
  {
   "metadata": {
    "ExecuteTime": {
     "end_time": "2025-03-08T08:22:54.388536Z",
     "start_time": "2025-03-08T08:22:54.382935Z"
    }
   },
   "cell_type": "code",
   "source": "products_df.shape",
   "id": "2281e5806b13dfb",
   "outputs": [
    {
     "data": {
      "text/plain": [
       "(32951, 9)"
      ]
     },
     "execution_count": 54,
     "metadata": {},
     "output_type": "execute_result"
    }
   ],
   "execution_count": 54
  },
  {
   "metadata": {
    "ExecuteTime": {
     "end_time": "2025-03-08T08:22:54.546985Z",
     "start_time": "2025-03-08T08:22:54.539410Z"
    }
   },
   "cell_type": "code",
   "source": "products_df.dtypes",
   "id": "5498942cc8fd86f8",
   "outputs": [
    {
     "data": {
      "text/plain": [
       "product_id                     object\n",
       "product_category_name          object\n",
       "product_name_lenght           float64\n",
       "product_description_lenght    float64\n",
       "product_photos_qty            float64\n",
       "product_weight_g              float64\n",
       "product_length_cm             float64\n",
       "product_height_cm             float64\n",
       "product_width_cm              float64\n",
       "dtype: object"
      ]
     },
     "execution_count": 55,
     "metadata": {},
     "output_type": "execute_result"
    }
   ],
   "execution_count": 55
  },
  {
   "metadata": {
    "ExecuteTime": {
     "end_time": "2025-03-08T08:22:54.733006Z",
     "start_time": "2025-03-08T08:22:54.720284Z"
    }
   },
   "cell_type": "code",
   "source": "products_df.isnull().sum()",
   "id": "724d52a73b50d54d",
   "outputs": [
    {
     "data": {
      "text/plain": [
       "product_id                      0\n",
       "product_category_name         610\n",
       "product_name_lenght           610\n",
       "product_description_lenght    610\n",
       "product_photos_qty            610\n",
       "product_weight_g                2\n",
       "product_length_cm               2\n",
       "product_height_cm               2\n",
       "product_width_cm                2\n",
       "dtype: int64"
      ]
     },
     "execution_count": 56,
     "metadata": {},
     "output_type": "execute_result"
    }
   ],
   "execution_count": 56
  },
  {
   "metadata": {
    "ExecuteTime": {
     "end_time": "2025-03-08T08:22:54.829705Z",
     "start_time": "2025-03-08T08:22:54.815450Z"
    }
   },
   "cell_type": "code",
   "source": "products_df.head()",
   "id": "a55eecab5c4551b7",
   "outputs": [
    {
     "data": {
      "text/plain": [
       "                             product_id  product_category_name  \\\n",
       "0  1e9e8ef0-4dbc-ff45-41ed-26657ea517e5             perfumaria   \n",
       "1  3aa07113-9cb1-6b67-ca9e-5dea641aaa2f                  artes   \n",
       "2  96bd76ec-8810-374e-d1b6-5e291975717f          esporte_lazer   \n",
       "3  cef67bcf-e190-66a9-32b7-673e239eb23d                  bebes   \n",
       "4  9dc1a7de-2744-4484-9c21-9cff195d0b71  utilidades_domesticas   \n",
       "\n",
       "   product_name_lenght  product_description_lenght  product_photos_qty  \\\n",
       "0                 40.0                       287.0                 1.0   \n",
       "1                 44.0                       276.0                 1.0   \n",
       "2                 46.0                       250.0                 1.0   \n",
       "3                 27.0                       261.0                 1.0   \n",
       "4                 37.0                       402.0                 4.0   \n",
       "\n",
       "   product_weight_g  product_length_cm  product_height_cm  product_width_cm  \n",
       "0             225.0               16.0               10.0              14.0  \n",
       "1            1000.0               30.0               18.0              20.0  \n",
       "2             154.0               18.0                9.0              15.0  \n",
       "3             371.0               26.0                4.0              26.0  \n",
       "4             625.0               20.0               17.0              13.0  "
      ],
      "text/html": [
       "<div>\n",
       "<style scoped>\n",
       "    .dataframe tbody tr th:only-of-type {\n",
       "        vertical-align: middle;\n",
       "    }\n",
       "\n",
       "    .dataframe tbody tr th {\n",
       "        vertical-align: top;\n",
       "    }\n",
       "\n",
       "    .dataframe thead th {\n",
       "        text-align: right;\n",
       "    }\n",
       "</style>\n",
       "<table border=\"1\" class=\"dataframe\">\n",
       "  <thead>\n",
       "    <tr style=\"text-align: right;\">\n",
       "      <th></th>\n",
       "      <th>product_id</th>\n",
       "      <th>product_category_name</th>\n",
       "      <th>product_name_lenght</th>\n",
       "      <th>product_description_lenght</th>\n",
       "      <th>product_photos_qty</th>\n",
       "      <th>product_weight_g</th>\n",
       "      <th>product_length_cm</th>\n",
       "      <th>product_height_cm</th>\n",
       "      <th>product_width_cm</th>\n",
       "    </tr>\n",
       "  </thead>\n",
       "  <tbody>\n",
       "    <tr>\n",
       "      <th>0</th>\n",
       "      <td>1e9e8ef0-4dbc-ff45-41ed-26657ea517e5</td>\n",
       "      <td>perfumaria</td>\n",
       "      <td>40.0</td>\n",
       "      <td>287.0</td>\n",
       "      <td>1.0</td>\n",
       "      <td>225.0</td>\n",
       "      <td>16.0</td>\n",
       "      <td>10.0</td>\n",
       "      <td>14.0</td>\n",
       "    </tr>\n",
       "    <tr>\n",
       "      <th>1</th>\n",
       "      <td>3aa07113-9cb1-6b67-ca9e-5dea641aaa2f</td>\n",
       "      <td>artes</td>\n",
       "      <td>44.0</td>\n",
       "      <td>276.0</td>\n",
       "      <td>1.0</td>\n",
       "      <td>1000.0</td>\n",
       "      <td>30.0</td>\n",
       "      <td>18.0</td>\n",
       "      <td>20.0</td>\n",
       "    </tr>\n",
       "    <tr>\n",
       "      <th>2</th>\n",
       "      <td>96bd76ec-8810-374e-d1b6-5e291975717f</td>\n",
       "      <td>esporte_lazer</td>\n",
       "      <td>46.0</td>\n",
       "      <td>250.0</td>\n",
       "      <td>1.0</td>\n",
       "      <td>154.0</td>\n",
       "      <td>18.0</td>\n",
       "      <td>9.0</td>\n",
       "      <td>15.0</td>\n",
       "    </tr>\n",
       "    <tr>\n",
       "      <th>3</th>\n",
       "      <td>cef67bcf-e190-66a9-32b7-673e239eb23d</td>\n",
       "      <td>bebes</td>\n",
       "      <td>27.0</td>\n",
       "      <td>261.0</td>\n",
       "      <td>1.0</td>\n",
       "      <td>371.0</td>\n",
       "      <td>26.0</td>\n",
       "      <td>4.0</td>\n",
       "      <td>26.0</td>\n",
       "    </tr>\n",
       "    <tr>\n",
       "      <th>4</th>\n",
       "      <td>9dc1a7de-2744-4484-9c21-9cff195d0b71</td>\n",
       "      <td>utilidades_domesticas</td>\n",
       "      <td>37.0</td>\n",
       "      <td>402.0</td>\n",
       "      <td>4.0</td>\n",
       "      <td>625.0</td>\n",
       "      <td>20.0</td>\n",
       "      <td>17.0</td>\n",
       "      <td>13.0</td>\n",
       "    </tr>\n",
       "  </tbody>\n",
       "</table>\n",
       "</div>"
      ]
     },
     "execution_count": 57,
     "metadata": {},
     "output_type": "execute_result"
    }
   ],
   "execution_count": 57
  },
  {
   "metadata": {
    "ExecuteTime": {
     "end_time": "2025-03-08T08:22:54.947966Z",
     "start_time": "2025-03-08T08:22:54.942507Z"
    }
   },
   "cell_type": "code",
   "source": [
    "products_df.rename(\n",
    "    {\n",
    "        \"product_description_lenght\": \"product_description_length\",\n",
    "        \"product_name_lenght\": \"product_name_length\",\n",
    "    },\n",
    "    axis=1,\n",
    "    inplace=True,\n",
    ")"
   ],
   "id": "c322bca408321299",
   "outputs": [],
   "execution_count": 58
  },
  {
   "metadata": {
    "ExecuteTime": {
     "end_time": "2025-03-08T08:22:55.049927Z",
     "start_time": "2025-03-08T08:22:55.030389Z"
    }
   },
   "cell_type": "code",
   "source": "products_df.duplicated().sum()",
   "id": "80d42e2d259832a6",
   "outputs": [
    {
     "data": {
      "text/plain": [
       "np.int64(0)"
      ]
     },
     "execution_count": 59,
     "metadata": {},
     "output_type": "execute_result"
    }
   ],
   "execution_count": 59
  },
  {
   "metadata": {
    "ExecuteTime": {
     "end_time": "2025-03-08T08:22:55.168175Z",
     "start_time": "2025-03-08T08:22:55.159113Z"
    }
   },
   "cell_type": "code",
   "source": "products_df.fillna({\"product_category_name\":\"unknown\"}, inplace=True)",
   "id": "1c7c6e8f4d372947",
   "outputs": [],
   "execution_count": 60
  },
  {
   "metadata": {},
   "cell_type": "markdown",
   "source": "`product_category_name` contains nan values, but they show important information about products, so we replace it with \"unknown\"",
   "id": "adf32083beb95d59"
  },
  {
   "metadata": {
    "ExecuteTime": {
     "end_time": "2025-03-08T08:22:55.678103Z",
     "start_time": "2025-03-08T08:22:55.630109Z"
    }
   },
   "cell_type": "code",
   "source": "products_df[\"product_id\"] = products_df[\"product_id\"].apply(UUID)",
   "id": "b4f9846b5d30aa72",
   "outputs": [],
   "execution_count": 61
  },
  {
   "metadata": {
    "ExecuteTime": {
     "end_time": "2025-03-08T08:22:55.738884Z",
     "start_time": "2025-03-08T08:22:55.684396Z"
    }
   },
   "cell_type": "code",
   "source": [
    "# id to product name mapping\n",
    "id_to_product_name = {prod_id: f\"Product_{idx + 1}\" for idx, prod_id in enumerate(products_df[\"product_id\"].unique())}\n",
    "products_df[\"product_name\"] = products_df[\"product_id\"].map(id_to_product_name)"
   ],
   "id": "c7d67e4b00477b68",
   "outputs": [],
   "execution_count": 62
  },
  {
   "metadata": {},
   "cell_type": "markdown",
   "source": "### Sellers",
   "id": "6bd14f8c415f9073"
  },
  {
   "metadata": {
    "ExecuteTime": {
     "end_time": "2025-03-08T07:08:40.125925Z",
     "start_time": "2025-03-08T07:08:40.114361Z"
    }
   },
   "cell_type": "code",
   "source": "sellers_df.shape",
   "id": "7c1289cd51ca8793",
   "outputs": [
    {
     "data": {
      "text/plain": [
       "(3095, 4)"
      ]
     },
     "execution_count": 75,
     "metadata": {},
     "output_type": "execute_result"
    }
   ],
   "execution_count": 75
  },
  {
   "metadata": {
    "ExecuteTime": {
     "end_time": "2025-03-08T08:23:12.689089Z",
     "start_time": "2025-03-08T08:23:12.682034Z"
    }
   },
   "cell_type": "code",
   "source": "sellers_df.dtypes",
   "id": "8df519b75a87b7f6",
   "outputs": [
    {
     "data": {
      "text/plain": [
       "seller_id                 object\n",
       "seller_zip_code_prefix     int64\n",
       "seller_city               object\n",
       "seller_state              object\n",
       "dtype: object"
      ]
     },
     "execution_count": 63,
     "metadata": {},
     "output_type": "execute_result"
    }
   ],
   "execution_count": 63
  },
  {
   "metadata": {
    "ExecuteTime": {
     "end_time": "2025-03-08T08:23:13.270067Z",
     "start_time": "2025-03-08T08:23:13.262789Z"
    }
   },
   "cell_type": "code",
   "source": "sellers_df.isnull().sum()",
   "id": "651978b6d7b0bb29",
   "outputs": [
    {
     "data": {
      "text/plain": [
       "seller_id                 0\n",
       "seller_zip_code_prefix    0\n",
       "seller_city               0\n",
       "seller_state              0\n",
       "dtype: int64"
      ]
     },
     "execution_count": 64,
     "metadata": {},
     "output_type": "execute_result"
    }
   ],
   "execution_count": 64
  },
  {
   "metadata": {
    "ExecuteTime": {
     "end_time": "2025-03-08T08:23:14.047689Z",
     "start_time": "2025-03-08T08:23:14.038679Z"
    }
   },
   "cell_type": "code",
   "source": "sellers_df.head()",
   "id": "a0d68bf73f4fcd26",
   "outputs": [
    {
     "data": {
      "text/plain": [
       "                              seller_id  seller_zip_code_prefix  \\\n",
       "0  3442f895-9a84-dea7-ee19-7c632cb2df15                   13023   \n",
       "1  d1b65fc7-debc-3361-ea86-b5f14c68d2e2                   13844   \n",
       "2  ce3ad9de-9601-02d0-677a-81f5d0bb7b2d                   20031   \n",
       "3  c0f3eea2-e145-55b6-faee-a3dd58c1b1c3                    4195   \n",
       "4  51a04a8a-6bdc-b23d-eccc-82b0b80742cf                   12914   \n",
       "\n",
       "         seller_city seller_state  \n",
       "0           campinas           SP  \n",
       "1         mogi guacu           SP  \n",
       "2     rio de janeiro           RJ  \n",
       "3          sao paulo           SP  \n",
       "4  braganca paulista           SP  "
      ],
      "text/html": [
       "<div>\n",
       "<style scoped>\n",
       "    .dataframe tbody tr th:only-of-type {\n",
       "        vertical-align: middle;\n",
       "    }\n",
       "\n",
       "    .dataframe tbody tr th {\n",
       "        vertical-align: top;\n",
       "    }\n",
       "\n",
       "    .dataframe thead th {\n",
       "        text-align: right;\n",
       "    }\n",
       "</style>\n",
       "<table border=\"1\" class=\"dataframe\">\n",
       "  <thead>\n",
       "    <tr style=\"text-align: right;\">\n",
       "      <th></th>\n",
       "      <th>seller_id</th>\n",
       "      <th>seller_zip_code_prefix</th>\n",
       "      <th>seller_city</th>\n",
       "      <th>seller_state</th>\n",
       "    </tr>\n",
       "  </thead>\n",
       "  <tbody>\n",
       "    <tr>\n",
       "      <th>0</th>\n",
       "      <td>3442f895-9a84-dea7-ee19-7c632cb2df15</td>\n",
       "      <td>13023</td>\n",
       "      <td>campinas</td>\n",
       "      <td>SP</td>\n",
       "    </tr>\n",
       "    <tr>\n",
       "      <th>1</th>\n",
       "      <td>d1b65fc7-debc-3361-ea86-b5f14c68d2e2</td>\n",
       "      <td>13844</td>\n",
       "      <td>mogi guacu</td>\n",
       "      <td>SP</td>\n",
       "    </tr>\n",
       "    <tr>\n",
       "      <th>2</th>\n",
       "      <td>ce3ad9de-9601-02d0-677a-81f5d0bb7b2d</td>\n",
       "      <td>20031</td>\n",
       "      <td>rio de janeiro</td>\n",
       "      <td>RJ</td>\n",
       "    </tr>\n",
       "    <tr>\n",
       "      <th>3</th>\n",
       "      <td>c0f3eea2-e145-55b6-faee-a3dd58c1b1c3</td>\n",
       "      <td>4195</td>\n",
       "      <td>sao paulo</td>\n",
       "      <td>SP</td>\n",
       "    </tr>\n",
       "    <tr>\n",
       "      <th>4</th>\n",
       "      <td>51a04a8a-6bdc-b23d-eccc-82b0b80742cf</td>\n",
       "      <td>12914</td>\n",
       "      <td>braganca paulista</td>\n",
       "      <td>SP</td>\n",
       "    </tr>\n",
       "  </tbody>\n",
       "</table>\n",
       "</div>"
      ]
     },
     "execution_count": 65,
     "metadata": {},
     "output_type": "execute_result"
    }
   ],
   "execution_count": 65
  },
  {
   "metadata": {
    "ExecuteTime": {
     "end_time": "2025-03-08T08:23:14.981764Z",
     "start_time": "2025-03-08T08:23:14.970861Z"
    }
   },
   "cell_type": "code",
   "source": "sellers_df.duplicated().sum()",
   "id": "7325826ed41cdb5d",
   "outputs": [
    {
     "data": {
      "text/plain": [
       "np.int64(0)"
      ]
     },
     "execution_count": 66,
     "metadata": {},
     "output_type": "execute_result"
    }
   ],
   "execution_count": 66
  },
  {
   "metadata": {
    "ExecuteTime": {
     "end_time": "2025-03-08T08:23:15.625741Z",
     "start_time": "2025-03-08T08:23:15.613783Z"
    }
   },
   "cell_type": "code",
   "source": "sellers_df[\"seller_id\"] = sellers_df[\"seller_id\"].apply(UUID)",
   "id": "38df7dd17cb61d44",
   "outputs": [],
   "execution_count": 67
  },
  {
   "metadata": {
    "ExecuteTime": {
     "end_time": "2025-03-08T08:23:16.323046Z",
     "start_time": "2025-03-08T08:23:16.312253Z"
    }
   },
   "cell_type": "code",
   "source": [
    "# id to seller name\n",
    "id_to_seller_name = {sel_id: f\"Seller_{idx + 1}\" for idx, sel_id in enumerate(sellers_df[\"seller_id\"].unique())}\n",
    "sellers_df[\"seller_name\"] = sellers_df[\"seller_id\"].map(id_to_seller_name)"
   ],
   "id": "2c19957b76c1ff06",
   "outputs": [],
   "execution_count": 68
  },
  {
   "metadata": {},
   "cell_type": "markdown",
   "source": "## Dimension Modeling",
   "id": "ba79a8fa2d24b47"
  },
  {
   "metadata": {
    "ExecuteTime": {
     "end_time": "2025-03-08T09:27:25.553790Z",
     "start_time": "2025-03-08T09:27:25.528232Z"
    }
   },
   "cell_type": "code",
   "source": "customer_map = customers_df.set_index(\"customer_id\")[\"customer_unique_id\"]",
   "id": "4f88f516fccbffd8",
   "outputs": [],
   "execution_count": 110
  },
  {
   "metadata": {
    "ExecuteTime": {
     "end_time": "2025-03-08T09:28:02.455793Z",
     "start_time": "2025-03-08T09:28:02.334591Z"
    }
   },
   "cell_type": "code",
   "source": "orders_df[\"customer_id\"] = orders_df[\"customer_id\"].map(customer_map)",
   "id": "5743f79876377e48",
   "outputs": [],
   "execution_count": 112
  },
  {
   "metadata": {
    "ExecuteTime": {
     "end_time": "2025-03-08T09:28:26.992719Z",
     "start_time": "2025-03-08T09:28:26.978709Z"
    }
   },
   "cell_type": "code",
   "source": "customers_df.drop(\"customer_id\", axis=1, inplace=True)",
   "id": "290331ca0a529b66",
   "outputs": [],
   "execution_count": 113
  },
  {
   "metadata": {
    "ExecuteTime": {
     "end_time": "2025-03-08T09:29:01.906079Z",
     "start_time": "2025-03-08T09:29:01.780140Z"
    }
   },
   "cell_type": "code",
   "source": "customers_df.drop_duplicates(inplace=True)",
   "id": "45746dcc036b3738",
   "outputs": [],
   "execution_count": 116
  },
  {
   "metadata": {
    "ExecuteTime": {
     "end_time": "2025-03-08T09:30:45.389297Z",
     "start_time": "2025-03-08T09:30:45.384152Z"
    }
   },
   "cell_type": "code",
   "source": "customers_df.rename({\"customer_unique_id\": \"customer_id\"}, axis=1, inplace=True)",
   "id": "6a1ed20c60f63ae6",
   "outputs": [],
   "execution_count": 118
  },
  {
   "metadata": {},
   "cell_type": "code",
   "outputs": [],
   "execution_count": null,
   "source": "",
   "id": "d13b7ebb3f454207"
  }
 ],
 "metadata": {
  "kernelspec": {
   "display_name": "Python 3",
   "language": "python",
   "name": "python3"
  },
  "language_info": {
   "codemirror_mode": {
    "name": "ipython",
    "version": 2
   },
   "file_extension": ".py",
   "mimetype": "text/x-python",
   "name": "python",
   "nbconvert_exporter": "python",
   "pygments_lexer": "ipython2",
   "version": "2.7.6"
  }
 },
 "nbformat": 4,
 "nbformat_minor": 5
}
