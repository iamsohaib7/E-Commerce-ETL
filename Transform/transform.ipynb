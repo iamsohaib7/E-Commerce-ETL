{
 "cells": [
  {
   "cell_type": "code",
   "id": "initial_id",
   "metadata": {
    "collapsed": true,
    "ExecuteTime": {
     "end_time": "2025-03-08T10:51:07.845049Z",
     "start_time": "2025-03-08T10:51:07.246743Z"
    }
   },
   "source": [
    "import pandas as pd\n",
    "\n",
    "from Extract.extract_s3 import extract_s3\n",
    "from dotenv import load_dotenv\n",
    "import os"
   ],
   "outputs": [],
   "execution_count": 1
  },
  {
   "cell_type": "code",
   "id": "2f354ca62f5d0192",
   "metadata": {
    "ExecuteTime": {
     "end_time": "2025-03-08T10:51:09.499729Z",
     "start_time": "2025-03-08T10:51:09.493112Z"
    }
   },
   "source": [
    "load_dotenv(\"../.env\")\n",
    "BUCKET = os.getenv(\"BUCKET_Name\")"
   ],
   "outputs": [],
   "execution_count": 2
  },
  {
   "cell_type": "markdown",
   "id": "734a6d59a810f6e3",
   "metadata": {},
   "source": [
    "## Extracting Data from S3"
   ]
  },
  {
   "cell_type": "code",
   "id": "e04dc67b421c22b8",
   "metadata": {
    "ExecuteTime": {
     "end_time": "2025-03-08T10:51:21.667203Z",
     "start_time": "2025-03-08T10:51:10.903967Z"
    }
   },
   "source": [
    "# customers\n",
    "customers_df = extract_s3(bucket=BUCKET, key=\"Data/customers.parquet\")\n",
    "if customers_df is None:\n",
    "    raise ValueError(\"No data found\")"
   ],
   "outputs": [],
   "execution_count": 3
  },
  {
   "cell_type": "code",
   "id": "5e4af1d0de8305be",
   "metadata": {
    "ExecuteTime": {
     "end_time": "2025-03-08T10:51:30.132581Z",
     "start_time": "2025-03-08T10:51:21.676348Z"
    }
   },
   "source": [
    "# order items\n",
    "order_items_df = extract_s3(BUCKET, key=\"Data/order_items.parquet\")\n",
    "if order_items_df is None:\n",
    "    raise ValueError(\"No data found\")"
   ],
   "outputs": [],
   "execution_count": 4
  },
  {
   "cell_type": "code",
   "id": "dab1601035ca3aa0",
   "metadata": {
    "ExecuteTime": {
     "end_time": "2025-03-08T10:51:36.492308Z",
     "start_time": "2025-03-08T10:51:30.155405Z"
    }
   },
   "source": [
    "# order payments\n",
    "order_payments_df = extract_s3(BUCKET, key=\"Data/order_payments.parquet\")"
   ],
   "outputs": [],
   "execution_count": 5
  },
  {
   "cell_type": "code",
   "id": "4079a6bf5e78ec89",
   "metadata": {
    "ExecuteTime": {
     "end_time": "2025-03-08T10:51:47.031974Z",
     "start_time": "2025-03-08T10:51:36.509886Z"
    }
   },
   "source": [
    "# order reviews\n",
    "order_reviews_df = extract_s3(BUCKET, key=\"Data/order_reviews.parquet\")\n",
    "if order_reviews_df is None:\n",
    "    raise ValueError(\"No data found\")"
   ],
   "outputs": [],
   "execution_count": 6
  },
  {
   "cell_type": "code",
   "id": "89468a9c5e6ae34f",
   "metadata": {
    "ExecuteTime": {
     "end_time": "2025-03-08T10:51:58.488952Z",
     "start_time": "2025-03-08T10:51:47.050965Z"
    }
   },
   "source": [
    "# orders\n",
    "orders_df = extract_s3(BUCKET, key=\"Data/orders.parquet\")\n",
    "if orders_df is None:\n",
    "    raise ValueError(\"No data found\")"
   ],
   "outputs": [],
   "execution_count": 7
  },
  {
   "cell_type": "code",
   "id": "8400d8becdafd0cd",
   "metadata": {
    "ExecuteTime": {
     "end_time": "2025-03-08T10:52:02.340699Z",
     "start_time": "2025-03-08T10:51:58.510414Z"
    }
   },
   "source": [
    "# product categories\n",
    "product_category_df = extract_s3(BUCKET, key=\"Data/product_categories.parquet\")\n",
    "if product_category_df is None:\n",
    "    raise ValueError(\"No data found\")"
   ],
   "outputs": [],
   "execution_count": 8
  },
  {
   "cell_type": "code",
   "id": "aae1202a822461be",
   "metadata": {
    "ExecuteTime": {
     "end_time": "2025-03-08T10:52:09.174214Z",
     "start_time": "2025-03-08T10:52:02.373716Z"
    }
   },
   "source": [
    "# products\n",
    "products_df = extract_s3(BUCKET, key=\"Data/products.parquet\")\n",
    "if products_df is None:\n",
    "    raise ValueError(\"No data found\")"
   ],
   "outputs": [],
   "execution_count": 9
  },
  {
   "cell_type": "code",
   "id": "ba2b78489333a406",
   "metadata": {
    "ExecuteTime": {
     "end_time": "2025-03-08T10:52:13.196473Z",
     "start_time": "2025-03-08T10:52:09.207068Z"
    }
   },
   "source": [
    "# sellers\n",
    "sellers_df = extract_s3(BUCKET, key=\"Data/sellers.parquet\")\n",
    "if sellers_df is None:\n",
    "    raise ValueError(\"No data found\")"
   ],
   "outputs": [],
   "execution_count": 10
  },
  {
   "cell_type": "markdown",
   "id": "590c9194853800b0",
   "metadata": {},
   "source": [
    "## Cleaning Data"
   ]
  },
  {
   "cell_type": "markdown",
   "id": "a9b02e033419f9e1",
   "metadata": {},
   "source": [
    "### Customers"
   ]
  },
  {
   "cell_type": "code",
   "id": "7f408ef4dc3226f7",
   "metadata": {
    "ExecuteTime": {
     "end_time": "2025-03-08T10:52:13.278093Z",
     "start_time": "2025-03-08T10:52:13.256096Z"
    }
   },
   "source": [
    "customers_df.head()"
   ],
   "outputs": [
    {
     "data": {
      "text/plain": [
       "                            customer_id                    customer_unique_id  \\\n",
       "0  06b8999e-2fba-1a1f-bc88-172c00ba8bc7  861eff47-11a5-42e4-b938-43c6dd7febb0   \n",
       "1  18955e83-d337-fd6b-2def-6b18a428ac77  290c77bc-529b-7ac9-35b9-3aa66c333dc3   \n",
       "2  4e7b3e00-2885-86eb-d087-12fdd0374a03  060e732b-5b29-e818-1a18-229c7b0b2b5e   \n",
       "3  b2b6027b-c5c5-109e-529d-4dc6358b12c3  259dac75-7896-d24d-7702-b9acbbff3f3c   \n",
       "4  4f2d8ab1-71c8-0ec8-364f-7c12e35b23ad  345ecd01-c38d-18a9-036e-d96c73b8d066   \n",
       "\n",
       "   customer_zip_code_prefix          customer_city customer_state  \n",
       "0                     14409                 franca             SP  \n",
       "1                      9790  sao bernardo do campo             SP  \n",
       "2                      1151              sao paulo             SP  \n",
       "3                      8775        mogi das cruzes             SP  \n",
       "4                     13056               campinas             SP  "
      ],
      "text/html": [
       "<div>\n",
       "<style scoped>\n",
       "    .dataframe tbody tr th:only-of-type {\n",
       "        vertical-align: middle;\n",
       "    }\n",
       "\n",
       "    .dataframe tbody tr th {\n",
       "        vertical-align: top;\n",
       "    }\n",
       "\n",
       "    .dataframe thead th {\n",
       "        text-align: right;\n",
       "    }\n",
       "</style>\n",
       "<table border=\"1\" class=\"dataframe\">\n",
       "  <thead>\n",
       "    <tr style=\"text-align: right;\">\n",
       "      <th></th>\n",
       "      <th>customer_id</th>\n",
       "      <th>customer_unique_id</th>\n",
       "      <th>customer_zip_code_prefix</th>\n",
       "      <th>customer_city</th>\n",
       "      <th>customer_state</th>\n",
       "    </tr>\n",
       "  </thead>\n",
       "  <tbody>\n",
       "    <tr>\n",
       "      <th>0</th>\n",
       "      <td>06b8999e-2fba-1a1f-bc88-172c00ba8bc7</td>\n",
       "      <td>861eff47-11a5-42e4-b938-43c6dd7febb0</td>\n",
       "      <td>14409</td>\n",
       "      <td>franca</td>\n",
       "      <td>SP</td>\n",
       "    </tr>\n",
       "    <tr>\n",
       "      <th>1</th>\n",
       "      <td>18955e83-d337-fd6b-2def-6b18a428ac77</td>\n",
       "      <td>290c77bc-529b-7ac9-35b9-3aa66c333dc3</td>\n",
       "      <td>9790</td>\n",
       "      <td>sao bernardo do campo</td>\n",
       "      <td>SP</td>\n",
       "    </tr>\n",
       "    <tr>\n",
       "      <th>2</th>\n",
       "      <td>4e7b3e00-2885-86eb-d087-12fdd0374a03</td>\n",
       "      <td>060e732b-5b29-e818-1a18-229c7b0b2b5e</td>\n",
       "      <td>1151</td>\n",
       "      <td>sao paulo</td>\n",
       "      <td>SP</td>\n",
       "    </tr>\n",
       "    <tr>\n",
       "      <th>3</th>\n",
       "      <td>b2b6027b-c5c5-109e-529d-4dc6358b12c3</td>\n",
       "      <td>259dac75-7896-d24d-7702-b9acbbff3f3c</td>\n",
       "      <td>8775</td>\n",
       "      <td>mogi das cruzes</td>\n",
       "      <td>SP</td>\n",
       "    </tr>\n",
       "    <tr>\n",
       "      <th>4</th>\n",
       "      <td>4f2d8ab1-71c8-0ec8-364f-7c12e35b23ad</td>\n",
       "      <td>345ecd01-c38d-18a9-036e-d96c73b8d066</td>\n",
       "      <td>13056</td>\n",
       "      <td>campinas</td>\n",
       "      <td>SP</td>\n",
       "    </tr>\n",
       "  </tbody>\n",
       "</table>\n",
       "</div>"
      ]
     },
     "execution_count": 11,
     "metadata": {},
     "output_type": "execute_result"
    }
   ],
   "execution_count": 11
  },
  {
   "cell_type": "code",
   "id": "cb00e11745a0d4f1",
   "metadata": {
    "ExecuteTime": {
     "end_time": "2025-03-08T10:52:13.322140Z",
     "start_time": "2025-03-08T10:52:13.314815Z"
    }
   },
   "source": [
    "customers_df.shape"
   ],
   "outputs": [
    {
     "data": {
      "text/plain": [
       "(99441, 5)"
      ]
     },
     "execution_count": 12,
     "metadata": {},
     "output_type": "execute_result"
    }
   ],
   "execution_count": 12
  },
  {
   "cell_type": "code",
   "id": "3076bcd9943e6d0e",
   "metadata": {
    "ExecuteTime": {
     "end_time": "2025-03-08T10:52:13.423246Z",
     "start_time": "2025-03-08T10:52:13.391267Z"
    }
   },
   "source": [
    "customers_df.info()"
   ],
   "outputs": [
    {
     "name": "stdout",
     "output_type": "stream",
     "text": [
      "<class 'pandas.core.frame.DataFrame'>\n",
      "RangeIndex: 99441 entries, 0 to 99440\n",
      "Data columns (total 5 columns):\n",
      " #   Column                    Non-Null Count  Dtype \n",
      "---  ------                    --------------  ----- \n",
      " 0   customer_id               99441 non-null  object\n",
      " 1   customer_unique_id        99441 non-null  object\n",
      " 2   customer_zip_code_prefix  99441 non-null  int64 \n",
      " 3   customer_city             99441 non-null  object\n",
      " 4   customer_state            99441 non-null  object\n",
      "dtypes: int64(1), object(4)\n",
      "memory usage: 3.8+ MB\n"
     ]
    }
   ],
   "execution_count": 13
  },
  {
   "cell_type": "code",
   "id": "c5055cb07b983744",
   "metadata": {
    "ExecuteTime": {
     "end_time": "2025-03-08T10:52:13.607059Z",
     "start_time": "2025-03-08T10:52:13.524075Z"
    }
   },
   "source": [
    "customers_df.duplicated().sum()"
   ],
   "outputs": [
    {
     "data": {
      "text/plain": [
       "np.int64(0)"
      ]
     },
     "execution_count": 14,
     "metadata": {},
     "output_type": "execute_result"
    }
   ],
   "execution_count": 14
  },
  {
   "cell_type": "code",
   "id": "bbafbd3df2fc6960",
   "metadata": {
    "ExecuteTime": {
     "end_time": "2025-03-08T10:52:13.715133Z",
     "start_time": "2025-03-08T10:52:13.711280Z"
    }
   },
   "source": [
    "from uuid import UUID"
   ],
   "outputs": [],
   "execution_count": 15
  },
  {
   "cell_type": "code",
   "id": "a677c5b5c20037b9",
   "metadata": {
    "ExecuteTime": {
     "end_time": "2025-03-08T10:52:14.227245Z",
     "start_time": "2025-03-08T10:52:13.807738Z"
    }
   },
   "source": [
    "# converting object to uuid\n",
    "customers_df[\"customer_id\"] = customers_df[\"customer_id\"].apply(UUID)\n",
    "customers_df[\"customer_unique_id\"] = customers_df[\"customer_unique_id\"].apply(UUID)"
   ],
   "outputs": [],
   "execution_count": 16
  },
  {
   "cell_type": "code",
   "id": "573f364fa506045c",
   "metadata": {
    "ExecuteTime": {
     "end_time": "2025-03-08T10:52:14.264889Z",
     "start_time": "2025-03-08T10:52:14.239029Z"
    }
   },
   "source": [
    "customers_df.isnull().sum()"
   ],
   "outputs": [
    {
     "data": {
      "text/plain": [
       "customer_id                 0\n",
       "customer_unique_id          0\n",
       "customer_zip_code_prefix    0\n",
       "customer_city               0\n",
       "customer_state              0\n",
       "dtype: int64"
      ]
     },
     "execution_count": 17,
     "metadata": {},
     "output_type": "execute_result"
    }
   ],
   "execution_count": 17
  },
  {
   "cell_type": "code",
   "id": "c84965b6b1b7ea41",
   "metadata": {
    "ExecuteTime": {
     "end_time": "2025-03-08T10:52:14.708122Z",
     "start_time": "2025-03-08T10:52:14.357282Z"
    }
   },
   "source": [
    "# id to name mapping in customers\n",
    "id_to_name = {\n",
    "    cust_id: f\"Customer_{idx + 1}\"\n",
    "    for idx, cust_id in enumerate(customers_df[\"customer_unique_id\"].unique())\n",
    "}\n",
    "customers_df[\"customer_name\"] = customers_df[\"customer_unique_id\"].map(id_to_name)"
   ],
   "outputs": [],
   "execution_count": 18
  },
  {
   "cell_type": "markdown",
   "id": "a7d8b54aad7f05ed",
   "metadata": {},
   "source": [
    "### Order Items"
   ]
  },
  {
   "cell_type": "code",
   "id": "40ab259798b12e28",
   "metadata": {
    "ExecuteTime": {
     "end_time": "2025-03-08T10:52:14.775948Z",
     "start_time": "2025-03-08T10:52:14.760084Z"
    }
   },
   "source": [
    "order_items_df.head()"
   ],
   "outputs": [
    {
     "data": {
      "text/plain": [
       "                               order_id  quantity  \\\n",
       "0  00010242-fe8c-5a6d-1ba2-dd792cb16214         1   \n",
       "1  00018f77-f2f0-320c-5571-90d7a144bdd3         1   \n",
       "2  000229ec-3982-24ef-6ca0-657da4fc703e         1   \n",
       "3  00024acb-cdf0-a6da-a1e9-31b038114c75         1   \n",
       "4  00042b26-cf59-d7ce-69df-abb4e55b4fd9         1   \n",
       "\n",
       "                             product_id                             seller_id  \\\n",
       "0  4244733e-06e7-ecb4-970a-6e2683c13e61  48436dad-e18a-c8b2-bce0-89ec2a041202   \n",
       "1  e5f2d52b-8021-89ee-6588-65ca93d83a8f  dd7ddc04-e1b6-c2c6-1435-2b383efe2d36   \n",
       "2  c777355d-18b7-2b67-abbe-ef9df44fd0fd  5b51032e-ddd2-42ad-c84c-38acab88f23d   \n",
       "3  7634da15-2a46-10f1-595e-fa32f14722fc  9d7a1d34-a505-2409-0064-25275ba1c2b4   \n",
       "4  ac6c3623-068f-30de-0304-5865e4e10089  df560393-f3a5-1e74-553a-b94004ba5c87   \n",
       "\n",
       "  shipping_limit_date   price  freight_value  order_items_id  total_price  \n",
       "0 2017-09-19 09:45:35   58.90          13.29               0        72.19  \n",
       "1 2017-05-03 11:05:13  239.90          19.93               1       259.83  \n",
       "2 2018-01-18 14:48:30  199.00          17.87               2       216.87  \n",
       "3 2018-08-15 10:10:18   12.99          12.79               3        25.78  \n",
       "4 2017-02-13 13:57:51  199.90          18.14               4       218.04  "
      ],
      "text/html": [
       "<div>\n",
       "<style scoped>\n",
       "    .dataframe tbody tr th:only-of-type {\n",
       "        vertical-align: middle;\n",
       "    }\n",
       "\n",
       "    .dataframe tbody tr th {\n",
       "        vertical-align: top;\n",
       "    }\n",
       "\n",
       "    .dataframe thead th {\n",
       "        text-align: right;\n",
       "    }\n",
       "</style>\n",
       "<table border=\"1\" class=\"dataframe\">\n",
       "  <thead>\n",
       "    <tr style=\"text-align: right;\">\n",
       "      <th></th>\n",
       "      <th>order_id</th>\n",
       "      <th>quantity</th>\n",
       "      <th>product_id</th>\n",
       "      <th>seller_id</th>\n",
       "      <th>shipping_limit_date</th>\n",
       "      <th>price</th>\n",
       "      <th>freight_value</th>\n",
       "      <th>order_items_id</th>\n",
       "      <th>total_price</th>\n",
       "    </tr>\n",
       "  </thead>\n",
       "  <tbody>\n",
       "    <tr>\n",
       "      <th>0</th>\n",
       "      <td>00010242-fe8c-5a6d-1ba2-dd792cb16214</td>\n",
       "      <td>1</td>\n",
       "      <td>4244733e-06e7-ecb4-970a-6e2683c13e61</td>\n",
       "      <td>48436dad-e18a-c8b2-bce0-89ec2a041202</td>\n",
       "      <td>2017-09-19 09:45:35</td>\n",
       "      <td>58.90</td>\n",
       "      <td>13.29</td>\n",
       "      <td>0</td>\n",
       "      <td>72.19</td>\n",
       "    </tr>\n",
       "    <tr>\n",
       "      <th>1</th>\n",
       "      <td>00018f77-f2f0-320c-5571-90d7a144bdd3</td>\n",
       "      <td>1</td>\n",
       "      <td>e5f2d52b-8021-89ee-6588-65ca93d83a8f</td>\n",
       "      <td>dd7ddc04-e1b6-c2c6-1435-2b383efe2d36</td>\n",
       "      <td>2017-05-03 11:05:13</td>\n",
       "      <td>239.90</td>\n",
       "      <td>19.93</td>\n",
       "      <td>1</td>\n",
       "      <td>259.83</td>\n",
       "    </tr>\n",
       "    <tr>\n",
       "      <th>2</th>\n",
       "      <td>000229ec-3982-24ef-6ca0-657da4fc703e</td>\n",
       "      <td>1</td>\n",
       "      <td>c777355d-18b7-2b67-abbe-ef9df44fd0fd</td>\n",
       "      <td>5b51032e-ddd2-42ad-c84c-38acab88f23d</td>\n",
       "      <td>2018-01-18 14:48:30</td>\n",
       "      <td>199.00</td>\n",
       "      <td>17.87</td>\n",
       "      <td>2</td>\n",
       "      <td>216.87</td>\n",
       "    </tr>\n",
       "    <tr>\n",
       "      <th>3</th>\n",
       "      <td>00024acb-cdf0-a6da-a1e9-31b038114c75</td>\n",
       "      <td>1</td>\n",
       "      <td>7634da15-2a46-10f1-595e-fa32f14722fc</td>\n",
       "      <td>9d7a1d34-a505-2409-0064-25275ba1c2b4</td>\n",
       "      <td>2018-08-15 10:10:18</td>\n",
       "      <td>12.99</td>\n",
       "      <td>12.79</td>\n",
       "      <td>3</td>\n",
       "      <td>25.78</td>\n",
       "    </tr>\n",
       "    <tr>\n",
       "      <th>4</th>\n",
       "      <td>00042b26-cf59-d7ce-69df-abb4e55b4fd9</td>\n",
       "      <td>1</td>\n",
       "      <td>ac6c3623-068f-30de-0304-5865e4e10089</td>\n",
       "      <td>df560393-f3a5-1e74-553a-b94004ba5c87</td>\n",
       "      <td>2017-02-13 13:57:51</td>\n",
       "      <td>199.90</td>\n",
       "      <td>18.14</td>\n",
       "      <td>4</td>\n",
       "      <td>218.04</td>\n",
       "    </tr>\n",
       "  </tbody>\n",
       "</table>\n",
       "</div>"
      ]
     },
     "execution_count": 19,
     "metadata": {},
     "output_type": "execute_result"
    }
   ],
   "execution_count": 19
  },
  {
   "cell_type": "code",
   "id": "13404f5d52053b3f",
   "metadata": {
    "ExecuteTime": {
     "end_time": "2025-03-08T10:52:14.887228Z",
     "start_time": "2025-03-08T10:52:14.878139Z"
    }
   },
   "source": [
    "order_items_df.shape"
   ],
   "outputs": [
    {
     "data": {
      "text/plain": [
       "(112650, 9)"
      ]
     },
     "execution_count": 20,
     "metadata": {},
     "output_type": "execute_result"
    }
   ],
   "execution_count": 20
  },
  {
   "cell_type": "code",
   "id": "bfde21b16cfad01e",
   "metadata": {
    "ExecuteTime": {
     "end_time": "2025-03-08T10:52:15.133464Z",
     "start_time": "2025-03-08T10:52:15.102245Z"
    }
   },
   "source": [
    "order_items_df.info()"
   ],
   "outputs": [
    {
     "name": "stdout",
     "output_type": "stream",
     "text": [
      "<class 'pandas.core.frame.DataFrame'>\n",
      "RangeIndex: 112650 entries, 0 to 112649\n",
      "Data columns (total 9 columns):\n",
      " #   Column               Non-Null Count   Dtype         \n",
      "---  ------               --------------   -----         \n",
      " 0   order_id             112650 non-null  object        \n",
      " 1   quantity             112650 non-null  int64         \n",
      " 2   product_id           112650 non-null  object        \n",
      " 3   seller_id            112650 non-null  object        \n",
      " 4   shipping_limit_date  112650 non-null  datetime64[ns]\n",
      " 5   price                112650 non-null  float64       \n",
      " 6   freight_value        112650 non-null  float64       \n",
      " 7   order_items_id       112650 non-null  int64         \n",
      " 8   total_price          112650 non-null  float64       \n",
      "dtypes: datetime64[ns](1), float64(3), int64(2), object(3)\n",
      "memory usage: 7.7+ MB\n"
     ]
    }
   ],
   "execution_count": 21
  },
  {
   "cell_type": "code",
   "id": "89b2e28bf118e5ce",
   "metadata": {
    "ExecuteTime": {
     "end_time": "2025-03-08T10:52:15.505194Z",
     "start_time": "2025-03-08T10:52:15.480936Z"
    }
   },
   "source": [
    "order_items_df.sample(10)"
   ],
   "outputs": [
    {
     "data": {
      "text/plain": [
       "                                    order_id  quantity  \\\n",
       "84797   c0a8ef94-e050-fd7f-b74a-3757be5b3da0         1   \n",
       "36121   51e88bc3-51dd-268b-b9c9-e78d263c4a06         1   \n",
       "59949   8890828f-16fa-cb8b-8a9c-48194daccb85         1   \n",
       "74006   a8ad7572-8836-e5b2-1034-63b917d0e6f4         1   \n",
       "29565   4334cbad-2570-eb17-ab0f-2be70bcc22b7         1   \n",
       "46176   68d8838c-9019-1c81-a8e3-e1273e230414         1   \n",
       "95530   d8b1b374-baab-f8ba-4778-23087ddfb1a2         1   \n",
       "109361  f8898796-f33b-7a07-41dc-0cf4f54c0001         1   \n",
       "39386   59880d84-39b6-a1a6-9772-7592bdab4b96         1   \n",
       "59035   867b894c-187b-59ff-2425-447c7c13c898         1   \n",
       "\n",
       "                                  product_id  \\\n",
       "84797   53b36df6-7ebb-7c41-585e-8d54d6772e08   \n",
       "36121   d6fcd73c-e07d-a9fa-8685-8f67f6ba7346   \n",
       "59949   3863a6df-816f-3b8c-e035-8a1243541fcb   \n",
       "74006   a1eae0ed-718c-783a-4c0d-fef382d31ee4   \n",
       "29565   0fe922b7-f7d4-3ef4-54bb-c241416e7401   \n",
       "46176   c835fd9d-2e46-6148-ac37-55300628e33d   \n",
       "95530   a1ebb47a-4820-0e65-6660-3de49b83f621   \n",
       "109361  363218ba-55c6-10b7-5022-4f90bdd34be1   \n",
       "39386   a10e0fcb-1c40-9869-c3c6-da4eb13b7612   \n",
       "59035   cc8a6ff2-506f-53b7-3873-7ef6b4dccd17   \n",
       "\n",
       "                                   seller_id shipping_limit_date   price  \\\n",
       "84797   7d13fca1-5225-3586-21be-4086e1eb0964 2018-07-09 19:31:08  119.00   \n",
       "36121   42ef3192-a9ff-87a2-2d18-67b74b3ee205 2018-03-13 15:55:46   58.00   \n",
       "59949   1b4c3a6f-5306-8f0b-6944-d2d005c9fc89 2017-07-06 13:15:12   74.90   \n",
       "74006   1025f0e2-d44d-7041-d6cf-58b6550e0bfa 2018-08-08 21:04:14  320.00   \n",
       "29565   f7ba60f8-c3f9-9e7e-e404-2fdef03b70c4 2018-02-27 03:31:13   16.00   \n",
       "46176   a3a38f4a-ffed-601e-b87a-97788c949667 2018-04-25 19:11:00   59.90   \n",
       "95530   46dc3b2c-c098-0fb8-ec44-634e21d2718e 2017-10-20 12:56:32  269.99   \n",
       "109361  00ee6830-8b45-bc5e-2660-cd833c3f81cc 2017-10-09 08:07:19   90.00   \n",
       "39386   855668e0-971d-4dfd-7bef-1b6a4133b41b 2017-10-24 11:06:31   50.00   \n",
       "59035   e601b04a-cf48-b457-6e73-ddca9481f0dc 2018-06-18 02:57:19   12.49   \n",
       "\n",
       "        freight_value  order_items_id  total_price  \n",
       "84797           13.49           84797       132.49  \n",
       "36121            9.42           36121        67.42  \n",
       "59949           17.77           59949        92.67  \n",
       "74006           45.38           74006       365.38  \n",
       "29565            7.78           29565        23.78  \n",
       "46176           23.35           46176        83.25  \n",
       "95530           26.34           95530       296.33  \n",
       "109361          16.88          109361       106.88  \n",
       "39386           18.59           39386        68.59  \n",
       "59035            7.39           59035        19.88  "
      ],
      "text/html": [
       "<div>\n",
       "<style scoped>\n",
       "    .dataframe tbody tr th:only-of-type {\n",
       "        vertical-align: middle;\n",
       "    }\n",
       "\n",
       "    .dataframe tbody tr th {\n",
       "        vertical-align: top;\n",
       "    }\n",
       "\n",
       "    .dataframe thead th {\n",
       "        text-align: right;\n",
       "    }\n",
       "</style>\n",
       "<table border=\"1\" class=\"dataframe\">\n",
       "  <thead>\n",
       "    <tr style=\"text-align: right;\">\n",
       "      <th></th>\n",
       "      <th>order_id</th>\n",
       "      <th>quantity</th>\n",
       "      <th>product_id</th>\n",
       "      <th>seller_id</th>\n",
       "      <th>shipping_limit_date</th>\n",
       "      <th>price</th>\n",
       "      <th>freight_value</th>\n",
       "      <th>order_items_id</th>\n",
       "      <th>total_price</th>\n",
       "    </tr>\n",
       "  </thead>\n",
       "  <tbody>\n",
       "    <tr>\n",
       "      <th>84797</th>\n",
       "      <td>c0a8ef94-e050-fd7f-b74a-3757be5b3da0</td>\n",
       "      <td>1</td>\n",
       "      <td>53b36df6-7ebb-7c41-585e-8d54d6772e08</td>\n",
       "      <td>7d13fca1-5225-3586-21be-4086e1eb0964</td>\n",
       "      <td>2018-07-09 19:31:08</td>\n",
       "      <td>119.00</td>\n",
       "      <td>13.49</td>\n",
       "      <td>84797</td>\n",
       "      <td>132.49</td>\n",
       "    </tr>\n",
       "    <tr>\n",
       "      <th>36121</th>\n",
       "      <td>51e88bc3-51dd-268b-b9c9-e78d263c4a06</td>\n",
       "      <td>1</td>\n",
       "      <td>d6fcd73c-e07d-a9fa-8685-8f67f6ba7346</td>\n",
       "      <td>42ef3192-a9ff-87a2-2d18-67b74b3ee205</td>\n",
       "      <td>2018-03-13 15:55:46</td>\n",
       "      <td>58.00</td>\n",
       "      <td>9.42</td>\n",
       "      <td>36121</td>\n",
       "      <td>67.42</td>\n",
       "    </tr>\n",
       "    <tr>\n",
       "      <th>59949</th>\n",
       "      <td>8890828f-16fa-cb8b-8a9c-48194daccb85</td>\n",
       "      <td>1</td>\n",
       "      <td>3863a6df-816f-3b8c-e035-8a1243541fcb</td>\n",
       "      <td>1b4c3a6f-5306-8f0b-6944-d2d005c9fc89</td>\n",
       "      <td>2017-07-06 13:15:12</td>\n",
       "      <td>74.90</td>\n",
       "      <td>17.77</td>\n",
       "      <td>59949</td>\n",
       "      <td>92.67</td>\n",
       "    </tr>\n",
       "    <tr>\n",
       "      <th>74006</th>\n",
       "      <td>a8ad7572-8836-e5b2-1034-63b917d0e6f4</td>\n",
       "      <td>1</td>\n",
       "      <td>a1eae0ed-718c-783a-4c0d-fef382d31ee4</td>\n",
       "      <td>1025f0e2-d44d-7041-d6cf-58b6550e0bfa</td>\n",
       "      <td>2018-08-08 21:04:14</td>\n",
       "      <td>320.00</td>\n",
       "      <td>45.38</td>\n",
       "      <td>74006</td>\n",
       "      <td>365.38</td>\n",
       "    </tr>\n",
       "    <tr>\n",
       "      <th>29565</th>\n",
       "      <td>4334cbad-2570-eb17-ab0f-2be70bcc22b7</td>\n",
       "      <td>1</td>\n",
       "      <td>0fe922b7-f7d4-3ef4-54bb-c241416e7401</td>\n",
       "      <td>f7ba60f8-c3f9-9e7e-e404-2fdef03b70c4</td>\n",
       "      <td>2018-02-27 03:31:13</td>\n",
       "      <td>16.00</td>\n",
       "      <td>7.78</td>\n",
       "      <td>29565</td>\n",
       "      <td>23.78</td>\n",
       "    </tr>\n",
       "    <tr>\n",
       "      <th>46176</th>\n",
       "      <td>68d8838c-9019-1c81-a8e3-e1273e230414</td>\n",
       "      <td>1</td>\n",
       "      <td>c835fd9d-2e46-6148-ac37-55300628e33d</td>\n",
       "      <td>a3a38f4a-ffed-601e-b87a-97788c949667</td>\n",
       "      <td>2018-04-25 19:11:00</td>\n",
       "      <td>59.90</td>\n",
       "      <td>23.35</td>\n",
       "      <td>46176</td>\n",
       "      <td>83.25</td>\n",
       "    </tr>\n",
       "    <tr>\n",
       "      <th>95530</th>\n",
       "      <td>d8b1b374-baab-f8ba-4778-23087ddfb1a2</td>\n",
       "      <td>1</td>\n",
       "      <td>a1ebb47a-4820-0e65-6660-3de49b83f621</td>\n",
       "      <td>46dc3b2c-c098-0fb8-ec44-634e21d2718e</td>\n",
       "      <td>2017-10-20 12:56:32</td>\n",
       "      <td>269.99</td>\n",
       "      <td>26.34</td>\n",
       "      <td>95530</td>\n",
       "      <td>296.33</td>\n",
       "    </tr>\n",
       "    <tr>\n",
       "      <th>109361</th>\n",
       "      <td>f8898796-f33b-7a07-41dc-0cf4f54c0001</td>\n",
       "      <td>1</td>\n",
       "      <td>363218ba-55c6-10b7-5022-4f90bdd34be1</td>\n",
       "      <td>00ee6830-8b45-bc5e-2660-cd833c3f81cc</td>\n",
       "      <td>2017-10-09 08:07:19</td>\n",
       "      <td>90.00</td>\n",
       "      <td>16.88</td>\n",
       "      <td>109361</td>\n",
       "      <td>106.88</td>\n",
       "    </tr>\n",
       "    <tr>\n",
       "      <th>39386</th>\n",
       "      <td>59880d84-39b6-a1a6-9772-7592bdab4b96</td>\n",
       "      <td>1</td>\n",
       "      <td>a10e0fcb-1c40-9869-c3c6-da4eb13b7612</td>\n",
       "      <td>855668e0-971d-4dfd-7bef-1b6a4133b41b</td>\n",
       "      <td>2017-10-24 11:06:31</td>\n",
       "      <td>50.00</td>\n",
       "      <td>18.59</td>\n",
       "      <td>39386</td>\n",
       "      <td>68.59</td>\n",
       "    </tr>\n",
       "    <tr>\n",
       "      <th>59035</th>\n",
       "      <td>867b894c-187b-59ff-2425-447c7c13c898</td>\n",
       "      <td>1</td>\n",
       "      <td>cc8a6ff2-506f-53b7-3873-7ef6b4dccd17</td>\n",
       "      <td>e601b04a-cf48-b457-6e73-ddca9481f0dc</td>\n",
       "      <td>2018-06-18 02:57:19</td>\n",
       "      <td>12.49</td>\n",
       "      <td>7.39</td>\n",
       "      <td>59035</td>\n",
       "      <td>19.88</td>\n",
       "    </tr>\n",
       "  </tbody>\n",
       "</table>\n",
       "</div>"
      ]
     },
     "execution_count": 22,
     "metadata": {},
     "output_type": "execute_result"
    }
   ],
   "execution_count": 22
  },
  {
   "cell_type": "code",
   "id": "5b9babf4add9223e",
   "metadata": {
    "ExecuteTime": {
     "end_time": "2025-03-08T10:52:15.592601Z",
     "start_time": "2025-03-08T10:52:15.571503Z"
    }
   },
   "source": [
    "order_items_df.drop([\"order_items_id\"], axis=1, inplace=True)"
   ],
   "outputs": [],
   "execution_count": 23
  },
  {
   "cell_type": "markdown",
   "id": "dbb1962f92001bf2",
   "metadata": {},
   "source": [
    "Dropping `order_items_id` because it doesn't provide any information about dataset. It simply acts as the index value."
   ]
  },
  {
   "cell_type": "code",
   "id": "b868efe786b4de58",
   "metadata": {
    "ExecuteTime": {
     "end_time": "2025-03-08T10:52:15.676896Z",
     "start_time": "2025-03-08T10:52:15.671638Z"
    }
   },
   "source": [
    "order_items_df.rename({\"quantity\": \"order_item_id\"}, axis=1, inplace=True)"
   ],
   "outputs": [],
   "execution_count": 24
  },
  {
   "cell_type": "markdown",
   "id": "ca9335d6286e570c",
   "metadata": {},
   "source": [
    "**Note:** Previously `order_item_id` was misjudged as `quantity`, it was used in total price calculation. So we have to fix the total price by recalculating it.\n",
    "`order_item_id` shows the id of item in particular order."
   ]
  },
  {
   "cell_type": "code",
   "id": "815c3e6b1246afa1",
   "metadata": {
    "ExecuteTime": {
     "end_time": "2025-03-08T10:52:16.078271Z",
     "start_time": "2025-03-08T10:52:16.070229Z"
    }
   },
   "source": [
    "order_items_df[\"total_price\"] = (\n",
    "    order_items_df[\"freight_value\"] + order_items_df[\"price\"]\n",
    ")"
   ],
   "outputs": [],
   "execution_count": 25
  },
  {
   "cell_type": "markdown",
   "id": "3e8d85f0a18fddae",
   "metadata": {},
   "source": [
    "`total_price` was calculated with quantity which was `order_item_id`, so we have to recalculate the total price, where `price` shows the price of the product and `freight_value` shows the shipping cost of the particular order."
   ]
  },
  {
   "cell_type": "code",
   "id": "d75a1d85663d6e9b",
   "metadata": {
    "ExecuteTime": {
     "end_time": "2025-03-08T10:52:16.095209Z",
     "start_time": "2025-03-08T10:52:16.090481Z"
    }
   },
   "source": [
    "import numpy as np"
   ],
   "outputs": [],
   "execution_count": 26
  },
  {
   "cell_type": "code",
   "id": "7a59693aead76a82",
   "metadata": {
    "ExecuteTime": {
     "end_time": "2025-03-08T10:52:17.173223Z",
     "start_time": "2025-03-08T10:52:16.777899Z"
    }
   },
   "source": [
    "order_items_df[\"total_price\"] = (\n",
    "    order_items_df[\"total_price\"].apply(np.round).astype(int)\n",
    ")"
   ],
   "outputs": [],
   "execution_count": 27
  },
  {
   "cell_type": "code",
   "id": "7914409263129f97",
   "metadata": {
    "ExecuteTime": {
     "end_time": "2025-03-08T10:52:17.267958Z",
     "start_time": "2025-03-08T10:52:17.186444Z"
    }
   },
   "source": [
    "order_items_df.duplicated().sum()"
   ],
   "outputs": [
    {
     "data": {
      "text/plain": [
       "np.int64(0)"
      ]
     },
     "execution_count": 28,
     "metadata": {},
     "output_type": "execute_result"
    }
   ],
   "execution_count": 28
  },
  {
   "cell_type": "code",
   "id": "d704b0390ae71266",
   "metadata": {
    "ExecuteTime": {
     "end_time": "2025-03-08T10:52:18.177416Z",
     "start_time": "2025-03-08T10:52:17.504881Z"
    }
   },
   "source": [
    "order_items_df[\"order_id\"] = order_items_df[\"order_id\"].apply(UUID)\n",
    "order_items_df[\"product_id\"] = order_items_df[\"product_id\"].apply(UUID)\n",
    "order_items_df[\"seller_id\"] = order_items_df[\"seller_id\"].apply(UUID)"
   ],
   "outputs": [],
   "execution_count": 29
  },
  {
   "cell_type": "markdown",
   "id": "a47a49c19d80c66b",
   "metadata": {},
   "source": [
    "### Order Payments"
   ]
  },
  {
   "cell_type": "code",
   "id": "2d9210b7e4e97c6e",
   "metadata": {
    "ExecuteTime": {
     "end_time": "2025-03-08T10:52:18.478007Z",
     "start_time": "2025-03-08T10:52:18.468735Z"
    }
   },
   "source": [
    "order_payments_df.shape"
   ],
   "outputs": [
    {
     "data": {
      "text/plain": [
       "(103886, 5)"
      ]
     },
     "execution_count": 30,
     "metadata": {},
     "output_type": "execute_result"
    }
   ],
   "execution_count": 30
  },
  {
   "cell_type": "code",
   "id": "795567411698c804",
   "metadata": {
    "ExecuteTime": {
     "end_time": "2025-03-08T10:52:18.757095Z",
     "start_time": "2025-03-08T10:52:18.747227Z"
    }
   },
   "source": [
    "order_payments_df.dtypes"
   ],
   "outputs": [
    {
     "data": {
      "text/plain": [
       "order_id                 object\n",
       "payment_sequential        int64\n",
       "payment_type             object\n",
       "payment_installments      int64\n",
       "payment_value           float64\n",
       "dtype: object"
      ]
     },
     "execution_count": 31,
     "metadata": {},
     "output_type": "execute_result"
    }
   ],
   "execution_count": 31
  },
  {
   "cell_type": "markdown",
   "id": "aa6d0a5ee6178c9a",
   "metadata": {},
   "source": [
    "`order_payments` is in correct datatypes."
   ]
  },
  {
   "cell_type": "code",
   "id": "bb6c0d7652bad3c5",
   "metadata": {
    "ExecuteTime": {
     "end_time": "2025-03-08T10:52:19.140588Z",
     "start_time": "2025-03-08T10:52:19.114038Z"
    }
   },
   "source": [
    "order_payments_df.isnull().sum()"
   ],
   "outputs": [
    {
     "data": {
      "text/plain": [
       "order_id                0\n",
       "payment_sequential      0\n",
       "payment_type            0\n",
       "payment_installments    0\n",
       "payment_value           0\n",
       "dtype: int64"
      ]
     },
     "execution_count": 32,
     "metadata": {},
     "output_type": "execute_result"
    }
   ],
   "execution_count": 32
  },
  {
   "cell_type": "code",
   "id": "a089932bfb000257",
   "metadata": {
    "ExecuteTime": {
     "end_time": "2025-03-08T10:52:19.310782Z",
     "start_time": "2025-03-08T10:52:19.248740Z"
    }
   },
   "source": [
    "order_payments_df.duplicated().sum()"
   ],
   "outputs": [
    {
     "data": {
      "text/plain": [
       "np.int64(0)"
      ]
     },
     "execution_count": 33,
     "metadata": {},
     "output_type": "execute_result"
    }
   ],
   "execution_count": 33
  },
  {
   "cell_type": "code",
   "id": "1dbacee7009f3114",
   "metadata": {
    "ExecuteTime": {
     "end_time": "2025-03-08T10:52:19.676319Z",
     "start_time": "2025-03-08T10:52:19.443300Z"
    }
   },
   "source": [
    "order_payments_df[\"order_id\"] = order_payments_df[\"order_id\"].apply(UUID)"
   ],
   "outputs": [],
   "execution_count": 34
  },
  {
   "cell_type": "markdown",
   "id": "e7d896711ec71b4d",
   "metadata": {},
   "source": [
    "### Order Reviews"
   ]
  },
  {
   "cell_type": "code",
   "id": "d0dc2ee6c6c3556b",
   "metadata": {
    "ExecuteTime": {
     "end_time": "2025-03-08T10:52:19.734594Z",
     "start_time": "2025-03-08T10:52:19.726498Z"
    }
   },
   "source": [
    "order_reviews_df.shape"
   ],
   "outputs": [
    {
     "data": {
      "text/plain": [
       "(99224, 7)"
      ]
     },
     "execution_count": 35,
     "metadata": {},
     "output_type": "execute_result"
    }
   ],
   "execution_count": 35
  },
  {
   "cell_type": "code",
   "id": "728c211b8f2a8604",
   "metadata": {
    "ExecuteTime": {
     "end_time": "2025-03-08T10:52:20.090630Z",
     "start_time": "2025-03-08T10:52:20.080129Z"
    }
   },
   "source": [
    "order_reviews_df.dtypes"
   ],
   "outputs": [
    {
     "data": {
      "text/plain": [
       "review_id                          object\n",
       "order_id                           object\n",
       "review_score                        int64\n",
       "review_comment_title               object\n",
       "review_comment_message             object\n",
       "review_creation_date       datetime64[ns]\n",
       "review_answer_timestamp            object\n",
       "dtype: object"
      ]
     },
     "execution_count": 36,
     "metadata": {},
     "output_type": "execute_result"
    }
   ],
   "execution_count": 36
  },
  {
   "cell_type": "code",
   "id": "9ca6f85e9e3a2df7",
   "metadata": {
    "ExecuteTime": {
     "end_time": "2025-03-08T10:52:20.180188Z",
     "start_time": "2025-03-08T10:52:20.149738Z"
    }
   },
   "source": [
    "order_reviews_df.isnull().sum()"
   ],
   "outputs": [
    {
     "data": {
      "text/plain": [
       "review_id                      0\n",
       "order_id                       0\n",
       "review_score                   0\n",
       "review_comment_title       87656\n",
       "review_comment_message     58247\n",
       "review_creation_date           0\n",
       "review_answer_timestamp        0\n",
       "dtype: int64"
      ]
     },
     "execution_count": 37,
     "metadata": {},
     "output_type": "execute_result"
    }
   ],
   "execution_count": 37
  },
  {
   "cell_type": "markdown",
   "id": "9f5a889b853e1ef8",
   "metadata": {},
   "source": [
    "**NaN** values in `review_comment_title` and `review_comment_message` contains more than half of the data. So dropping them is needed."
   ]
  },
  {
   "cell_type": "code",
   "id": "e64bcdc5bee6e3db",
   "metadata": {
    "ExecuteTime": {
     "end_time": "2025-03-08T10:52:20.330947Z",
     "start_time": "2025-03-08T10:52:20.317138Z"
    }
   },
   "source": [
    "order_reviews_df.head()"
   ],
   "outputs": [
    {
     "data": {
      "text/plain": [
       "                              review_id                              order_id  \\\n",
       "0  7bc24061-10b9-2639-3aa5-6f80a40eba40  73fc7af8-7114-b397-12e6-da79b0a377eb   \n",
       "1  80e641a1-1e56-f04c-1ad4-69d5645fdfde  a548910a-1c61-4779-6b98-fdf73dbeba33   \n",
       "2  228ce550-0dc1-d8e0-20d8-d1322874b6f0  f9e4b658-b201-a9f2-ecde-cbb34bed034b   \n",
       "3  e64fb393-e7b3-2834-bb78-9ff8bb30750e  658677c9-7b38-5a9b-e170-737859d3511b   \n",
       "4  f7c4243c-7fe1-938f-181b-ec41a392bdeb  8e6bfb81-e283-fa7e-4f11-123a3fb894f1   \n",
       "\n",
       "   review_score review_comment_title  \\\n",
       "0             4                 None   \n",
       "1             5                 None   \n",
       "2             5                 None   \n",
       "3             5                 None   \n",
       "4             5                 None   \n",
       "\n",
       "                              review_comment_message review_creation_date  \\\n",
       "0                                               None           2018-01-18   \n",
       "1                                               None           2018-03-10   \n",
       "2                                               None           2018-02-17   \n",
       "3              Recebi bem antes do prazo estipulado.           2017-04-21   \n",
       "4  Parabéns lojas lannister adorei comprar pela I...           2018-03-01   \n",
       "\n",
       "  review_answer_timestamp  \n",
       "0     2018-01-18 21:46:59  \n",
       "1     2018-03-11 03:05:13  \n",
       "2     2018-02-18 14:36:24  \n",
       "3     2017-04-21 22:02:06  \n",
       "4     2018-03-02 10:26:53  "
      ],
      "text/html": [
       "<div>\n",
       "<style scoped>\n",
       "    .dataframe tbody tr th:only-of-type {\n",
       "        vertical-align: middle;\n",
       "    }\n",
       "\n",
       "    .dataframe tbody tr th {\n",
       "        vertical-align: top;\n",
       "    }\n",
       "\n",
       "    .dataframe thead th {\n",
       "        text-align: right;\n",
       "    }\n",
       "</style>\n",
       "<table border=\"1\" class=\"dataframe\">\n",
       "  <thead>\n",
       "    <tr style=\"text-align: right;\">\n",
       "      <th></th>\n",
       "      <th>review_id</th>\n",
       "      <th>order_id</th>\n",
       "      <th>review_score</th>\n",
       "      <th>review_comment_title</th>\n",
       "      <th>review_comment_message</th>\n",
       "      <th>review_creation_date</th>\n",
       "      <th>review_answer_timestamp</th>\n",
       "    </tr>\n",
       "  </thead>\n",
       "  <tbody>\n",
       "    <tr>\n",
       "      <th>0</th>\n",
       "      <td>7bc24061-10b9-2639-3aa5-6f80a40eba40</td>\n",
       "      <td>73fc7af8-7114-b397-12e6-da79b0a377eb</td>\n",
       "      <td>4</td>\n",
       "      <td>None</td>\n",
       "      <td>None</td>\n",
       "      <td>2018-01-18</td>\n",
       "      <td>2018-01-18 21:46:59</td>\n",
       "    </tr>\n",
       "    <tr>\n",
       "      <th>1</th>\n",
       "      <td>80e641a1-1e56-f04c-1ad4-69d5645fdfde</td>\n",
       "      <td>a548910a-1c61-4779-6b98-fdf73dbeba33</td>\n",
       "      <td>5</td>\n",
       "      <td>None</td>\n",
       "      <td>None</td>\n",
       "      <td>2018-03-10</td>\n",
       "      <td>2018-03-11 03:05:13</td>\n",
       "    </tr>\n",
       "    <tr>\n",
       "      <th>2</th>\n",
       "      <td>228ce550-0dc1-d8e0-20d8-d1322874b6f0</td>\n",
       "      <td>f9e4b658-b201-a9f2-ecde-cbb34bed034b</td>\n",
       "      <td>5</td>\n",
       "      <td>None</td>\n",
       "      <td>None</td>\n",
       "      <td>2018-02-17</td>\n",
       "      <td>2018-02-18 14:36:24</td>\n",
       "    </tr>\n",
       "    <tr>\n",
       "      <th>3</th>\n",
       "      <td>e64fb393-e7b3-2834-bb78-9ff8bb30750e</td>\n",
       "      <td>658677c9-7b38-5a9b-e170-737859d3511b</td>\n",
       "      <td>5</td>\n",
       "      <td>None</td>\n",
       "      <td>Recebi bem antes do prazo estipulado.</td>\n",
       "      <td>2017-04-21</td>\n",
       "      <td>2017-04-21 22:02:06</td>\n",
       "    </tr>\n",
       "    <tr>\n",
       "      <th>4</th>\n",
       "      <td>f7c4243c-7fe1-938f-181b-ec41a392bdeb</td>\n",
       "      <td>8e6bfb81-e283-fa7e-4f11-123a3fb894f1</td>\n",
       "      <td>5</td>\n",
       "      <td>None</td>\n",
       "      <td>Parabéns lojas lannister adorei comprar pela I...</td>\n",
       "      <td>2018-03-01</td>\n",
       "      <td>2018-03-02 10:26:53</td>\n",
       "    </tr>\n",
       "  </tbody>\n",
       "</table>\n",
       "</div>"
      ]
     },
     "execution_count": 38,
     "metadata": {},
     "output_type": "execute_result"
    }
   ],
   "execution_count": 38
  },
  {
   "cell_type": "code",
   "id": "24f604725851a06b",
   "metadata": {
    "ExecuteTime": {
     "end_time": "2025-03-08T10:52:21.323648Z",
     "start_time": "2025-03-08T10:52:21.309142Z"
    }
   },
   "source": [
    "order_reviews_df.drop(\n",
    "    [\"review_comment_title\", \"review_comment_message\"], axis=1, inplace=True\n",
    ")"
   ],
   "outputs": [],
   "execution_count": 39
  },
  {
   "cell_type": "code",
   "id": "ba2fb002edad69ae",
   "metadata": {
    "ExecuteTime": {
     "end_time": "2025-03-08T10:52:22.797177Z",
     "start_time": "2025-03-08T10:52:22.730080Z"
    }
   },
   "source": [
    "order_reviews_df[\"review_answer_timestamp\"] = pd.to_datetime(\n",
    "    order_reviews_df[\"review_answer_timestamp\"]\n",
    ")"
   ],
   "outputs": [],
   "execution_count": 40
  },
  {
   "cell_type": "code",
   "id": "7f2c4c138aab5dc2",
   "metadata": {
    "ExecuteTime": {
     "end_time": "2025-03-08T10:52:24.077532Z",
     "start_time": "2025-03-08T10:52:24.069757Z"
    }
   },
   "source": [
    "order_reviews_df.dtypes"
   ],
   "outputs": [
    {
     "data": {
      "text/plain": [
       "review_id                          object\n",
       "order_id                           object\n",
       "review_score                        int64\n",
       "review_creation_date       datetime64[ns]\n",
       "review_answer_timestamp    datetime64[ns]\n",
       "dtype: object"
      ]
     },
     "execution_count": 41,
     "metadata": {},
     "output_type": "execute_result"
    }
   ],
   "execution_count": 41
  },
  {
   "cell_type": "code",
   "id": "e27a4034eb1ed114",
   "metadata": {
    "ExecuteTime": {
     "end_time": "2025-03-08T10:52:25.340639Z",
     "start_time": "2025-03-08T10:52:25.261587Z"
    }
   },
   "source": [
    "order_reviews_df.duplicated().sum()"
   ],
   "outputs": [
    {
     "data": {
      "text/plain": [
       "np.int64(0)"
      ]
     },
     "execution_count": 42,
     "metadata": {},
     "output_type": "execute_result"
    }
   ],
   "execution_count": 42
  },
  {
   "cell_type": "code",
   "id": "a2f9650fac899b5a",
   "metadata": {
    "ExecuteTime": {
     "end_time": "2025-03-08T10:52:26.809432Z",
     "start_time": "2025-03-08T10:52:26.410415Z"
    }
   },
   "source": [
    "order_reviews_df[\"order_id\"] = order_reviews_df[\"order_id\"].apply(UUID)\n",
    "order_reviews_df[\"review_id\"] = order_reviews_df[\"review_id\"].apply(UUID)"
   ],
   "outputs": [],
   "execution_count": 43
  },
  {
   "cell_type": "code",
   "id": "4b9da3e49973ee89",
   "metadata": {
    "ExecuteTime": {
     "end_time": "2025-03-08T10:52:28.697504Z",
     "start_time": "2025-03-08T10:52:28.003435Z"
    }
   },
   "source": [
    "order_reviews_df.groupby(\"order_id\")[\"review_id\"].count().sort_values(ascending=False)"
   ],
   "outputs": [
    {
     "data": {
      "text/plain": [
       "order_id\n",
       "03c939fd-7fd3-b38f-8485-a0f95798f1f6    3\n",
       "8e17072e-c97c-e29f-0e1f-111e598b0c85    3\n",
       "c88b1d1b-157a-9999-ce36-8f218a407141    3\n",
       "df56136b-8031-ecd2-8e20-0bb18e6ddb2e    3\n",
       "7f13a20e-2535-0f4a-55fb-2a7c9a2e8d88    2\n",
       "                                       ..\n",
       "ffe73fc1-d73e-03fd-b50e-63903ddfe882    1\n",
       "ffe88510-12fc-daf8-3de7-b595fd5154b3    1\n",
       "ffea20c7-6303-43a6-cd9e-09858c1295cd    1\n",
       "ffea406a-848c-8afe-4dec-22bf6290ba00    1\n",
       "0008288a-a423-d2a3-f00f-cb17cd7d8719    1\n",
       "Name: review_id, Length: 98673, dtype: int64"
      ]
     },
     "execution_count": 44,
     "metadata": {},
     "output_type": "execute_result"
    }
   ],
   "execution_count": 44
  },
  {
   "cell_type": "code",
   "id": "c30470545eff4f8b",
   "metadata": {
    "ExecuteTime": {
     "end_time": "2025-03-08T10:52:30.204796Z",
     "start_time": "2025-03-08T10:52:30.158463Z"
    }
   },
   "source": [
    "order_reviews_df[\n",
    "    order_reviews_df[\"order_id\"] == UUID(\"03c939fd-7fd3-b38f-8485-a0f95798f1f6\")\n",
    "]"
   ],
   "outputs": [
    {
     "data": {
      "text/plain": [
       "                                  review_id  \\\n",
       "8273   b04ed893-318d-a5b8-63e8-78cd3d0511df   \n",
       "51351  f4bb9d6d-d4fb-6dcc-2298-f0e7b17b8e1e   \n",
       "69438  405eb2ea-45e1-dbe2-6625-41ae5b47e2aa   \n",
       "\n",
       "                                   order_id  review_score  \\\n",
       "8273   03c939fd-7fd3-b38f-8485-a0f95798f1f6             3   \n",
       "51351  03c939fd-7fd3-b38f-8485-a0f95798f1f6             4   \n",
       "69438  03c939fd-7fd3-b38f-8485-a0f95798f1f6             3   \n",
       "\n",
       "      review_creation_date review_answer_timestamp  \n",
       "8273            2018-03-20     2018-03-21 02:28:23  \n",
       "51351           2018-03-29     2018-03-30 00:29:09  \n",
       "69438           2018-03-06     2018-03-06 19:50:32  "
      ],
      "text/html": [
       "<div>\n",
       "<style scoped>\n",
       "    .dataframe tbody tr th:only-of-type {\n",
       "        vertical-align: middle;\n",
       "    }\n",
       "\n",
       "    .dataframe tbody tr th {\n",
       "        vertical-align: top;\n",
       "    }\n",
       "\n",
       "    .dataframe thead th {\n",
       "        text-align: right;\n",
       "    }\n",
       "</style>\n",
       "<table border=\"1\" class=\"dataframe\">\n",
       "  <thead>\n",
       "    <tr style=\"text-align: right;\">\n",
       "      <th></th>\n",
       "      <th>review_id</th>\n",
       "      <th>order_id</th>\n",
       "      <th>review_score</th>\n",
       "      <th>review_creation_date</th>\n",
       "      <th>review_answer_timestamp</th>\n",
       "    </tr>\n",
       "  </thead>\n",
       "  <tbody>\n",
       "    <tr>\n",
       "      <th>8273</th>\n",
       "      <td>b04ed893-318d-a5b8-63e8-78cd3d0511df</td>\n",
       "      <td>03c939fd-7fd3-b38f-8485-a0f95798f1f6</td>\n",
       "      <td>3</td>\n",
       "      <td>2018-03-20</td>\n",
       "      <td>2018-03-21 02:28:23</td>\n",
       "    </tr>\n",
       "    <tr>\n",
       "      <th>51351</th>\n",
       "      <td>f4bb9d6d-d4fb-6dcc-2298-f0e7b17b8e1e</td>\n",
       "      <td>03c939fd-7fd3-b38f-8485-a0f95798f1f6</td>\n",
       "      <td>4</td>\n",
       "      <td>2018-03-29</td>\n",
       "      <td>2018-03-30 00:29:09</td>\n",
       "    </tr>\n",
       "    <tr>\n",
       "      <th>69438</th>\n",
       "      <td>405eb2ea-45e1-dbe2-6625-41ae5b47e2aa</td>\n",
       "      <td>03c939fd-7fd3-b38f-8485-a0f95798f1f6</td>\n",
       "      <td>3</td>\n",
       "      <td>2018-03-06</td>\n",
       "      <td>2018-03-06 19:50:32</td>\n",
       "    </tr>\n",
       "  </tbody>\n",
       "</table>\n",
       "</div>"
      ]
     },
     "execution_count": 45,
     "metadata": {},
     "output_type": "execute_result"
    }
   ],
   "execution_count": 45
  },
  {
   "cell_type": "markdown",
   "id": "113a0b90aad74832",
   "metadata": {},
   "source": [
    "single `order_id` contains 3 reviews, which is misleading. a single order can only be brought by single customer, so we have to remove the duplicates and keep the latest review."
   ]
  },
  {
   "cell_type": "code",
   "id": "4972bd1b9d8fc927",
   "metadata": {
    "ExecuteTime": {
     "end_time": "2025-03-08T10:52:32.486181Z",
     "start_time": "2025-03-08T10:52:32.357804Z"
    }
   },
   "source": [
    "order_reviews_df = order_reviews_df.sort_values(\"review_creation_date\").drop_duplicates(\n",
    "    \"order_id\", keep=\"last\"\n",
    ")"
   ],
   "outputs": [],
   "execution_count": 46
  },
  {
   "cell_type": "markdown",
   "id": "a2ddd4574b04df99",
   "metadata": {},
   "source": [
    "#### Orders"
   ]
  },
  {
   "cell_type": "code",
   "id": "b46d1b17cf524f45",
   "metadata": {
    "ExecuteTime": {
     "end_time": "2025-03-08T10:52:33.991309Z",
     "start_time": "2025-03-08T10:52:33.984655Z"
    }
   },
   "source": [
    "orders_df.shape"
   ],
   "outputs": [
    {
     "data": {
      "text/plain": [
       "(99441, 8)"
      ]
     },
     "execution_count": 47,
     "metadata": {},
     "output_type": "execute_result"
    }
   ],
   "execution_count": 47
  },
  {
   "cell_type": "code",
   "id": "65fb53a289d46732",
   "metadata": {
    "ExecuteTime": {
     "end_time": "2025-03-08T10:52:34.806033Z",
     "start_time": "2025-03-08T10:52:34.797680Z"
    }
   },
   "source": [
    "orders_df.dtypes"
   ],
   "outputs": [
    {
     "data": {
      "text/plain": [
       "order_id                                 object\n",
       "customer_id                              object\n",
       "order_status                             object\n",
       "order_purchase_timestamp         datetime64[ns]\n",
       "order_approved_at                datetime64[ns]\n",
       "order_delivered_carrier_date     datetime64[ns]\n",
       "order_delivered_customer_date    datetime64[ns]\n",
       "order_estimated_delivery_date    datetime64[ns]\n",
       "dtype: object"
      ]
     },
     "execution_count": 48,
     "metadata": {},
     "output_type": "execute_result"
    }
   ],
   "execution_count": 48
  },
  {
   "cell_type": "code",
   "id": "908f9824364f006c",
   "metadata": {
    "ExecuteTime": {
     "end_time": "2025-03-08T10:52:35.592128Z",
     "start_time": "2025-03-08T10:52:35.568515Z"
    }
   },
   "source": [
    "orders_df.isnull().sum()"
   ],
   "outputs": [
    {
     "data": {
      "text/plain": [
       "order_id                            0\n",
       "customer_id                         0\n",
       "order_status                        0\n",
       "order_purchase_timestamp            0\n",
       "order_approved_at                 160\n",
       "order_delivered_carrier_date     1783\n",
       "order_delivered_customer_date    2965\n",
       "order_estimated_delivery_date       0\n",
       "dtype: int64"
      ]
     },
     "execution_count": 49,
     "metadata": {},
     "output_type": "execute_result"
    }
   ],
   "execution_count": 49
  },
  {
   "cell_type": "markdown",
   "id": "6d016ea67e94e684",
   "metadata": {},
   "source": [
    "`order_approved_at`, `order_delievered_carriar_date` and `order_delivered_customer_date` contains NaN values but those are linked with `order_status`, if order is cancelled those columns will not be populated."
   ]
  },
  {
   "cell_type": "code",
   "id": "ee83e67a4322cca6",
   "metadata": {
    "ExecuteTime": {
     "end_time": "2025-03-08T10:52:38.161437Z",
     "start_time": "2025-03-08T10:52:38.148735Z"
    }
   },
   "source": [
    "orders_df.head()"
   ],
   "outputs": [
    {
     "data": {
      "text/plain": [
       "                               order_id                           customer_id  \\\n",
       "0  e481f51c-bdc5-4678-b7cc-49136f2d6af7  9ef432eb-6251-2973-04e7-6186b10a928d   \n",
       "1  53cdb2fc-8bc7-dce0-b674-1e2150273451  b0830fb4-747a-6c6d-20de-a0b8c802d7ef   \n",
       "2  47770eb9-100c-2d0c-4494-6d9cf07ec65d  41ce2a54-c0b0-3bf3-443c-3d931a367089   \n",
       "3  949d5b44-dbf5-de91-8fe9-c16f97b45f8a  f8819746-5ea7-920a-dcdb-ec7375364d82   \n",
       "4  ad21c59c-0840-e6cb-83a9-ceb5573f8159  8ab97904-e6da-ea88-66db-dbc4fb7aad2c   \n",
       "\n",
       "  order_status order_purchase_timestamp   order_approved_at  \\\n",
       "0    delivered      2017-10-02 10:56:33 2017-10-02 11:07:15   \n",
       "1    delivered      2018-07-24 20:41:37 2018-07-26 03:24:27   \n",
       "2    delivered      2018-08-08 08:38:49 2018-08-08 08:55:23   \n",
       "3    delivered      2017-11-18 19:28:06 2017-11-18 19:45:59   \n",
       "4    delivered      2018-02-13 21:18:39 2018-02-13 22:20:29   \n",
       "\n",
       "  order_delivered_carrier_date order_delivered_customer_date  \\\n",
       "0          2017-10-04 19:55:00           2017-10-10 21:25:13   \n",
       "1          2018-07-26 14:31:00           2018-08-07 15:27:45   \n",
       "2          2018-08-08 13:50:00           2018-08-17 18:06:29   \n",
       "3          2017-11-22 13:39:59           2017-12-02 00:28:42   \n",
       "4          2018-02-14 19:46:34           2018-02-16 18:17:02   \n",
       "\n",
       "  order_estimated_delivery_date  \n",
       "0                    2017-10-18  \n",
       "1                    2018-08-13  \n",
       "2                    2018-09-04  \n",
       "3                    2017-12-15  \n",
       "4                    2018-02-26  "
      ],
      "text/html": [
       "<div>\n",
       "<style scoped>\n",
       "    .dataframe tbody tr th:only-of-type {\n",
       "        vertical-align: middle;\n",
       "    }\n",
       "\n",
       "    .dataframe tbody tr th {\n",
       "        vertical-align: top;\n",
       "    }\n",
       "\n",
       "    .dataframe thead th {\n",
       "        text-align: right;\n",
       "    }\n",
       "</style>\n",
       "<table border=\"1\" class=\"dataframe\">\n",
       "  <thead>\n",
       "    <tr style=\"text-align: right;\">\n",
       "      <th></th>\n",
       "      <th>order_id</th>\n",
       "      <th>customer_id</th>\n",
       "      <th>order_status</th>\n",
       "      <th>order_purchase_timestamp</th>\n",
       "      <th>order_approved_at</th>\n",
       "      <th>order_delivered_carrier_date</th>\n",
       "      <th>order_delivered_customer_date</th>\n",
       "      <th>order_estimated_delivery_date</th>\n",
       "    </tr>\n",
       "  </thead>\n",
       "  <tbody>\n",
       "    <tr>\n",
       "      <th>0</th>\n",
       "      <td>e481f51c-bdc5-4678-b7cc-49136f2d6af7</td>\n",
       "      <td>9ef432eb-6251-2973-04e7-6186b10a928d</td>\n",
       "      <td>delivered</td>\n",
       "      <td>2017-10-02 10:56:33</td>\n",
       "      <td>2017-10-02 11:07:15</td>\n",
       "      <td>2017-10-04 19:55:00</td>\n",
       "      <td>2017-10-10 21:25:13</td>\n",
       "      <td>2017-10-18</td>\n",
       "    </tr>\n",
       "    <tr>\n",
       "      <th>1</th>\n",
       "      <td>53cdb2fc-8bc7-dce0-b674-1e2150273451</td>\n",
       "      <td>b0830fb4-747a-6c6d-20de-a0b8c802d7ef</td>\n",
       "      <td>delivered</td>\n",
       "      <td>2018-07-24 20:41:37</td>\n",
       "      <td>2018-07-26 03:24:27</td>\n",
       "      <td>2018-07-26 14:31:00</td>\n",
       "      <td>2018-08-07 15:27:45</td>\n",
       "      <td>2018-08-13</td>\n",
       "    </tr>\n",
       "    <tr>\n",
       "      <th>2</th>\n",
       "      <td>47770eb9-100c-2d0c-4494-6d9cf07ec65d</td>\n",
       "      <td>41ce2a54-c0b0-3bf3-443c-3d931a367089</td>\n",
       "      <td>delivered</td>\n",
       "      <td>2018-08-08 08:38:49</td>\n",
       "      <td>2018-08-08 08:55:23</td>\n",
       "      <td>2018-08-08 13:50:00</td>\n",
       "      <td>2018-08-17 18:06:29</td>\n",
       "      <td>2018-09-04</td>\n",
       "    </tr>\n",
       "    <tr>\n",
       "      <th>3</th>\n",
       "      <td>949d5b44-dbf5-de91-8fe9-c16f97b45f8a</td>\n",
       "      <td>f8819746-5ea7-920a-dcdb-ec7375364d82</td>\n",
       "      <td>delivered</td>\n",
       "      <td>2017-11-18 19:28:06</td>\n",
       "      <td>2017-11-18 19:45:59</td>\n",
       "      <td>2017-11-22 13:39:59</td>\n",
       "      <td>2017-12-02 00:28:42</td>\n",
       "      <td>2017-12-15</td>\n",
       "    </tr>\n",
       "    <tr>\n",
       "      <th>4</th>\n",
       "      <td>ad21c59c-0840-e6cb-83a9-ceb5573f8159</td>\n",
       "      <td>8ab97904-e6da-ea88-66db-dbc4fb7aad2c</td>\n",
       "      <td>delivered</td>\n",
       "      <td>2018-02-13 21:18:39</td>\n",
       "      <td>2018-02-13 22:20:29</td>\n",
       "      <td>2018-02-14 19:46:34</td>\n",
       "      <td>2018-02-16 18:17:02</td>\n",
       "      <td>2018-02-26</td>\n",
       "    </tr>\n",
       "  </tbody>\n",
       "</table>\n",
       "</div>"
      ]
     },
     "execution_count": 50,
     "metadata": {},
     "output_type": "execute_result"
    }
   ],
   "execution_count": 50
  },
  {
   "cell_type": "code",
   "id": "69bb3c216a44845d",
   "metadata": {
    "ExecuteTime": {
     "end_time": "2025-03-08T10:52:38.988445Z",
     "start_time": "2025-03-08T10:52:38.875141Z"
    }
   },
   "source": [
    "orders_df.duplicated().sum()"
   ],
   "outputs": [
    {
     "data": {
      "text/plain": [
       "np.int64(0)"
      ]
     },
     "execution_count": 51,
     "metadata": {},
     "output_type": "execute_result"
    }
   ],
   "execution_count": 51
  },
  {
   "cell_type": "code",
   "id": "c71e8075d2cb3275",
   "metadata": {
    "ExecuteTime": {
     "end_time": "2025-03-08T10:52:40.265159Z",
     "start_time": "2025-03-08T10:52:39.668270Z"
    }
   },
   "source": [
    "orders_df[\"order_id\"] = orders_df[\"order_id\"].apply(UUID)\n",
    "orders_df[\"customer_id\"] = orders_df[\"customer_id\"].apply(UUID)"
   ],
   "outputs": [],
   "execution_count": 52
  },
  {
   "cell_type": "markdown",
   "id": "36677a2fed851e86",
   "metadata": {},
   "source": [
    "### Product Categories"
   ]
  },
  {
   "cell_type": "code",
   "id": "286f12ba780b9c49",
   "metadata": {
    "ExecuteTime": {
     "end_time": "2025-03-08T10:52:41.616329Z",
     "start_time": "2025-03-08T10:52:41.605761Z"
    }
   },
   "source": [
    "product_category_df.shape"
   ],
   "outputs": [
    {
     "data": {
      "text/plain": [
       "(71, 2)"
      ]
     },
     "execution_count": 53,
     "metadata": {},
     "output_type": "execute_result"
    }
   ],
   "execution_count": 53
  },
  {
   "cell_type": "code",
   "id": "59e850bdbd5873aa",
   "metadata": {
    "ExecuteTime": {
     "end_time": "2025-03-08T10:52:42.339346Z",
     "start_time": "2025-03-08T10:52:42.330185Z"
    }
   },
   "source": [
    "product_category_df.dtypes"
   ],
   "outputs": [
    {
     "data": {
      "text/plain": [
       "product_category_name            object\n",
       "product_category_name_english    object\n",
       "dtype: object"
      ]
     },
     "execution_count": 54,
     "metadata": {},
     "output_type": "execute_result"
    }
   ],
   "execution_count": 54
  },
  {
   "cell_type": "code",
   "id": "576aab98e558cfc6",
   "metadata": {
    "ExecuteTime": {
     "end_time": "2025-03-08T10:52:43.115648Z",
     "start_time": "2025-03-08T10:52:43.103065Z"
    }
   },
   "source": [
    "product_category_df.isnull().sum()"
   ],
   "outputs": [
    {
     "data": {
      "text/plain": [
       "product_category_name            0\n",
       "product_category_name_english    0\n",
       "dtype: int64"
      ]
     },
     "execution_count": 55,
     "metadata": {},
     "output_type": "execute_result"
    }
   ],
   "execution_count": 55
  },
  {
   "cell_type": "code",
   "id": "1a37ff462e1cd5fd",
   "metadata": {
    "ExecuteTime": {
     "end_time": "2025-03-08T10:52:43.907633Z",
     "start_time": "2025-03-08T10:52:43.899155Z"
    }
   },
   "source": [
    "product_category_df.head()"
   ],
   "outputs": [
    {
     "data": {
      "text/plain": [
       "    product_category_name product_category_name_english\n",
       "0            beleza_saude                 health_beauty\n",
       "1  informatica_acessorios         computers_accessories\n",
       "2              automotivo                          auto\n",
       "3         cama_mesa_banho                bed_bath_table\n",
       "4        moveis_decoracao               furniture_decor"
      ],
      "text/html": [
       "<div>\n",
       "<style scoped>\n",
       "    .dataframe tbody tr th:only-of-type {\n",
       "        vertical-align: middle;\n",
       "    }\n",
       "\n",
       "    .dataframe tbody tr th {\n",
       "        vertical-align: top;\n",
       "    }\n",
       "\n",
       "    .dataframe thead th {\n",
       "        text-align: right;\n",
       "    }\n",
       "</style>\n",
       "<table border=\"1\" class=\"dataframe\">\n",
       "  <thead>\n",
       "    <tr style=\"text-align: right;\">\n",
       "      <th></th>\n",
       "      <th>product_category_name</th>\n",
       "      <th>product_category_name_english</th>\n",
       "    </tr>\n",
       "  </thead>\n",
       "  <tbody>\n",
       "    <tr>\n",
       "      <th>0</th>\n",
       "      <td>beleza_saude</td>\n",
       "      <td>health_beauty</td>\n",
       "    </tr>\n",
       "    <tr>\n",
       "      <th>1</th>\n",
       "      <td>informatica_acessorios</td>\n",
       "      <td>computers_accessories</td>\n",
       "    </tr>\n",
       "    <tr>\n",
       "      <th>2</th>\n",
       "      <td>automotivo</td>\n",
       "      <td>auto</td>\n",
       "    </tr>\n",
       "    <tr>\n",
       "      <th>3</th>\n",
       "      <td>cama_mesa_banho</td>\n",
       "      <td>bed_bath_table</td>\n",
       "    </tr>\n",
       "    <tr>\n",
       "      <th>4</th>\n",
       "      <td>moveis_decoracao</td>\n",
       "      <td>furniture_decor</td>\n",
       "    </tr>\n",
       "  </tbody>\n",
       "</table>\n",
       "</div>"
      ]
     },
     "execution_count": 56,
     "metadata": {},
     "output_type": "execute_result"
    }
   ],
   "execution_count": 56
  },
  {
   "cell_type": "markdown",
   "id": "abb040735b056164",
   "metadata": {},
   "source": [
    "### Products"
   ]
  },
  {
   "cell_type": "code",
   "id": "2281e5806b13dfb",
   "metadata": {
    "ExecuteTime": {
     "end_time": "2025-03-08T10:52:45.659759Z",
     "start_time": "2025-03-08T10:52:45.652522Z"
    }
   },
   "source": [
    "products_df.shape"
   ],
   "outputs": [
    {
     "data": {
      "text/plain": [
       "(32951, 9)"
      ]
     },
     "execution_count": 57,
     "metadata": {},
     "output_type": "execute_result"
    }
   ],
   "execution_count": 57
  },
  {
   "cell_type": "code",
   "id": "5498942cc8fd86f8",
   "metadata": {
    "ExecuteTime": {
     "end_time": "2025-03-08T10:52:47.120906Z",
     "start_time": "2025-03-08T10:52:47.112900Z"
    }
   },
   "source": [
    "products_df.dtypes"
   ],
   "outputs": [
    {
     "data": {
      "text/plain": [
       "product_id                     object\n",
       "product_category_name          object\n",
       "product_name_lenght           float64\n",
       "product_description_lenght    float64\n",
       "product_photos_qty            float64\n",
       "product_weight_g              float64\n",
       "product_length_cm             float64\n",
       "product_height_cm             float64\n",
       "product_width_cm              float64\n",
       "dtype: object"
      ]
     },
     "execution_count": 58,
     "metadata": {},
     "output_type": "execute_result"
    }
   ],
   "execution_count": 58
  },
  {
   "cell_type": "code",
   "id": "724d52a73b50d54d",
   "metadata": {
    "ExecuteTime": {
     "end_time": "2025-03-08T10:52:47.994514Z",
     "start_time": "2025-03-08T10:52:47.973809Z"
    }
   },
   "source": [
    "products_df.isnull().sum()"
   ],
   "outputs": [
    {
     "data": {
      "text/plain": [
       "product_id                      0\n",
       "product_category_name         610\n",
       "product_name_lenght           610\n",
       "product_description_lenght    610\n",
       "product_photos_qty            610\n",
       "product_weight_g                2\n",
       "product_length_cm               2\n",
       "product_height_cm               2\n",
       "product_width_cm                2\n",
       "dtype: int64"
      ]
     },
     "execution_count": 59,
     "metadata": {},
     "output_type": "execute_result"
    }
   ],
   "execution_count": 59
  },
  {
   "cell_type": "code",
   "id": "a55eecab5c4551b7",
   "metadata": {
    "ExecuteTime": {
     "end_time": "2025-03-08T10:52:48.926051Z",
     "start_time": "2025-03-08T10:52:48.909496Z"
    }
   },
   "source": [
    "products_df.head()"
   ],
   "outputs": [
    {
     "data": {
      "text/plain": [
       "                             product_id  product_category_name  \\\n",
       "0  1e9e8ef0-4dbc-ff45-41ed-26657ea517e5             perfumaria   \n",
       "1  3aa07113-9cb1-6b67-ca9e-5dea641aaa2f                  artes   \n",
       "2  96bd76ec-8810-374e-d1b6-5e291975717f          esporte_lazer   \n",
       "3  cef67bcf-e190-66a9-32b7-673e239eb23d                  bebes   \n",
       "4  9dc1a7de-2744-4484-9c21-9cff195d0b71  utilidades_domesticas   \n",
       "\n",
       "   product_name_lenght  product_description_lenght  product_photos_qty  \\\n",
       "0                 40.0                       287.0                 1.0   \n",
       "1                 44.0                       276.0                 1.0   \n",
       "2                 46.0                       250.0                 1.0   \n",
       "3                 27.0                       261.0                 1.0   \n",
       "4                 37.0                       402.0                 4.0   \n",
       "\n",
       "   product_weight_g  product_length_cm  product_height_cm  product_width_cm  \n",
       "0             225.0               16.0               10.0              14.0  \n",
       "1            1000.0               30.0               18.0              20.0  \n",
       "2             154.0               18.0                9.0              15.0  \n",
       "3             371.0               26.0                4.0              26.0  \n",
       "4             625.0               20.0               17.0              13.0  "
      ],
      "text/html": [
       "<div>\n",
       "<style scoped>\n",
       "    .dataframe tbody tr th:only-of-type {\n",
       "        vertical-align: middle;\n",
       "    }\n",
       "\n",
       "    .dataframe tbody tr th {\n",
       "        vertical-align: top;\n",
       "    }\n",
       "\n",
       "    .dataframe thead th {\n",
       "        text-align: right;\n",
       "    }\n",
       "</style>\n",
       "<table border=\"1\" class=\"dataframe\">\n",
       "  <thead>\n",
       "    <tr style=\"text-align: right;\">\n",
       "      <th></th>\n",
       "      <th>product_id</th>\n",
       "      <th>product_category_name</th>\n",
       "      <th>product_name_lenght</th>\n",
       "      <th>product_description_lenght</th>\n",
       "      <th>product_photos_qty</th>\n",
       "      <th>product_weight_g</th>\n",
       "      <th>product_length_cm</th>\n",
       "      <th>product_height_cm</th>\n",
       "      <th>product_width_cm</th>\n",
       "    </tr>\n",
       "  </thead>\n",
       "  <tbody>\n",
       "    <tr>\n",
       "      <th>0</th>\n",
       "      <td>1e9e8ef0-4dbc-ff45-41ed-26657ea517e5</td>\n",
       "      <td>perfumaria</td>\n",
       "      <td>40.0</td>\n",
       "      <td>287.0</td>\n",
       "      <td>1.0</td>\n",
       "      <td>225.0</td>\n",
       "      <td>16.0</td>\n",
       "      <td>10.0</td>\n",
       "      <td>14.0</td>\n",
       "    </tr>\n",
       "    <tr>\n",
       "      <th>1</th>\n",
       "      <td>3aa07113-9cb1-6b67-ca9e-5dea641aaa2f</td>\n",
       "      <td>artes</td>\n",
       "      <td>44.0</td>\n",
       "      <td>276.0</td>\n",
       "      <td>1.0</td>\n",
       "      <td>1000.0</td>\n",
       "      <td>30.0</td>\n",
       "      <td>18.0</td>\n",
       "      <td>20.0</td>\n",
       "    </tr>\n",
       "    <tr>\n",
       "      <th>2</th>\n",
       "      <td>96bd76ec-8810-374e-d1b6-5e291975717f</td>\n",
       "      <td>esporte_lazer</td>\n",
       "      <td>46.0</td>\n",
       "      <td>250.0</td>\n",
       "      <td>1.0</td>\n",
       "      <td>154.0</td>\n",
       "      <td>18.0</td>\n",
       "      <td>9.0</td>\n",
       "      <td>15.0</td>\n",
       "    </tr>\n",
       "    <tr>\n",
       "      <th>3</th>\n",
       "      <td>cef67bcf-e190-66a9-32b7-673e239eb23d</td>\n",
       "      <td>bebes</td>\n",
       "      <td>27.0</td>\n",
       "      <td>261.0</td>\n",
       "      <td>1.0</td>\n",
       "      <td>371.0</td>\n",
       "      <td>26.0</td>\n",
       "      <td>4.0</td>\n",
       "      <td>26.0</td>\n",
       "    </tr>\n",
       "    <tr>\n",
       "      <th>4</th>\n",
       "      <td>9dc1a7de-2744-4484-9c21-9cff195d0b71</td>\n",
       "      <td>utilidades_domesticas</td>\n",
       "      <td>37.0</td>\n",
       "      <td>402.0</td>\n",
       "      <td>4.0</td>\n",
       "      <td>625.0</td>\n",
       "      <td>20.0</td>\n",
       "      <td>17.0</td>\n",
       "      <td>13.0</td>\n",
       "    </tr>\n",
       "  </tbody>\n",
       "</table>\n",
       "</div>"
      ]
     },
     "execution_count": 60,
     "metadata": {},
     "output_type": "execute_result"
    }
   ],
   "execution_count": 60
  },
  {
   "cell_type": "code",
   "id": "c322bca408321299",
   "metadata": {
    "ExecuteTime": {
     "end_time": "2025-03-08T10:52:49.773086Z",
     "start_time": "2025-03-08T10:52:49.766730Z"
    }
   },
   "source": [
    "products_df.rename(\n",
    "    {\n",
    "        \"product_description_lenght\": \"product_description_length\",\n",
    "        \"product_name_lenght\": \"product_name_length\",\n",
    "    },\n",
    "    axis=1,\n",
    "    inplace=True,\n",
    ")"
   ],
   "outputs": [],
   "execution_count": 61
  },
  {
   "cell_type": "code",
   "id": "80d42e2d259832a6",
   "metadata": {
    "ExecuteTime": {
     "end_time": "2025-03-08T10:52:50.565901Z",
     "start_time": "2025-03-08T10:52:50.534562Z"
    }
   },
   "source": [
    "products_df.duplicated().sum()"
   ],
   "outputs": [
    {
     "data": {
      "text/plain": [
       "np.int64(0)"
      ]
     },
     "execution_count": 62,
     "metadata": {},
     "output_type": "execute_result"
    }
   ],
   "execution_count": 62
  },
  {
   "cell_type": "code",
   "id": "1c7c6e8f4d372947",
   "metadata": {
    "ExecuteTime": {
     "end_time": "2025-03-08T10:52:51.283558Z",
     "start_time": "2025-03-08T10:52:51.269752Z"
    }
   },
   "source": [
    "products_df.fillna({\"product_category_name\": \"unknown\"}, inplace=True)"
   ],
   "outputs": [],
   "execution_count": 63
  },
  {
   "cell_type": "markdown",
   "id": "adf32083beb95d59",
   "metadata": {},
   "source": [
    "`product_category_name` contains nan values, but they show important information about products, so we replace it with \"unknown\""
   ]
  },
  {
   "cell_type": "code",
   "id": "b4f9846b5d30aa72",
   "metadata": {
    "ExecuteTime": {
     "end_time": "2025-03-08T10:52:54.044674Z",
     "start_time": "2025-03-08T10:52:53.981246Z"
    }
   },
   "source": [
    "products_df[\"product_id\"] = products_df[\"product_id\"].apply(UUID)"
   ],
   "outputs": [],
   "execution_count": 64
  },
  {
   "cell_type": "code",
   "id": "c7d67e4b00477b68",
   "metadata": {
    "ExecuteTime": {
     "end_time": "2025-03-08T10:52:54.789805Z",
     "start_time": "2025-03-08T10:52:54.695544Z"
    }
   },
   "source": [
    "# id to product name mapping\n",
    "id_to_product_name = {\n",
    "    prod_id: f\"Product_{idx + 1}\"\n",
    "    for idx, prod_id in enumerate(products_df[\"product_id\"].unique())\n",
    "}\n",
    "products_df[\"product_name\"] = products_df[\"product_id\"].map(id_to_product_name)"
   ],
   "outputs": [],
   "execution_count": 65
  },
  {
   "cell_type": "markdown",
   "id": "6bd14f8c415f9073",
   "metadata": {},
   "source": [
    "\n",
    "\n",
    "### Sellers"
   ]
  },
  {
   "cell_type": "code",
   "id": "7c1289cd51ca8793",
   "metadata": {
    "ExecuteTime": {
     "end_time": "2025-03-08T10:53:11.136910Z",
     "start_time": "2025-03-08T10:53:11.127884Z"
    }
   },
   "source": "sellers_df.shape",
   "outputs": [
    {
     "data": {
      "text/plain": [
       "(3095, 4)"
      ]
     },
     "execution_count": 67,
     "metadata": {},
     "output_type": "execute_result"
    }
   ],
   "execution_count": 67
  },
  {
   "cell_type": "code",
   "id": "8df519b75a87b7f6",
   "metadata": {
    "ExecuteTime": {
     "end_time": "2025-03-08T10:53:12.043197Z",
     "start_time": "2025-03-08T10:53:12.033878Z"
    }
   },
   "source": [
    "sellers_df.dtypes"
   ],
   "outputs": [
    {
     "data": {
      "text/plain": [
       "seller_id                 object\n",
       "seller_zip_code_prefix     int64\n",
       "seller_city               object\n",
       "seller_state              object\n",
       "dtype: object"
      ]
     },
     "execution_count": 68,
     "metadata": {},
     "output_type": "execute_result"
    }
   ],
   "execution_count": 68
  },
  {
   "cell_type": "code",
   "id": "651978b6d7b0bb29",
   "metadata": {
    "ExecuteTime": {
     "end_time": "2025-03-08T10:53:13.455264Z",
     "start_time": "2025-03-08T10:53:13.438973Z"
    }
   },
   "source": [
    "sellers_df.isnull().sum()"
   ],
   "outputs": [
    {
     "data": {
      "text/plain": [
       "seller_id                 0\n",
       "seller_zip_code_prefix    0\n",
       "seller_city               0\n",
       "seller_state              0\n",
       "dtype: int64"
      ]
     },
     "execution_count": 69,
     "metadata": {},
     "output_type": "execute_result"
    }
   ],
   "execution_count": 69
  },
  {
   "cell_type": "code",
   "id": "a0d68bf73f4fcd26",
   "metadata": {
    "ExecuteTime": {
     "end_time": "2025-03-08T10:53:14.523480Z",
     "start_time": "2025-03-08T10:53:14.511585Z"
    }
   },
   "source": [
    "sellers_df.head()"
   ],
   "outputs": [
    {
     "data": {
      "text/plain": [
       "                              seller_id  seller_zip_code_prefix  \\\n",
       "0  3442f895-9a84-dea7-ee19-7c632cb2df15                   13023   \n",
       "1  d1b65fc7-debc-3361-ea86-b5f14c68d2e2                   13844   \n",
       "2  ce3ad9de-9601-02d0-677a-81f5d0bb7b2d                   20031   \n",
       "3  c0f3eea2-e145-55b6-faee-a3dd58c1b1c3                    4195   \n",
       "4  51a04a8a-6bdc-b23d-eccc-82b0b80742cf                   12914   \n",
       "\n",
       "         seller_city seller_state  \n",
       "0           campinas           SP  \n",
       "1         mogi guacu           SP  \n",
       "2     rio de janeiro           RJ  \n",
       "3          sao paulo           SP  \n",
       "4  braganca paulista           SP  "
      ],
      "text/html": [
       "<div>\n",
       "<style scoped>\n",
       "    .dataframe tbody tr th:only-of-type {\n",
       "        vertical-align: middle;\n",
       "    }\n",
       "\n",
       "    .dataframe tbody tr th {\n",
       "        vertical-align: top;\n",
       "    }\n",
       "\n",
       "    .dataframe thead th {\n",
       "        text-align: right;\n",
       "    }\n",
       "</style>\n",
       "<table border=\"1\" class=\"dataframe\">\n",
       "  <thead>\n",
       "    <tr style=\"text-align: right;\">\n",
       "      <th></th>\n",
       "      <th>seller_id</th>\n",
       "      <th>seller_zip_code_prefix</th>\n",
       "      <th>seller_city</th>\n",
       "      <th>seller_state</th>\n",
       "    </tr>\n",
       "  </thead>\n",
       "  <tbody>\n",
       "    <tr>\n",
       "      <th>0</th>\n",
       "      <td>3442f895-9a84-dea7-ee19-7c632cb2df15</td>\n",
       "      <td>13023</td>\n",
       "      <td>campinas</td>\n",
       "      <td>SP</td>\n",
       "    </tr>\n",
       "    <tr>\n",
       "      <th>1</th>\n",
       "      <td>d1b65fc7-debc-3361-ea86-b5f14c68d2e2</td>\n",
       "      <td>13844</td>\n",
       "      <td>mogi guacu</td>\n",
       "      <td>SP</td>\n",
       "    </tr>\n",
       "    <tr>\n",
       "      <th>2</th>\n",
       "      <td>ce3ad9de-9601-02d0-677a-81f5d0bb7b2d</td>\n",
       "      <td>20031</td>\n",
       "      <td>rio de janeiro</td>\n",
       "      <td>RJ</td>\n",
       "    </tr>\n",
       "    <tr>\n",
       "      <th>3</th>\n",
       "      <td>c0f3eea2-e145-55b6-faee-a3dd58c1b1c3</td>\n",
       "      <td>4195</td>\n",
       "      <td>sao paulo</td>\n",
       "      <td>SP</td>\n",
       "    </tr>\n",
       "    <tr>\n",
       "      <th>4</th>\n",
       "      <td>51a04a8a-6bdc-b23d-eccc-82b0b80742cf</td>\n",
       "      <td>12914</td>\n",
       "      <td>braganca paulista</td>\n",
       "      <td>SP</td>\n",
       "    </tr>\n",
       "  </tbody>\n",
       "</table>\n",
       "</div>"
      ]
     },
     "execution_count": 70,
     "metadata": {},
     "output_type": "execute_result"
    }
   ],
   "execution_count": 70
  },
  {
   "cell_type": "code",
   "id": "7325826ed41cdb5d",
   "metadata": {
    "ExecuteTime": {
     "end_time": "2025-03-08T10:53:15.474751Z",
     "start_time": "2025-03-08T10:53:15.464585Z"
    }
   },
   "source": [
    "sellers_df.duplicated().sum()"
   ],
   "outputs": [
    {
     "data": {
      "text/plain": [
       "np.int64(0)"
      ]
     },
     "execution_count": 71,
     "metadata": {},
     "output_type": "execute_result"
    }
   ],
   "execution_count": 71
  },
  {
   "cell_type": "code",
   "id": "38df7dd17cb61d44",
   "metadata": {
    "ExecuteTime": {
     "end_time": "2025-03-08T10:53:16.376442Z",
     "start_time": "2025-03-08T10:53:16.361163Z"
    }
   },
   "source": [
    "sellers_df[\"seller_id\"] = sellers_df[\"seller_id\"].apply(UUID)"
   ],
   "outputs": [],
   "execution_count": 72
  },
  {
   "cell_type": "code",
   "id": "2c19957b76c1ff06",
   "metadata": {
    "ExecuteTime": {
     "end_time": "2025-03-08T10:53:17.319287Z",
     "start_time": "2025-03-08T10:53:17.300288Z"
    }
   },
   "source": [
    "# id to seller name\n",
    "id_to_seller_name = {\n",
    "    sel_id: f\"Seller_{idx + 1}\"\n",
    "    for idx, sel_id in enumerate(sellers_df[\"seller_id\"].unique())\n",
    "}\n",
    "sellers_df[\"seller_name\"] = sellers_df[\"seller_id\"].map(id_to_seller_name)"
   ],
   "outputs": [],
   "execution_count": 73
  },
  {
   "cell_type": "markdown",
   "id": "ba79a8fa2d24b47",
   "metadata": {},
   "source": [
    "## Dimension Modeling"
   ]
  },
  {
   "cell_type": "code",
   "id": "4f88f516fccbffd8",
   "metadata": {
    "ExecuteTime": {
     "end_time": "2025-03-08T10:53:22.216336Z",
     "start_time": "2025-03-08T10:53:22.180585Z"
    }
   },
   "source": [
    "customer_map = customers_df.set_index(\"customer_id\")[\"customer_unique_id\"]"
   ],
   "outputs": [],
   "execution_count": 74
  },
  {
   "cell_type": "code",
   "id": "5743f79876377e48",
   "metadata": {
    "ExecuteTime": {
     "end_time": "2025-03-08T10:53:25.136168Z",
     "start_time": "2025-03-08T10:53:24.920320Z"
    }
   },
   "source": [
    "orders_df[\"customer_id\"] = orders_df[\"customer_id\"].map(customer_map)"
   ],
   "outputs": [],
   "execution_count": 75
  },
  {
   "cell_type": "code",
   "id": "290331ca0a529b66",
   "metadata": {
    "ExecuteTime": {
     "end_time": "2025-03-08T10:53:25.780897Z",
     "start_time": "2025-03-08T10:53:25.758946Z"
    }
   },
   "source": [
    "customers_df.drop(\"customer_id\", axis=1, inplace=True)"
   ],
   "outputs": [],
   "execution_count": 76
  },
  {
   "cell_type": "code",
   "id": "45746dcc036b3738",
   "metadata": {
    "ExecuteTime": {
     "end_time": "2025-03-08T10:53:27.207743Z",
     "start_time": "2025-03-08T10:53:27.046409Z"
    }
   },
   "source": [
    "customers_df.drop_duplicates(inplace=True)"
   ],
   "outputs": [],
   "execution_count": 77
  },
  {
   "cell_type": "code",
   "id": "6a1ed20c60f63ae6",
   "metadata": {
    "ExecuteTime": {
     "end_time": "2025-03-08T10:53:28.217814Z",
     "start_time": "2025-03-08T10:53:28.212310Z"
    }
   },
   "source": [
    "customers_df.rename({\"customer_unique_id\": \"customer_id\"}, axis=1, inplace=True)"
   ],
   "outputs": [],
   "execution_count": 78
  },
  {
   "metadata": {},
   "cell_type": "markdown",
   "source": "### Fact Tables",
   "id": "6213e7ba9d94098e"
  },
  {
   "metadata": {
    "ExecuteTime": {
     "end_time": "2025-03-08T11:39:07.199909Z",
     "start_time": "2025-03-08T11:39:06.512775Z"
    }
   },
   "cell_type": "code",
   "source": [
    "fact_orders = order_items_df.merge(orders_df, on=\"order_id\", how=\"left\").merge(\n",
    "    order_reviews_df, on=\"order_id\", how=\"left\"\n",
    ")"
   ],
   "id": "d13b7ebb3f454207",
   "outputs": [],
   "execution_count": 139
  },
  {
   "metadata": {
    "ExecuteTime": {
     "end_time": "2025-03-08T11:49:49.023051Z",
     "start_time": "2025-03-08T11:49:48.995007Z"
    }
   },
   "cell_type": "code",
   "source": [
    "fact_orders.drop(\n",
    "    [\"review_id\", \"review_answer_timestamp\", \"review_creation_date\"],\n",
    "    axis=1,\n",
    "    inplace=True,\n",
    ")"
   ],
   "id": "8376900871fd00bf",
   "outputs": [],
   "execution_count": 144
  },
  {
   "metadata": {
    "ExecuteTime": {
     "end_time": "2025-03-08T11:50:12.383786Z",
     "start_time": "2025-03-08T11:50:12.376803Z"
    }
   },
   "cell_type": "code",
   "source": "fact_orders.rename({\"review_score\": \"order_rating\"}, axis=1, inplace=True)",
   "id": "bf14eef53df330e9",
   "outputs": [],
   "execution_count": 145
  },
  {
   "metadata": {
    "ExecuteTime": {
     "end_time": "2025-03-08T10:55:24.091118Z",
     "start_time": "2025-03-08T10:55:23.106688Z"
    }
   },
   "cell_type": "code",
   "source": [
    "order_payments_df.groupby(\"order_id\")[\"payment_type\"].count().sort_values(\n",
    "    ascending=False\n",
    ")"
   ],
   "id": "e11d4fe34b25e9b9",
   "outputs": [
    {
     "data": {
      "text/plain": [
       "order_id\n",
       "fa65dad1-b0e8-18e3-ccc5-cb0e39231352    29\n",
       "ccf804e7-64ed-5650-cd87-59557269dc13    26\n",
       "285c2e15-bebd-4ac8-3635-ccc563dc71f4    22\n",
       "895ab968-e7bb-0d56-59d1-6cd74cd1650c    21\n",
       "ee9ca989-fc93-ba09-a6ed-dc250ce01742    19\n",
       "                                        ..\n",
       "ffe73fc1-d73e-03fd-b50e-63903ddfe882     1\n",
       "ffe88510-12fc-daf8-3de7-b595fd5154b3     1\n",
       "ffea20c7-6303-43a6-cd9e-09858c1295cd     1\n",
       "ffea406a-848c-8afe-4dec-22bf6290ba00     1\n",
       "00063b38-1e24-06b5-2ad4-29470734ebd5     1\n",
       "Name: payment_type, Length: 99440, dtype: int64"
      ]
     },
     "execution_count": 81,
     "metadata": {},
     "output_type": "execute_result"
    }
   ],
   "execution_count": 81
  },
  {
   "metadata": {},
   "cell_type": "markdown",
   "source": "`order_payments_df` contains the multiple payments of single order, so merging it with `fact_orders` will lead to duplicates so keeping it as separate fact table.",
   "id": "4ad1cf923c53f526"
  },
  {
   "metadata": {
    "ExecuteTime": {
     "end_time": "2025-03-08T10:57:06.908983Z",
     "start_time": "2025-03-08T10:57:06.904269Z"
    }
   },
   "cell_type": "code",
   "source": "fact_payments = order_payments_df",
   "id": "c10f14c7a5055507",
   "outputs": [],
   "execution_count": 82
  },
  {
   "metadata": {},
   "cell_type": "markdown",
   "source": "### Dim Tables",
   "id": "792cc4ef7d121f6"
  },
  {
   "metadata": {
    "ExecuteTime": {
     "end_time": "2025-03-08T10:58:28.607396Z",
     "start_time": "2025-03-08T10:58:28.454629Z"
    }
   },
   "cell_type": "code",
   "source": "customers_df.duplicated().sum()",
   "id": "2b5126f61ef5e696",
   "outputs": [
    {
     "data": {
      "text/plain": [
       "np.int64(0)"
      ]
     },
     "execution_count": 83,
     "metadata": {},
     "output_type": "execute_result"
    }
   ],
   "execution_count": 83
  },
  {
   "metadata": {
    "ExecuteTime": {
     "end_time": "2025-03-08T10:58:38.194058Z",
     "start_time": "2025-03-08T10:58:38.189609Z"
    }
   },
   "cell_type": "code",
   "source": "dim_customers = customers_df",
   "id": "d723955c10a06f82",
   "outputs": [],
   "execution_count": 84
  },
  {
   "metadata": {
    "ExecuteTime": {
     "end_time": "2025-03-08T10:58:48.955631Z",
     "start_time": "2025-03-08T10:58:48.940514Z"
    }
   },
   "cell_type": "code",
   "source": "sellers_df.duplicated().sum()",
   "id": "84805a0864913cee",
   "outputs": [
    {
     "data": {
      "text/plain": [
       "np.int64(0)"
      ]
     },
     "execution_count": 85,
     "metadata": {},
     "output_type": "execute_result"
    }
   ],
   "execution_count": 85
  },
  {
   "metadata": {
    "ExecuteTime": {
     "end_time": "2025-03-08T10:59:35.609105Z",
     "start_time": "2025-03-08T10:59:35.602876Z"
    }
   },
   "cell_type": "code",
   "source": "dim_sellers = sellers_df",
   "id": "797ed452d8cc5215",
   "outputs": [],
   "execution_count": 87
  },
  {
   "metadata": {
    "ExecuteTime": {
     "end_time": "2025-03-08T11:02:02.283785Z",
     "start_time": "2025-03-08T11:02:02.271266Z"
    }
   },
   "cell_type": "code",
   "source": "product_category_df.head()",
   "id": "e01c1e26a247ca3",
   "outputs": [
    {
     "data": {
      "text/plain": [
       "    product_category_name product_category_name_english\n",
       "0            beleza_saude                 health_beauty\n",
       "1  informatica_acessorios         computers_accessories\n",
       "2              automotivo                          auto\n",
       "3         cama_mesa_banho                bed_bath_table\n",
       "4        moveis_decoracao               furniture_decor"
      ],
      "text/html": [
       "<div>\n",
       "<style scoped>\n",
       "    .dataframe tbody tr th:only-of-type {\n",
       "        vertical-align: middle;\n",
       "    }\n",
       "\n",
       "    .dataframe tbody tr th {\n",
       "        vertical-align: top;\n",
       "    }\n",
       "\n",
       "    .dataframe thead th {\n",
       "        text-align: right;\n",
       "    }\n",
       "</style>\n",
       "<table border=\"1\" class=\"dataframe\">\n",
       "  <thead>\n",
       "    <tr style=\"text-align: right;\">\n",
       "      <th></th>\n",
       "      <th>product_category_name</th>\n",
       "      <th>product_category_name_english</th>\n",
       "    </tr>\n",
       "  </thead>\n",
       "  <tbody>\n",
       "    <tr>\n",
       "      <th>0</th>\n",
       "      <td>beleza_saude</td>\n",
       "      <td>health_beauty</td>\n",
       "    </tr>\n",
       "    <tr>\n",
       "      <th>1</th>\n",
       "      <td>informatica_acessorios</td>\n",
       "      <td>computers_accessories</td>\n",
       "    </tr>\n",
       "    <tr>\n",
       "      <th>2</th>\n",
       "      <td>automotivo</td>\n",
       "      <td>auto</td>\n",
       "    </tr>\n",
       "    <tr>\n",
       "      <th>3</th>\n",
       "      <td>cama_mesa_banho</td>\n",
       "      <td>bed_bath_table</td>\n",
       "    </tr>\n",
       "    <tr>\n",
       "      <th>4</th>\n",
       "      <td>moveis_decoracao</td>\n",
       "      <td>furniture_decor</td>\n",
       "    </tr>\n",
       "  </tbody>\n",
       "</table>\n",
       "</div>"
      ]
     },
     "execution_count": 88,
     "metadata": {},
     "output_type": "execute_result"
    }
   ],
   "execution_count": 88
  },
  {
   "metadata": {
    "ExecuteTime": {
     "end_time": "2025-03-08T11:05:37.789540Z",
     "start_time": "2025-03-08T11:05:37.781285Z"
    }
   },
   "cell_type": "code",
   "source": [
    "product_category_map = product_category_df.set_index(\"product_category_name\")[\n",
    "    \"product_category_name_english\"\n",
    "].to_dict()"
   ],
   "id": "1b533407711141e8",
   "outputs": [],
   "execution_count": 94
  },
  {
   "metadata": {
    "ExecuteTime": {
     "end_time": "2025-03-08T11:06:44.921452Z",
     "start_time": "2025-03-08T11:06:44.912103Z"
    }
   },
   "cell_type": "code",
   "source": [
    "product_category_map[\"unknown\"] = \"unknown\"\n",
    "products_df[\"product_category_name\"] = products_df[\"product_category_name\"].map(\n",
    "    product_category_map\n",
    ")"
   ],
   "id": "d8c7978907022566",
   "outputs": [],
   "execution_count": 96
  },
  {
   "metadata": {
    "ExecuteTime": {
     "end_time": "2025-03-08T11:13:00.143395Z",
     "start_time": "2025-03-08T11:13:00.130793Z"
    }
   },
   "cell_type": "code",
   "source": "products_df[\"product_category_name\"].value_counts()",
   "id": "a71aac489c377433",
   "outputs": [
    {
     "data": {
      "text/plain": [
       "product_category_name\n",
       "bed_bath_table               3029\n",
       "sports_leisure               2867\n",
       "furniture_decor              2657\n",
       "health_beauty                2444\n",
       "housewares                   2335\n",
       "                             ... \n",
       "tablets_printing_image          9\n",
       "fashion_childrens_clothes       5\n",
       "home_comfort_2                  5\n",
       "security_and_services           2\n",
       "cds_dvds_musicals               1\n",
       "Name: count, Length: 72, dtype: int64"
      ]
     },
     "execution_count": 114,
     "metadata": {},
     "output_type": "execute_result"
    }
   ],
   "execution_count": 114
  },
  {
   "metadata": {
    "ExecuteTime": {
     "end_time": "2025-03-08T11:13:09.850470Z",
     "start_time": "2025-03-08T11:13:09.844027Z"
    }
   },
   "cell_type": "code",
   "source": "dim_products = products_df",
   "id": "f0388370e25cd350",
   "outputs": [],
   "execution_count": 115
  },
  {
   "metadata": {
    "ExecuteTime": {
     "end_time": "2025-03-08T11:16:22.037927Z",
     "start_time": "2025-03-08T11:16:22.031886Z"
    }
   },
   "cell_type": "code",
   "source": [
    "dim_dates = pd.DataFrame(\n",
    "    pd.date_range(start=\"2016-01-01\", end=\"2018-12-31\"), columns=[\"date\"]\n",
    ")"
   ],
   "id": "e8358105725e6319",
   "outputs": [],
   "execution_count": 119
  },
  {
   "metadata": {
    "ExecuteTime": {
     "end_time": "2025-03-08T11:25:17.499645Z",
     "start_time": "2025-03-08T11:25:17.476260Z"
    }
   },
   "cell_type": "code",
   "source": [
    "dim_dates[\"quarter\"] = dim_dates.date.dt.quarter\n",
    "dim_dates[\"month\"] = dim_dates.date.dt.month\n",
    "dim_dates[\"year\"] = dim_dates.date.dt.year\n",
    "dim_dates[\"week_by_year\"] = dim_dates.date.dt.strftime(\"%W\").astype(int)\n",
    "dim_dates[\"day\"] = dim_dates.date.dt.day\n",
    "dim_dates[\"weekday\"] = dim_dates.date.dt.weekday\n",
    "dim_dates[\"weekday_name\"] = dim_dates.date.dt.day_name()"
   ],
   "id": "e92e4fb281bfad7a",
   "outputs": [],
   "execution_count": 133
  },
  {
   "metadata": {
    "ExecuteTime": {
     "end_time": "2025-03-08T12:01:03.035833Z",
     "start_time": "2025-03-08T12:01:03.025510Z"
    }
   },
   "cell_type": "code",
   "source": "dim_dates.head()",
   "id": "cbf07767b2656b8f",
   "outputs": [
    {
     "data": {
      "text/plain": [
       "        date  quarter  month  year  week_by_year  day  weekday weekday_name\n",
       "0 2016-01-01        1      1  2016             0    1        4       Friday\n",
       "1 2016-01-02        1      1  2016             0    2        5     Saturday\n",
       "2 2016-01-03        1      1  2016             0    3        6       Sunday\n",
       "3 2016-01-04        1      1  2016             1    4        0       Monday\n",
       "4 2016-01-05        1      1  2016             1    5        1      Tuesday"
      ],
      "text/html": [
       "<div>\n",
       "<style scoped>\n",
       "    .dataframe tbody tr th:only-of-type {\n",
       "        vertical-align: middle;\n",
       "    }\n",
       "\n",
       "    .dataframe tbody tr th {\n",
       "        vertical-align: top;\n",
       "    }\n",
       "\n",
       "    .dataframe thead th {\n",
       "        text-align: right;\n",
       "    }\n",
       "</style>\n",
       "<table border=\"1\" class=\"dataframe\">\n",
       "  <thead>\n",
       "    <tr style=\"text-align: right;\">\n",
       "      <th></th>\n",
       "      <th>date</th>\n",
       "      <th>quarter</th>\n",
       "      <th>month</th>\n",
       "      <th>year</th>\n",
       "      <th>week_by_year</th>\n",
       "      <th>day</th>\n",
       "      <th>weekday</th>\n",
       "      <th>weekday_name</th>\n",
       "    </tr>\n",
       "  </thead>\n",
       "  <tbody>\n",
       "    <tr>\n",
       "      <th>0</th>\n",
       "      <td>2016-01-01</td>\n",
       "      <td>1</td>\n",
       "      <td>1</td>\n",
       "      <td>2016</td>\n",
       "      <td>0</td>\n",
       "      <td>1</td>\n",
       "      <td>4</td>\n",
       "      <td>Friday</td>\n",
       "    </tr>\n",
       "    <tr>\n",
       "      <th>1</th>\n",
       "      <td>2016-01-02</td>\n",
       "      <td>1</td>\n",
       "      <td>1</td>\n",
       "      <td>2016</td>\n",
       "      <td>0</td>\n",
       "      <td>2</td>\n",
       "      <td>5</td>\n",
       "      <td>Saturday</td>\n",
       "    </tr>\n",
       "    <tr>\n",
       "      <th>2</th>\n",
       "      <td>2016-01-03</td>\n",
       "      <td>1</td>\n",
       "      <td>1</td>\n",
       "      <td>2016</td>\n",
       "      <td>0</td>\n",
       "      <td>3</td>\n",
       "      <td>6</td>\n",
       "      <td>Sunday</td>\n",
       "    </tr>\n",
       "    <tr>\n",
       "      <th>3</th>\n",
       "      <td>2016-01-04</td>\n",
       "      <td>1</td>\n",
       "      <td>1</td>\n",
       "      <td>2016</td>\n",
       "      <td>1</td>\n",
       "      <td>4</td>\n",
       "      <td>0</td>\n",
       "      <td>Monday</td>\n",
       "    </tr>\n",
       "    <tr>\n",
       "      <th>4</th>\n",
       "      <td>2016-01-05</td>\n",
       "      <td>1</td>\n",
       "      <td>1</td>\n",
       "      <td>2016</td>\n",
       "      <td>1</td>\n",
       "      <td>5</td>\n",
       "      <td>1</td>\n",
       "      <td>Tuesday</td>\n",
       "    </tr>\n",
       "  </tbody>\n",
       "</table>\n",
       "</div>"
      ]
     },
     "execution_count": 151,
     "metadata": {},
     "output_type": "execute_result"
    }
   ],
   "execution_count": 151
  },
  {
   "metadata": {},
   "cell_type": "code",
   "outputs": [],
   "execution_count": null,
   "source": "",
   "id": "e2c6f54d1e9821f9"
  }
 ],
 "metadata": {
  "kernelspec": {
   "display_name": ".venv",
   "language": "python",
   "name": "python3"
  },
  "language_info": {
   "codemirror_mode": {
    "name": "ipython",
    "version": 3
   },
   "file_extension": ".py",
   "mimetype": "text/x-python",
   "name": "python",
   "nbconvert_exporter": "python",
   "pygments_lexer": "ipython3",
   "version": "3.13.2"
  }
 },
 "nbformat": 4,
 "nbformat_minor": 5
}
